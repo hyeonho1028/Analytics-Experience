{
 "cells": [
  {
   "cell_type": "code",
   "execution_count": 1,
   "metadata": {},
   "outputs": [
    {
     "name": "stdout",
     "output_type": "stream",
     "text": [
      "Using config file config1\n"
     ]
    }
   ],
   "source": [
    "import sys\n",
    "import importlib\n",
    "from types import SimpleNamespace\n",
    "import matplotlib.pyplot as plt\n",
    "from tqdm import tqdm\n",
    "from scipy.special import softmax\n",
    "from joblib import Parallel, delayed\n",
    "# import seaborn as sns\n",
    "import scipy as sp\n",
    "\n",
    "import warnings\n",
    "warnings.filterwarnings(\"ignore\")\n",
    "\n",
    "sys.path.append(\"/home/hhl/바탕화면/dacon/dacon21/model/using_cofing\")\n",
    "# sys.argv = ['--config', 'config1_try']\n",
    "sys.argv = ['--config', 'config1']\n",
    "\n",
    "from models import *\n",
    "from loss import *\n",
    "from run import *\n",
    "from utils import *"
   ]
  },
  {
   "cell_type": "code",
   "execution_count": 2,
   "metadata": {},
   "outputs": [],
   "source": [
    "class config6:\n",
    "    DEBUG=False\n",
    "    num_workers=8\n",
    "    gpus='0'\n",
    "    distributed_backend=None\n",
    "    sync_batchnorm=True\n",
    "    gradient_accumulation_steps=4\n",
    "    precision=16\n",
    "    warmup_epo=1\n",
    "    cosine_epo=19\n",
    "    lr=0.002\n",
    "    weight_decay=0.0001\n",
    "    p_trainable=True\n",
    "    crit='bce'\n",
    "    backbone='tf_efficientnet_b1_ns'\n",
    "    embedding_size=512\n",
    "    pool='gem'\n",
    "    arcface_s=45.0\n",
    "    arcface_m=0.4\n",
    "    neck='option-D'\n",
    "    head='arc_margin'\n",
    "    pretrained_weights=None\n",
    "    optim='sgd'\n",
    "    batch_size=9\n",
    "    n_splits=5\n",
    "    fold=0\n",
    "    seed=9999\n",
    "    device='cuda:0'\n",
    "    out_dim=1049\n",
    "    n_classes=1049\n",
    "    class_weights='log'\n",
    "    class_weights_norm='batch'\n",
    "    normalization='imagenet'\n",
    "    crop_size=448\n",
    "    model='/home/hhl/바탕화면/dacon/dacon21/model/config6/tf_efficientnet_b1_ns_best_fold_0.pth'"
   ]
  },
  {
   "cell_type": "code",
   "execution_count": 3,
   "metadata": {},
   "outputs": [],
   "source": [
    "class LMDataset(Dataset): \n",
    "    def __init__(self, csv): \n",
    "        self.csv = csv.filepath.values\n",
    "    def __getitem__(self, index):\n",
    "        img_path = self.csv[index]\n",
    "        img = cv2.imread(img_path)\n",
    "        img = cv2.cvtColor(img, cv2.COLOR_BGR2RGB)\n",
    "\n",
    "\n",
    "        img2 = val_aug2(image=img)['image'].astype(np.float32)\n",
    "        img2 = self.normalize_img(img2)\n",
    "        tensor2 = self.to_torch_tensor(img2)\n",
    "        feature_dict2 = {'idx':torch.tensor(index).long(), 'input':tensor2}\n",
    "\n",
    "\n",
    "        return feature_dict2\n",
    "\n",
    "    def __len__(self): \n",
    "        return len(self.csv)\n",
    "    def normalize_img(self,img):\n",
    "        mean = np.array([123.675, 116.28 , 103.53 ], dtype=np.float32)\n",
    "        std = np.array([58.395   , 57.120, 57.375 ], dtype=np.float32)\n",
    "        img = img.astype(np.float32)\n",
    "        img -= mean\n",
    "        img *= np.reciprocal(std, dtype=np.float32)\n",
    "        return img\n",
    "    def to_torch_tensor(self,img):\n",
    "        return torch.from_numpy(img.transpose((2, 0, 1)))"
   ]
  },
  {
   "cell_type": "code",
   "execution_count": 4,
   "metadata": {},
   "outputs": [],
   "source": [
    "val_aug2 = A.Compose([\n",
    "        A.ImageCompression(quality_lower=99, quality_upper=100),    \n",
    "        A.Resize(512, 512),\n",
    "    ])"
   ]
  },
  {
   "cell_type": "code",
   "execution_count": 5,
   "metadata": {},
   "outputs": [],
   "source": [
    "set_seed(0)\n",
    "train = pd.read_csv('../data/public/train.csv')\n",
    "train['filepath'] = [os.path.join('../data/train', str(lm_id), str(id)+'.JPG') for lm_id, id in zip(train['landmark_id'], train['id'])]\n",
    "sub = pd.read_csv('../data/public/sample_submission.csv')\n",
    "sub['filepath'] = [os.path.join('../data/public/test', id, folder+'.JPG') for id, folder in zip(sub['id'].apply(lambda x: x[0]), sub['id'])]\n",
    "\n",
    "train_dataset = LMDataset(train)\n",
    "train_loader = DataLoader(dataset=train_dataset, batch_size=36, num_workers=8, shuffle=False, pin_memory=True)\n",
    "\n",
    "test_dataset = LMDataset(sub)\n",
    "test_loader = DataLoader(dataset=test_dataset, batch_size=36, num_workers=8, shuffle=False, pin_memory=True)"
   ]
  },
  {
   "cell_type": "code",
   "execution_count": 6,
   "metadata": {},
   "outputs": [
    {
     "data": {
      "text/plain": [
       "<All keys matched successfully>"
      ]
     },
     "execution_count": 6,
     "metadata": {},
     "output_type": "execute_result"
    }
   ],
   "source": [
    "model6 = Net(config6)\n",
    "model6 = model6.to('cuda:0')\n",
    "model6.load_state_dict(torch.load(config6.model))"
   ]
  },
  {
   "cell_type": "code",
   "execution_count": 7,
   "metadata": {},
   "outputs": [
    {
     "name": "stderr",
     "output_type": "stream",
     "text": [
      "100%|██████████| 2448/2448 [06:08<00:00,  6.64it/s]\n"
     ]
    }
   ],
   "source": [
    "from tqdm import tqdm\n",
    "CLS_TOP_K=1\n",
    "TOP_K=1\n",
    "model6.eval()\n",
    "\n",
    "with torch.no_grad():\n",
    "    feats = []\n",
    "    for batch2 in tqdm(train_loader):\n",
    "        batch2['input'] = batch2['input'].to('cuda:0')\n",
    "        \n",
    "        output_dict6 = model6(batch2, get_embeddings=True)\n",
    "        \n",
    "        feat = output_dict6['embeddings']\n",
    "        feats.append(feat.detach().cpu())\n",
    "    else:\n",
    "        feats = torch.cat(feats)\n",
    "        feats = feats.to('cuda:0')\n",
    "        feats = F.normalize(feats)\n",
    "        \n",
    "#     PRODS = []\n",
    "#     PREDS = []\n",
    "#     PRODS_M = []\n",
    "#     PREDS_M = []     \n",
    "    \n",
    "#     for batch2 in tqdm(test_loader):\n",
    "#         batch2['input'] = batch2['input'].to('cuda:0')\n",
    "        \n",
    "#         output_dict = model6(batch2, get_embeddings=True) ; logits += output_dict['logits'] ; embeddings6 = output_dict['embedding']\n",
    "#         feat = embeddings6\n",
    "#         feat = F.normalize(feat)\n",
    "        \n",
    "#         (values, indices) = torch.topk(logits, CLS_TOP_K, dim=1)\n",
    "#         probs_m = values\n",
    "#         preds_m = indices  \n",
    "        \n",
    "#         PRODS_M.append(probs_m.detach().cpu())\n",
    "#         PREDS_M.append(preds_m.detach().cpu())  \n",
    "        \n",
    "#         distance = feat.mm(feats.t())\n",
    "#         (values, indices) = torch.topk(distance, TOP_K, dim=1)\n",
    "#         probs = values\n",
    "#         preds = indices\n",
    "#         PRODS.append(probs.detach().cpu())\n",
    "#         PREDS.append(preds.detach().cpu())\n",
    "        \n",
    "#     PRODS = torch.cat(PRODS).numpy()\n",
    "#     PREDS = torch.cat(PREDS).numpy()\n",
    "#     PRODS_M = torch.cat(PRODS_M).numpy()\n",
    "#     PREDS_M = torch.cat(PREDS_M).numpy()"
   ]
  },
  {
   "cell_type": "code",
   "execution_count": 14,
   "metadata": {},
   "outputs": [],
   "source": [
    "def cos_similarity_matrix(a, b, eps=1e-8):\n",
    "    a = a.to('cpu')\n",
    "    b = b.to('cpu')\n",
    "    \n",
    "    a_n, b_n = a.norm(dim=1)[:, None], b.norm(dim=1)[:, None]\n",
    "    a_norm = a / torch.max(a_n, eps * torch.ones_like(a_n))\n",
    "    b_norm = b / torch.max(b_n, eps * torch.ones_like(b_n))\n",
    "    sim_mt = torch.mm(a_norm, b_norm.transpose(0, 1))\n",
    "    return sim_mt"
   ]
  },
  {
   "cell_type": "code",
   "execution_count": 15,
   "metadata": {},
   "outputs": [],
   "source": [
    "t_c = train['landmark_id'].value_counts()\n",
    "df = pd.DataFrame(train['landmark_id'].unique())\n",
    "df = pd.merge(df, t_c, how='left', left_on=0, right_index=True)\n",
    "df['count_cumsum'] = df['landmark_id'].cumsum()"
   ]
  },
  {
   "cell_type": "code",
   "execution_count": 60,
   "metadata": {},
   "outputs": [],
   "source": [
    "csm_dict = {}\n",
    "for idx, cc in enumerate(df['count_cumsum']):\n",
    "    if idx==0:\n",
    "        csm = cos_similarity_matrix(feats[:cc], feats[:cc])\n",
    "    else:\n",
    "        prior_cc = df.loc[idx-1, 'count_cumsum']\n",
    "        csm = cos_similarity_matrix(feats[prior_cc:cc], feats[prior_cc:cc])\n",
    "        \n",
    "    csm_dict[df.loc[idx, 0]]=csm"
   ]
  },
  {
   "cell_type": "code",
   "execution_count": 66,
   "metadata": {},
   "outputs": [],
   "source": [
    "rm_sm = {}\n",
    "threshold = 0.9\n",
    "prior_cc = 0\n",
    "for id in csm_dict.keys():\n",
    "    rm_sm_list = []\n",
    "    while True:\n",
    "        if (csm_dict[id]<10).sum()==(csm_dict[id]>threshold).sum():\n",
    "            break\n",
    "        else:\n",
    "            rm_idx = np.argmin((csm_dict[id]>threshold).sum(1))\n",
    "            rm_sm_list.append(rm_idx)\n",
    "            csm_dict[id] = np.delete(csm_dict[id], rm_idx, axis=0)\n",
    "            csm_dict[id] = np.delete(csm_dict[id], rm_idx, axis=1)\n",
    "    rm_sm[id] = rm_sm_list"
   ]
  },
  {
   "cell_type": "code",
   "execution_count": 67,
   "metadata": {},
   "outputs": [
    {
     "data": {
      "text/plain": [
       "36039"
      ]
     },
     "execution_count": 67,
     "metadata": {},
     "output_type": "execute_result"
    }
   ],
   "source": [
    "# count delete image\n",
    "len([j for i in rm_sm.values() for j in i])"
   ]
  },
  {
   "cell_type": "code",
   "execution_count": 68,
   "metadata": {},
   "outputs": [],
   "source": [
    "new_train = pd.DataFrame()\n",
    "\n",
    "for id in rm_sm.keys():\n",
    "    trn_idx = train[train['landmark_id']==id].index\n",
    "    new_train = pd.concat([new_train, train.loc[np.delete(trn_idx, rm_sm[id])]])\n",
    "else:\n",
    "    new_train = new_train.reset_index(drop=True)"
   ]
  },
  {
   "cell_type": "code",
   "execution_count": 70,
   "metadata": {},
   "outputs": [
    {
     "data": {
      "text/plain": [
       "90"
      ]
     },
     "execution_count": 70,
     "metadata": {},
     "output_type": "execute_result"
    }
   ],
   "source": [
    "len(os.listdir('../data/train/398'))"
   ]
  },
  {
   "cell_type": "code",
   "execution_count": 71,
   "metadata": {},
   "outputs": [
    {
     "data": {
      "text/plain": [
       "398     85\n",
       "973     85\n",
       "422     85\n",
       "1032    84\n",
       "586     84\n",
       "        ..\n",
       "291     43\n",
       "103     43\n",
       "428     42\n",
       "744     41\n",
       "8       39\n",
       "Name: landmark_id, Length: 1049, dtype: int64"
      ]
     },
     "execution_count": 71,
     "metadata": {},
     "output_type": "execute_result"
    }
   ],
   "source": [
    "new_train['landmark_id'].value_counts()"
   ]
  },
  {
   "cell_type": "code",
   "execution_count": 72,
   "metadata": {},
   "outputs": [],
   "source": [
    "new_train.to_csv('../data/public/new_train.csv', index=False)"
   ]
  },
  {
   "cell_type": "code",
   "execution_count": 6,
   "metadata": {},
   "outputs": [],
   "source": [
    "sub = pd.read_csv('../submit/baseline_9.csv')\n",
    "\n",
    "sub.loc[37931, 'landmark_id']=901\n",
    "sub.loc[299, 'landmark_id']=275\n",
    "sub.loc[301, 'landmark_id']=275\n",
    "sub.loc[605, 'landmark_id']=120\n",
    "sub.loc[939, 'landmark_id']=666\n",
    "sub.loc[956, 'landmark_id']=671\n",
    "sub.loc[1705:1730, 'landmark_id']=751\n",
    "sub.loc[1776, 'landmark_id']=909\n",
    "sub.loc[1825, 'landmark_id']=159\n",
    "sub.loc[2065, 'landmark_id']=348\n",
    "sub.loc[1745, 'landmark_id']=513\n",
    "sub.loc[3154:3163, 'landmark_id']=487\n",
    "sub.loc[3213:3221, 'landmark_id']=470\n",
    "sub.loc[3811:3847, 'landmark_id']=1046\n",
    "sub.loc[1825, 'landmark_id']=606\n",
    "sub.loc[2487, 'landmark_id']=646\n",
    "sub.loc[2892:2927, 'landmark_id']=988\n",
    "sub.loc[1902, 'landmark_id']=579\n",
    "sub.loc[12223:12262, 'landmark_id']=543\n",
    "sub.loc[2744, 'landmark_id']=812\n",
    "sub.loc[2488, 'landmark_id']=646\n",
    "sub.loc[3202, 'landmark_id']=470\n",
    "sub.loc[3008, 'landmark_id']=292\n",
    "sub.loc[2155:2164, 'landmark_id']=617\n",
    "sub.loc[4259, 'landmark_id']=578\n",
    "sub.loc[3252, 'landmark_id']=219\n",
    "sub.loc[3807, 'landmark_id']=838\n",
    "sub.loc[4368:4383, 'landmark_id']=868\n",
    "sub.loc[4777, 'landmark_id']=64\n",
    "sub.loc[5382:5401, 'landmark_id']=312\n",
    "sub.loc[3510, 'landmark_id']=826\n",
    "sub.loc[4086:4094, 'landmark_id']=398\n",
    "sub.loc[5204, 'landmark_id']=589\n",
    "sub.loc[5836, 'landmark_id']=1023\n",
    "sub.loc[3289, 'landmark_id']=109\n",
    "sub.loc[34109, 'landmark_id']=2\n",
    "sub.loc[6628, 'landmark_id']=795\n",
    "sub.loc[4866, 'landmark_id']=176\n",
    "sub.loc[6882, 'landmark_id']=27\n",
    "sub.loc[16638:16671, 'landmark_id']=40\n",
    "sub.loc[16009:16043, 'landmark_id']=892\n",
    "sub.loc[16048:16076, 'landmark_id']=861\n",
    "sub.loc[21474, 'landmark_id']=66\n",
    "sub.loc[21489:21528, 'landmark_id']=502\n",
    "sub.loc[36193:36212, 'landmark_id']=236\n",
    "sub.loc[19344:19358, 'landmark_id']=488\n",
    "sub.loc[11882, 'landmark_id']=1008\n",
    "sub.loc[36980:36987, 'landmark_id']=29\n",
    "sub.loc[24477, 'landmark_id']=10\n",
    "sub.loc[16323:16338, 'landmark_id']=136\n",
    "sub.loc[7392, 'landmark_id']=437\n",
    "sub.loc[14800:14806, 'landmark_id']=616\n",
    "sub.loc[19331, 'landmark_id']=488\n",
    "sub.loc[37440:37474, 'landmark_id']=38\n",
    "sub.loc[19373, 'landmark_id']=757\n",
    "sub.loc[15640:15675, 'landmark_id']=371\n",
    "sub.loc[25803:25833, 'landmark_id']=771\n",
    "sub.loc[30633:30678, 'landmark_id']=763\n",
    "sub.loc[17764, 'landmark_id']=539\n",
    "sub.loc[17172, 'landmark_id']=105\n",
    "sub.loc[19420, 'landmark_id']=258\n",
    "sub.loc[20568, 'landmark_id']=710\n",
    "sub.loc[13187, 'landmark_id']=538\n",
    "sub.loc[28293:28296, 'landmark_id']=90\n",
    "sub.loc[37072, 'landmark_id']=607\n",
    "sub.loc[35413:35435, 'landmark_id']=595\n",
    "sub.loc[34776, 'landmark_id']=297\n",
    "sub.loc[33846:33848, 'landmark_id']=32\n",
    "sub.loc[37556, 'landmark_id']=998\n",
    "sub.loc[35557, 'landmark_id']=982\n",
    "sub.loc[33040, 'landmark_id']=867\n",
    "sub.loc[33174, 'landmark_id']=107\n",
    "sub.loc[30500, 'landmark_id']=246\n",
    "sub.loc[27948, 'landmark_id']=328\n",
    "sub.loc[33198, 'landmark_id']=107\n",
    "sub.loc[31883, 'landmark_id']=153\n",
    "sub.loc[31885, 'landmark_id']=153\n",
    "sub.loc[26452, 'landmark_id']=447\n",
    "sub.loc[25295, 'landmark_id']=253\n",
    "sub.loc[1879:1880, 'landmark_id']=579\n",
    "\n",
    "\n",
    "sub2 = sub[sub['landmark_id'].diff()!=0]\n",
    "sub3 = sub2[sub2['landmark_id'].isin(sub2['landmark_id'].value_counts()[sub2['landmark_id'].value_counts()!=1].index)]"
   ]
  },
  {
   "cell_type": "code",
   "execution_count": 718,
   "metadata": {},
   "outputs": [
    {
     "data": {
      "text/html": [
       "<div>\n",
       "<style scoped>\n",
       "    .dataframe tbody tr th:only-of-type {\n",
       "        vertical-align: middle;\n",
       "    }\n",
       "\n",
       "    .dataframe tbody tr th {\n",
       "        vertical-align: top;\n",
       "    }\n",
       "\n",
       "    .dataframe thead th {\n",
       "        text-align: right;\n",
       "    }\n",
       "</style>\n",
       "<table border=\"1\" class=\"dataframe\">\n",
       "  <thead>\n",
       "    <tr style=\"text-align: right;\">\n",
       "      <th></th>\n",
       "      <th>id</th>\n",
       "      <th>landmark_id</th>\n",
       "      <th>conf</th>\n",
       "    </tr>\n",
       "  </thead>\n",
       "  <tbody>\n",
       "    <tr>\n",
       "      <th>0</th>\n",
       "      <td>xlf1tgh2ih</td>\n",
       "      <td>956</td>\n",
       "      <td>0.504824</td>\n",
       "    </tr>\n",
       "    <tr>\n",
       "      <th>1</th>\n",
       "      <td>68a3ot4osk</td>\n",
       "      <td>956</td>\n",
       "      <td>0.469569</td>\n",
       "    </tr>\n",
       "    <tr>\n",
       "      <th>2</th>\n",
       "      <td>si2lek4u0a</td>\n",
       "      <td>956</td>\n",
       "      <td>0.209661</td>\n",
       "    </tr>\n",
       "    <tr>\n",
       "      <th>3</th>\n",
       "      <td>rmtqxhipnv</td>\n",
       "      <td>956</td>\n",
       "      <td>0.364817</td>\n",
       "    </tr>\n",
       "    <tr>\n",
       "      <th>4</th>\n",
       "      <td>2flmjdud0e</td>\n",
       "      <td>956</td>\n",
       "      <td>0.599650</td>\n",
       "    </tr>\n",
       "    <tr>\n",
       "      <th>...</th>\n",
       "      <td>...</td>\n",
       "      <td>...</td>\n",
       "      <td>...</td>\n",
       "    </tr>\n",
       "    <tr>\n",
       "      <th>37959</th>\n",
       "      <td>8nlfrrdnwk</td>\n",
       "      <td>901</td>\n",
       "      <td>0.385468</td>\n",
       "    </tr>\n",
       "    <tr>\n",
       "      <th>37960</th>\n",
       "      <td>k0w00aa3iy</td>\n",
       "      <td>901</td>\n",
       "      <td>0.428705</td>\n",
       "    </tr>\n",
       "    <tr>\n",
       "      <th>37961</th>\n",
       "      <td>xrp8d0pb85</td>\n",
       "      <td>901</td>\n",
       "      <td>0.499425</td>\n",
       "    </tr>\n",
       "    <tr>\n",
       "      <th>37962</th>\n",
       "      <td>uobnsz7na9</td>\n",
       "      <td>901</td>\n",
       "      <td>0.256282</td>\n",
       "    </tr>\n",
       "    <tr>\n",
       "      <th>37963</th>\n",
       "      <td>4if3rbcf2d</td>\n",
       "      <td>901</td>\n",
       "      <td>0.430120</td>\n",
       "    </tr>\n",
       "  </tbody>\n",
       "</table>\n",
       "<p>37894 rows × 3 columns</p>\n",
       "</div>"
      ],
      "text/plain": [
       "               id  landmark_id      conf\n",
       "0      xlf1tgh2ih          956  0.504824\n",
       "1      68a3ot4osk          956  0.469569\n",
       "2      si2lek4u0a          956  0.209661\n",
       "3      rmtqxhipnv          956  0.364817\n",
       "4      2flmjdud0e          956  0.599650\n",
       "...           ...          ...       ...\n",
       "37959  8nlfrrdnwk          901  0.385468\n",
       "37960  k0w00aa3iy          901  0.428705\n",
       "37961  xrp8d0pb85          901  0.499425\n",
       "37962  uobnsz7na9          901  0.256282\n",
       "37963  4if3rbcf2d          901  0.430120\n",
       "\n",
       "[37894 rows x 3 columns]"
      ]
     },
     "execution_count": 718,
     "metadata": {},
     "output_type": "execute_result"
    }
   ],
   "source": [
    "sub.drop(sub3.index)"
   ]
  },
  {
   "cell_type": "code",
   "execution_count": null,
   "metadata": {},
   "outputs": [],
   "source": [
    "[ 2465,  2928,  3012,  3154,  3227,  3467,  3811,  3966,  4083,\n",
    " 6549,  6627,  6647,  6648,  6649,  6848,  7615,  8276,  8383,\n",
    " 8389,  8390,  9254, 10412, 10506, 12295, 12302, 12303, 12393,\n",
    "12415, 12416, 12419, 12420, 12707, 12893, 13516, 13539, 13540,\n",
    "14783, 14820, 16638, 17754, 17797, 17798, 19256, 19396, 19407,\n",
    "19408, 20360, 21053, 21488, 25288, 25302, 25303, 25871, 26154,\n",
    "27780, 27801, 27802, 27803, 27820, 28217, 28248, 28249, 28387,\n",
    "28388, 30633, 33507, 33634, 34952, 36193, 37617]"
   ]
  },
  {
   "cell_type": "code",
   "execution_count": null,
   "metadata": {},
   "outputs": [],
   "source": []
  },
  {
   "cell_type": "code",
   "execution_count": null,
   "metadata": {},
   "outputs": [],
   "source": []
  },
  {
   "cell_type": "code",
   "execution_count": 455,
   "metadata": {},
   "outputs": [],
   "source": [
    "pd.options.display.max_rows = 400\n",
    "# pd.options.display.max_s = 100"
   ]
  },
  {
   "cell_type": "code",
   "execution_count": null,
   "metadata": {},
   "outputs": [],
   "source": []
  },
  {
   "cell_type": "code",
   "execution_count": null,
   "metadata": {},
   "outputs": [],
   "source": []
  },
  {
   "cell_type": "code",
   "execution_count": null,
   "metadata": {},
   "outputs": [],
   "source": []
  },
  {
   "cell_type": "code",
   "execution_count": null,
   "metadata": {},
   "outputs": [],
   "source": []
  },
  {
   "cell_type": "code",
   "execution_count": null,
   "metadata": {},
   "outputs": [],
   "source": []
  },
  {
   "cell_type": "code",
   "execution_count": 17,
   "metadata": {},
   "outputs": [
    {
     "data": {
      "text/plain": [
       "array([[0.9681861 , 0.9588182 , 0.95706064, 0.95588136, 0.95040643],\n",
       "       [0.96667993, 0.9472121 , 0.9447556 , 0.9408512 , 0.94078714],\n",
       "       [0.9377258 , 0.912168  , 0.90437233, 0.88918334, 0.88405263],\n",
       "       ...,\n",
       "       [0.9671086 , 0.96655184, 0.9575849 , 0.9565214 , 0.94599533],\n",
       "       [0.9174435 , 0.90726936, 0.90146875, 0.89430594, 0.89088726],\n",
       "       [0.9650006 , 0.9605202 , 0.9572787 , 0.94926447, 0.94199556]],\n",
       "      dtype=float32)"
      ]
     },
     "execution_count": 17,
     "metadata": {},
     "output_type": "execute_result"
    }
   ],
   "source": [
    "PRODS"
   ]
  },
  {
   "cell_type": "code",
   "execution_count": 18,
   "metadata": {},
   "outputs": [
    {
     "data": {
      "text/plain": [
       "array([[46165, 46223, 46177, 46178, 46214],\n",
       "       [46212, 46166, 46164, 46178, 46193],\n",
       "       [46179, 46204, 46238, 46212, 46206],\n",
       "       ...,\n",
       "       [87205, 87197, 87263, 87269, 87247],\n",
       "       [87230, 87197, 87205, 87269, 87263],\n",
       "       [87269, 87263, 87205, 87197, 87196]])"
      ]
     },
     "execution_count": 18,
     "metadata": {},
     "output_type": "execute_result"
    }
   ],
   "source": [
    "PREDS"
   ]
  },
  {
   "cell_type": "code",
   "execution_count": 19,
   "metadata": {},
   "outputs": [
    {
     "data": {
      "text/plain": [
       "array([[0.8262315 , 0.17035033, 0.16999641, 0.16363013, 0.16199456],\n",
       "       [0.8278582 , 0.16406849, 0.1602645 , 0.15817578, 0.15451196],\n",
       "       [0.79496634, 0.1899417 , 0.18392396, 0.17450395, 0.16595139],\n",
       "       ...,\n",
       "       [0.82473266, 0.24279721, 0.17697482, 0.1700898 , 0.16491812],\n",
       "       [0.8146967 , 0.22368771, 0.16808186, 0.15954326, 0.15771452],\n",
       "       [0.81549466, 0.2523113 , 0.16957906, 0.16657   , 0.16497181]],\n",
       "      dtype=float32)"
      ]
     },
     "execution_count": 19,
     "metadata": {},
     "output_type": "execute_result"
    }
   ],
   "source": [
    "PRODS_M"
   ]
  },
  {
   "cell_type": "code",
   "execution_count": 20,
   "metadata": {},
   "outputs": [
    {
     "data": {
      "text/plain": [
       "array([[ 956,  547,  674,  524,  184],\n",
       "       [ 956,  547,  524,  849, 1040],\n",
       "       [ 956,  184,  557,  547,  496],\n",
       "       ...,\n",
       "       [ 901,  675,  555,   94,  655],\n",
       "       [ 901,  675,  555,  613,   52],\n",
       "       [ 901,  675,  325,  856,  555]])"
      ]
     },
     "execution_count": 20,
     "metadata": {},
     "output_type": "execute_result"
    }
   ],
   "source": [
    "PREDS_M"
   ]
  },
  {
   "cell_type": "code",
   "execution_count": 21,
   "metadata": {},
   "outputs": [],
   "source": [
    "np.save('ensembles/PRODS.npy', PRODS)\n",
    "np.save('ensembles/PREDS.npy', PREDS)\n",
    "np.save('ensembles/PREDS_M.npy', PREDS_M)\n",
    "np.save('ensembles/PREDS_M.npy', PREDS_M)"
   ]
  },
  {
   "cell_type": "code",
   "execution_count": 22,
   "metadata": {},
   "outputs": [],
   "source": [
    "landmark = train['landmark_id'].values\n",
    "PREDS2 = landmark[PREDS]\n",
    "# PREDS_M = np.vectorize(idx2landmark_id.get)(PREDS_M)"
   ]
  },
  {
   "cell_type": "code",
   "execution_count": null,
   "metadata": {},
   "outputs": [],
   "source": [
    "with open(os.path.join(model_dir, 'idx2landmark_id.pkl'), 'rb') as fp:\n",
    "    idx2landmark_id = pickle.load(fp)\n",
    "    landmark_id2idx = {idx2landmark_id[idx]: idx for idx in idx2landmark_id.keys()}\n",
    "    \n",
    "pred_mask = pd.Series(df.landmark_id.unique()).map(landmark_id2idx).values"
   ]
  },
  {
   "cell_type": "code",
   "execution_count": 24,
   "metadata": {},
   "outputs": [],
   "source": [
    "np.vectorize(idx2landmark_id.get)"
   ]
  },
  {
   "cell_type": "code",
   "execution_count": 25,
   "metadata": {},
   "outputs": [
    {
     "data": {
      "text/plain": [
       "(0, 1048, 0, 1048)"
      ]
     },
     "execution_count": 25,
     "metadata": {},
     "output_type": "execute_result"
    }
   ],
   "source": [
    "PREDS2.min(), PREDS2.max(), PREDS_M.min(), PREDS_M.max()"
   ]
  },
  {
   "cell_type": "code",
   "execution_count": 26,
   "metadata": {},
   "outputs": [
    {
     "data": {
      "text/plain": [
       "array([[ 956,  547,  674,  524,  184],\n",
       "       [ 956,  547,  524,  849, 1040],\n",
       "       [ 956,  184,  557,  547,  496],\n",
       "       ...,\n",
       "       [ 901,  675,  555,   94,  655],\n",
       "       [ 901,  675,  555,  613,   52],\n",
       "       [ 901,  675,  325,  856,  555]])"
      ]
     },
     "execution_count": 26,
     "metadata": {},
     "output_type": "execute_result"
    }
   ],
   "source": [
    "PREDS_M"
   ]
  },
  {
   "cell_type": "code",
   "execution_count": 58,
   "metadata": {},
   "outputs": [
    {
     "data": {
      "text/plain": [
       "array([[956, 956, 956],\n",
       "       [956, 956, 956],\n",
       "       [956, 956, 956]])"
      ]
     },
     "execution_count": 58,
     "metadata": {},
     "output_type": "execute_result"
    }
   ],
   "source": [
    "PREDS2[:3,:]"
   ]
  },
  {
   "cell_type": "code",
   "execution_count": 27,
   "metadata": {},
   "outputs": [
    {
     "data": {
      "text/plain": [
       "array([[ 956,  547,  674,  524,  184],\n",
       "       [ 956,  547,  524,  849, 1040],\n",
       "       [ 956,  184,  557,  547,  496]])"
      ]
     },
     "execution_count": 27,
     "metadata": {},
     "output_type": "execute_result"
    }
   ],
   "source": [
    "PREDS_M[:3,:]"
   ]
  },
  {
   "cell_type": "code",
   "execution_count": 28,
   "metadata": {},
   "outputs": [
    {
     "data": {
      "text/plain": [
       "array([[0.9681861 , 0.9588182 , 0.95706064, 0.95588136, 0.95040643],\n",
       "       [0.96667993, 0.9472121 , 0.9447556 , 0.9408512 , 0.94078714],\n",
       "       [0.9377258 , 0.912168  , 0.90437233, 0.88918334, 0.88405263]],\n",
       "      dtype=float32)"
      ]
     },
     "execution_count": 28,
     "metadata": {},
     "output_type": "execute_result"
    }
   ],
   "source": [
    "PRODS[:3,:]"
   ]
  },
  {
   "cell_type": "code",
   "execution_count": 29,
   "metadata": {},
   "outputs": [
    {
     "data": {
      "text/plain": [
       "array([[0.8262315 , 0.17035033, 0.16999641, 0.16363013, 0.16199456],\n",
       "       [0.8278582 , 0.16406849, 0.1602645 , 0.15817578, 0.15451196],\n",
       "       [0.79496634, 0.1899417 , 0.18392396, 0.17450395, 0.16595139]],\n",
       "      dtype=float32)"
      ]
     },
     "execution_count": 29,
     "metadata": {},
     "output_type": "execute_result"
    }
   ],
   "source": [
    "PRODS_M[:3,:]"
   ]
  },
  {
   "cell_type": "code",
   "execution_count": 30,
   "metadata": {},
   "outputs": [
    {
     "name": "stderr",
     "output_type": "stream",
     "text": [
      "100%|██████████| 37964/37964 [00:00<00:00, 46493.55it/s]\n"
     ]
    }
   ],
   "source": [
    "PRODS_F = []\n",
    "PREDS_F = []\n",
    "for i in tqdm(range(PREDS2.shape[0])):\n",
    "    tmp = {}\n",
    "    classify_dict = {PREDS_M[i,j] : PRODS_M[i,j] for j in range(CLS_TOP_K)}\n",
    "    for k in range(TOP_K):\n",
    "        lid = PREDS2[i, k]\n",
    "        tmp[lid] = tmp.get(lid, 0.) + float(PRODS[i, k]) ** 9 * classify_dict.get(lid,1e-8)**10\n",
    "    pred, conf = max(tmp.items(), key=lambda x: x[1])\n",
    "    PREDS_F.append(pred)\n",
    "    PRODS_F.append(conf)"
   ]
  },
  {
   "cell_type": "code",
   "execution_count": 31,
   "metadata": {},
   "outputs": [],
   "source": [
    "sub['landmark_id']=PREDS_F\n",
    "sub['conf']=PRODS_F"
   ]
  },
  {
   "cell_type": "code",
   "execution_count": 32,
   "metadata": {},
   "outputs": [
    {
     "data": {
      "text/html": [
       "<div>\n",
       "<style scoped>\n",
       "    .dataframe tbody tr th:only-of-type {\n",
       "        vertical-align: middle;\n",
       "    }\n",
       "\n",
       "    .dataframe tbody tr th {\n",
       "        vertical-align: top;\n",
       "    }\n",
       "\n",
       "    .dataframe thead th {\n",
       "        text-align: right;\n",
       "    }\n",
       "</style>\n",
       "<table border=\"1\" class=\"dataframe\">\n",
       "  <thead>\n",
       "    <tr style=\"text-align: right;\">\n",
       "      <th></th>\n",
       "      <th>id</th>\n",
       "      <th>landmark_id</th>\n",
       "      <th>conf</th>\n",
       "      <th>filepath</th>\n",
       "    </tr>\n",
       "  </thead>\n",
       "  <tbody>\n",
       "    <tr>\n",
       "      <th>0</th>\n",
       "      <td>xlf1tgh2ih</td>\n",
       "      <td>956</td>\n",
       "      <td>0.504824</td>\n",
       "      <td>../data/public/test/x/xlf1tgh2ih.JPG</td>\n",
       "    </tr>\n",
       "    <tr>\n",
       "      <th>1</th>\n",
       "      <td>68a3ot4osk</td>\n",
       "      <td>956</td>\n",
       "      <td>0.469569</td>\n",
       "      <td>../data/public/test/6/68a3ot4osk.JPG</td>\n",
       "    </tr>\n",
       "    <tr>\n",
       "      <th>2</th>\n",
       "      <td>si2lek4u0a</td>\n",
       "      <td>956</td>\n",
       "      <td>0.209661</td>\n",
       "      <td>../data/public/test/s/si2lek4u0a.JPG</td>\n",
       "    </tr>\n",
       "    <tr>\n",
       "      <th>3</th>\n",
       "      <td>rmtqxhipnv</td>\n",
       "      <td>956</td>\n",
       "      <td>0.364817</td>\n",
       "      <td>../data/public/test/r/rmtqxhipnv.JPG</td>\n",
       "    </tr>\n",
       "    <tr>\n",
       "      <th>4</th>\n",
       "      <td>2flmjdud0e</td>\n",
       "      <td>956</td>\n",
       "      <td>0.599650</td>\n",
       "      <td>../data/public/test/2/2flmjdud0e.JPG</td>\n",
       "    </tr>\n",
       "    <tr>\n",
       "      <th>...</th>\n",
       "      <td>...</td>\n",
       "      <td>...</td>\n",
       "      <td>...</td>\n",
       "      <td>...</td>\n",
       "    </tr>\n",
       "    <tr>\n",
       "      <th>37959</th>\n",
       "      <td>8nlfrrdnwk</td>\n",
       "      <td>901</td>\n",
       "      <td>0.385468</td>\n",
       "      <td>../data/public/test/8/8nlfrrdnwk.JPG</td>\n",
       "    </tr>\n",
       "    <tr>\n",
       "      <th>37960</th>\n",
       "      <td>k0w00aa3iy</td>\n",
       "      <td>901</td>\n",
       "      <td>0.428705</td>\n",
       "      <td>../data/public/test/k/k0w00aa3iy.JPG</td>\n",
       "    </tr>\n",
       "    <tr>\n",
       "      <th>37961</th>\n",
       "      <td>xrp8d0pb85</td>\n",
       "      <td>901</td>\n",
       "      <td>0.499425</td>\n",
       "      <td>../data/public/test/x/xrp8d0pb85.JPG</td>\n",
       "    </tr>\n",
       "    <tr>\n",
       "      <th>37962</th>\n",
       "      <td>uobnsz7na9</td>\n",
       "      <td>901</td>\n",
       "      <td>0.256282</td>\n",
       "      <td>../data/public/test/u/uobnsz7na9.JPG</td>\n",
       "    </tr>\n",
       "    <tr>\n",
       "      <th>37963</th>\n",
       "      <td>4if3rbcf2d</td>\n",
       "      <td>901</td>\n",
       "      <td>0.430120</td>\n",
       "      <td>../data/public/test/4/4if3rbcf2d.JPG</td>\n",
       "    </tr>\n",
       "  </tbody>\n",
       "</table>\n",
       "<p>37964 rows × 4 columns</p>\n",
       "</div>"
      ],
      "text/plain": [
       "               id  landmark_id      conf                              filepath\n",
       "0      xlf1tgh2ih          956  0.504824  ../data/public/test/x/xlf1tgh2ih.JPG\n",
       "1      68a3ot4osk          956  0.469569  ../data/public/test/6/68a3ot4osk.JPG\n",
       "2      si2lek4u0a          956  0.209661  ../data/public/test/s/si2lek4u0a.JPG\n",
       "3      rmtqxhipnv          956  0.364817  ../data/public/test/r/rmtqxhipnv.JPG\n",
       "4      2flmjdud0e          956  0.599650  ../data/public/test/2/2flmjdud0e.JPG\n",
       "...           ...          ...       ...                                   ...\n",
       "37959  8nlfrrdnwk          901  0.385468  ../data/public/test/8/8nlfrrdnwk.JPG\n",
       "37960  k0w00aa3iy          901  0.428705  ../data/public/test/k/k0w00aa3iy.JPG\n",
       "37961  xrp8d0pb85          901  0.499425  ../data/public/test/x/xrp8d0pb85.JPG\n",
       "37962  uobnsz7na9          901  0.256282  ../data/public/test/u/uobnsz7na9.JPG\n",
       "37963  4if3rbcf2d          901  0.430120  ../data/public/test/4/4if3rbcf2d.JPG\n",
       "\n",
       "[37964 rows x 4 columns]"
      ]
     },
     "execution_count": 32,
     "metadata": {},
     "output_type": "execute_result"
    }
   ],
   "source": [
    "sub"
   ]
  },
  {
   "cell_type": "code",
   "execution_count": 33,
   "metadata": {},
   "outputs": [],
   "source": [
    "sub.drop(columns=['filepath']).to_csv('../submit/baseline_9.csv', index=False)"
   ]
  },
  {
   "cell_type": "code",
   "execution_count": 72,
   "metadata": {},
   "outputs": [
    {
     "data": {
      "text/html": [
       "<div>\n",
       "<style scoped>\n",
       "    .dataframe tbody tr th:only-of-type {\n",
       "        vertical-align: middle;\n",
       "    }\n",
       "\n",
       "    .dataframe tbody tr th {\n",
       "        vertical-align: top;\n",
       "    }\n",
       "\n",
       "    .dataframe thead th {\n",
       "        text-align: right;\n",
       "    }\n",
       "</style>\n",
       "<table border=\"1\" class=\"dataframe\">\n",
       "  <thead>\n",
       "    <tr style=\"text-align: right;\">\n",
       "      <th></th>\n",
       "      <th>id</th>\n",
       "      <th>landmark_id</th>\n",
       "      <th>conf</th>\n",
       "      <th>filepath</th>\n",
       "    </tr>\n",
       "  </thead>\n",
       "  <tbody>\n",
       "    <tr>\n",
       "      <th>0</th>\n",
       "      <td>xlf1tgh2ih</td>\n",
       "      <td>956</td>\n",
       "      <td>0.335313</td>\n",
       "      <td>../data/public/test/x/xlf1tgh2ih.JPG</td>\n",
       "    </tr>\n",
       "    <tr>\n",
       "      <th>1</th>\n",
       "      <td>68a3ot4osk</td>\n",
       "      <td>956</td>\n",
       "      <td>0.302072</td>\n",
       "      <td>../data/public/test/6/68a3ot4osk.JPG</td>\n",
       "    </tr>\n",
       "    <tr>\n",
       "      <th>2</th>\n",
       "      <td>si2lek4u0a</td>\n",
       "      <td>956</td>\n",
       "      <td>0.187452</td>\n",
       "      <td>../data/public/test/s/si2lek4u0a.JPG</td>\n",
       "    </tr>\n",
       "    <tr>\n",
       "      <th>3</th>\n",
       "      <td>rmtqxhipnv</td>\n",
       "      <td>956</td>\n",
       "      <td>0.250135</td>\n",
       "      <td>../data/public/test/r/rmtqxhipnv.JPG</td>\n",
       "    </tr>\n",
       "    <tr>\n",
       "      <th>4</th>\n",
       "      <td>2flmjdud0e</td>\n",
       "      <td>956</td>\n",
       "      <td>0.401532</td>\n",
       "      <td>../data/public/test/2/2flmjdud0e.JPG</td>\n",
       "    </tr>\n",
       "    <tr>\n",
       "      <th>...</th>\n",
       "      <td>...</td>\n",
       "      <td>...</td>\n",
       "      <td>...</td>\n",
       "      <td>...</td>\n",
       "    </tr>\n",
       "    <tr>\n",
       "      <th>37959</th>\n",
       "      <td>8nlfrrdnwk</td>\n",
       "      <td>901</td>\n",
       "      <td>0.276970</td>\n",
       "      <td>../data/public/test/8/8nlfrrdnwk.JPG</td>\n",
       "    </tr>\n",
       "    <tr>\n",
       "      <th>37960</th>\n",
       "      <td>k0w00aa3iy</td>\n",
       "      <td>901</td>\n",
       "      <td>0.294003</td>\n",
       "      <td>../data/public/test/k/k0w00aa3iy.JPG</td>\n",
       "    </tr>\n",
       "    <tr>\n",
       "      <th>37961</th>\n",
       "      <td>xrp8d0pb85</td>\n",
       "      <td>901</td>\n",
       "      <td>0.362963</td>\n",
       "      <td>../data/public/test/x/xrp8d0pb85.JPG</td>\n",
       "    </tr>\n",
       "    <tr>\n",
       "      <th>37962</th>\n",
       "      <td>uobnsz7na9</td>\n",
       "      <td>901</td>\n",
       "      <td>0.195852</td>\n",
       "      <td>../data/public/test/u/uobnsz7na9.JPG</td>\n",
       "    </tr>\n",
       "    <tr>\n",
       "      <th>37963</th>\n",
       "      <td>4if3rbcf2d</td>\n",
       "      <td>901</td>\n",
       "      <td>0.282407</td>\n",
       "      <td>../data/public/test/4/4if3rbcf2d.JPG</td>\n",
       "    </tr>\n",
       "  </tbody>\n",
       "</table>\n",
       "<p>37964 rows × 4 columns</p>\n",
       "</div>"
      ],
      "text/plain": [
       "               id  landmark_id      conf                              filepath\n",
       "0      xlf1tgh2ih          956  0.335313  ../data/public/test/x/xlf1tgh2ih.JPG\n",
       "1      68a3ot4osk          956  0.302072  ../data/public/test/6/68a3ot4osk.JPG\n",
       "2      si2lek4u0a          956  0.187452  ../data/public/test/s/si2lek4u0a.JPG\n",
       "3      rmtqxhipnv          956  0.250135  ../data/public/test/r/rmtqxhipnv.JPG\n",
       "4      2flmjdud0e          956  0.401532  ../data/public/test/2/2flmjdud0e.JPG\n",
       "...           ...          ...       ...                                   ...\n",
       "37959  8nlfrrdnwk          901  0.276970  ../data/public/test/8/8nlfrrdnwk.JPG\n",
       "37960  k0w00aa3iy          901  0.294003  ../data/public/test/k/k0w00aa3iy.JPG\n",
       "37961  xrp8d0pb85          901  0.362963  ../data/public/test/x/xrp8d0pb85.JPG\n",
       "37962  uobnsz7na9          901  0.195852  ../data/public/test/u/uobnsz7na9.JPG\n",
       "37963  4if3rbcf2d          901  0.282407  ../data/public/test/4/4if3rbcf2d.JPG\n",
       "\n",
       "[37964 rows x 4 columns]"
      ]
     },
     "execution_count": 72,
     "metadata": {},
     "output_type": "execute_result"
    }
   ],
   "source": [
    "sub"
   ]
  },
  {
   "cell_type": "code",
   "execution_count": 76,
   "metadata": {},
   "outputs": [],
   "source": [
    "prior_sub = pd.read_csv('../submit/baseline_3.csv')"
   ]
  },
  {
   "cell_type": "code",
   "execution_count": 78,
   "metadata": {},
   "outputs": [
    {
     "data": {
      "text/plain": [
       "0        956\n",
       "1        956\n",
       "2        956\n",
       "3        956\n",
       "4        956\n",
       "        ... \n",
       "37959    901\n",
       "37960    901\n",
       "37961    901\n",
       "37962    901\n",
       "37963    901\n",
       "Name: landmark_id, Length: 37964, dtype: int64"
      ]
     },
     "execution_count": 78,
     "metadata": {},
     "output_type": "execute_result"
    }
   ],
   "source": [
    "prior_sub['landmark_id']"
   ]
  },
  {
   "cell_type": "code",
   "execution_count": 84,
   "metadata": {},
   "outputs": [
    {
     "data": {
      "text/plain": [
       "0        True\n",
       "1        True\n",
       "2        True\n",
       "3        True\n",
       "4        True\n",
       "         ... \n",
       "37959    True\n",
       "37960    True\n",
       "37961    True\n",
       "37962    True\n",
       "37963    True\n",
       "Name: landmark_id, Length: 37964, dtype: bool"
      ]
     },
     "execution_count": 84,
     "metadata": {},
     "output_type": "execute_result"
    }
   ],
   "source": [
    "(prior_sub['landmark_id']==sub['landmark_id']).sum()"
   ]
  },
  {
   "cell_type": "code",
   "execution_count": 4,
   "metadata": {},
   "outputs": [],
   "source": [
    "sub_npy = np.load('../submit/val_outputs_best.npy', allow_pickle=True)"
   ]
  },
  {
   "cell_type": "code",
   "execution_count": 36,
   "metadata": {},
   "outputs": [],
   "source": [
    "sub2['conf'] = [j for i in range(len(sub_npy)) for j in sub_npy[i]['preds_conf'].detach().cpu().numpy()]"
   ]
  },
  {
   "cell_type": "code",
   "execution_count": 40,
   "metadata": {},
   "outputs": [],
   "source": [
    "sub2['conf'] = sub['conf']"
   ]
  },
  {
   "cell_type": "code",
   "execution_count": 28,
   "metadata": {},
   "outputs": [],
   "source": [
    "sub2 = sub.copy()"
   ]
  },
  {
   "cell_type": "code",
   "execution_count": 41,
   "metadata": {},
   "outputs": [
    {
     "data": {
      "text/html": [
       "<div>\n",
       "<style scoped>\n",
       "    .dataframe tbody tr th:only-of-type {\n",
       "        vertical-align: middle;\n",
       "    }\n",
       "\n",
       "    .dataframe tbody tr th {\n",
       "        vertical-align: top;\n",
       "    }\n",
       "\n",
       "    .dataframe thead th {\n",
       "        text-align: right;\n",
       "    }\n",
       "</style>\n",
       "<table border=\"1\" class=\"dataframe\">\n",
       "  <thead>\n",
       "    <tr style=\"text-align: right;\">\n",
       "      <th></th>\n",
       "      <th>id</th>\n",
       "      <th>landmark_id</th>\n",
       "      <th>conf</th>\n",
       "      <th>new_id</th>\n",
       "    </tr>\n",
       "  </thead>\n",
       "  <tbody>\n",
       "    <tr>\n",
       "      <th>0</th>\n",
       "      <td>xlf1tgh2ih</td>\n",
       "      <td>956</td>\n",
       "      <td>0.504824</td>\n",
       "      <td>956</td>\n",
       "    </tr>\n",
       "    <tr>\n",
       "      <th>1</th>\n",
       "      <td>68a3ot4osk</td>\n",
       "      <td>956</td>\n",
       "      <td>0.469569</td>\n",
       "      <td>956</td>\n",
       "    </tr>\n",
       "    <tr>\n",
       "      <th>2</th>\n",
       "      <td>si2lek4u0a</td>\n",
       "      <td>956</td>\n",
       "      <td>0.209661</td>\n",
       "      <td>956</td>\n",
       "    </tr>\n",
       "    <tr>\n",
       "      <th>3</th>\n",
       "      <td>rmtqxhipnv</td>\n",
       "      <td>956</td>\n",
       "      <td>0.364817</td>\n",
       "      <td>956</td>\n",
       "    </tr>\n",
       "    <tr>\n",
       "      <th>4</th>\n",
       "      <td>2flmjdud0e</td>\n",
       "      <td>956</td>\n",
       "      <td>0.599650</td>\n",
       "      <td>956</td>\n",
       "    </tr>\n",
       "    <tr>\n",
       "      <th>...</th>\n",
       "      <td>...</td>\n",
       "      <td>...</td>\n",
       "      <td>...</td>\n",
       "      <td>...</td>\n",
       "    </tr>\n",
       "    <tr>\n",
       "      <th>37959</th>\n",
       "      <td>8nlfrrdnwk</td>\n",
       "      <td>901</td>\n",
       "      <td>0.385468</td>\n",
       "      <td>901</td>\n",
       "    </tr>\n",
       "    <tr>\n",
       "      <th>37960</th>\n",
       "      <td>k0w00aa3iy</td>\n",
       "      <td>901</td>\n",
       "      <td>0.428705</td>\n",
       "      <td>901</td>\n",
       "    </tr>\n",
       "    <tr>\n",
       "      <th>37961</th>\n",
       "      <td>xrp8d0pb85</td>\n",
       "      <td>901</td>\n",
       "      <td>0.499425</td>\n",
       "      <td>901</td>\n",
       "    </tr>\n",
       "    <tr>\n",
       "      <th>37962</th>\n",
       "      <td>uobnsz7na9</td>\n",
       "      <td>901</td>\n",
       "      <td>0.256282</td>\n",
       "      <td>901</td>\n",
       "    </tr>\n",
       "    <tr>\n",
       "      <th>37963</th>\n",
       "      <td>4if3rbcf2d</td>\n",
       "      <td>901</td>\n",
       "      <td>0.430120</td>\n",
       "      <td>901</td>\n",
       "    </tr>\n",
       "  </tbody>\n",
       "</table>\n",
       "<p>37964 rows × 4 columns</p>\n",
       "</div>"
      ],
      "text/plain": [
       "               id  landmark_id      conf  new_id\n",
       "0      xlf1tgh2ih          956  0.504824     956\n",
       "1      68a3ot4osk          956  0.469569     956\n",
       "2      si2lek4u0a          956  0.209661     956\n",
       "3      rmtqxhipnv          956  0.364817     956\n",
       "4      2flmjdud0e          956  0.599650     956\n",
       "...           ...          ...       ...     ...\n",
       "37959  8nlfrrdnwk          901  0.385468     901\n",
       "37960  k0w00aa3iy          901  0.428705     901\n",
       "37961  xrp8d0pb85          901  0.499425     901\n",
       "37962  uobnsz7na9          901  0.256282     901\n",
       "37963  4if3rbcf2d          901  0.430120     901\n",
       "\n",
       "[37964 rows x 4 columns]"
      ]
     },
     "execution_count": 41,
     "metadata": {},
     "output_type": "execute_result"
    }
   ],
   "source": [
    "sub2"
   ]
  },
  {
   "cell_type": "code",
   "execution_count": 30,
   "metadata": {},
   "outputs": [],
   "source": [
    "sub2['landmark_id']=sub2['new_id']"
   ]
  },
  {
   "cell_type": "code",
   "execution_count": 42,
   "metadata": {},
   "outputs": [],
   "source": [
    "sub2.iloc[:, :3].to_csv('../submit/best_submission2.csv', index=False)"
   ]
  },
  {
   "cell_type": "code",
   "execution_count": null,
   "metadata": {},
   "outputs": [],
   "source": []
  }
 ],
 "metadata": {
  "kernelspec": {
   "display_name": "Python 3.7.9 64-bit ('cloud': conda)",
   "language": "python",
   "name": "python37964bitcloudconda2e492f8b7a0c4d89873e0681c6f92d2e"
  },
  "language_info": {
   "codemirror_mode": {
    "name": "ipython",
    "version": 3
   },
   "file_extension": ".py",
   "mimetype": "text/x-python",
   "name": "python",
   "nbconvert_exporter": "python",
   "pygments_lexer": "ipython3",
   "version": "3.7.9"
  }
 },
 "nbformat": 4,
 "nbformat_minor": 4
}
