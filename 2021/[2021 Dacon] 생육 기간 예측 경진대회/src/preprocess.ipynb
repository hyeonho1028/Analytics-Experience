{
 "cells": [
  {
   "cell_type": "code",
   "execution_count": 1,
   "metadata": {},
   "outputs": [],
   "source": [
    "import os\n",
    "from itertools import permutations\n",
    "\n",
    "import pandas as pd\n",
    "import numpy as np\n",
    "\n",
    "import cv2\n",
    "\n",
    "import matplotlib.pyplot as plt"
   ]
  },
  {
   "cell_type": "code",
   "execution_count": 2,
   "metadata": {},
   "outputs": [],
   "source": [
    "import albumentations as A\n",
    "def train_get_transforms():\n",
    "    return A.Compose([\n",
    "            A.Resize(256, 256),\n",
    "    ])\n",
    "transform = train_get_transforms()\n",
    "# img = transform(image=img)['image']"
   ]
  },
  {
   "cell_type": "code",
   "execution_count": 3,
   "metadata": {},
   "outputs": [],
   "source": [
    "for i in range(1, 10):\n",
    "    \n",
    "    paths = '../data/train_dataset/BC/'#BC_03/\n",
    "    paths = paths + 'BC_' + str(i).zfill(2) + '/'\n",
    "\n",
    "    img_paths = os.listdir(paths)\n",
    "    for img_path in img_paths:\n",
    "        img_path = paths+img_path\n",
    "        img = cv2.imread(img_path, cv2.COLOR_BGR2RGB)\n",
    "        # crop\n",
    "        # img = img[:2400, 500:2800, :]\n",
    "        \n",
    "        # resize\n",
    "        img = transform(image=img)['image']\n",
    "        \n",
    "        # save crop img\n",
    "        img_path = img_path.replace('/BC/', '/BC_adjust/')\n",
    "        os.makedirs('/'.join(img_path.split('/')[:-1]), exist_ok=True)\n",
    "        cv2.imwrite(img_path, img)\n",
    "        \n",
    "        # print(img.shape)\n",
    "        # break\n",
    "    # plt.imshow(img[:2400, 500:2800, :])\n",
    "    # plt.show()"
   ]
  },
  {
   "cell_type": "code",
   "execution_count": 4,
   "metadata": {},
   "outputs": [],
   "source": [
    "for i in range(1, 11):\n",
    "    \n",
    "    paths = '../data/train_dataset/LT/'#BC_03/\n",
    "    paths = paths + 'LT_' + str(i).zfill(2) + '/'\n",
    "\n",
    "    img_paths = os.listdir(paths)\n",
    "    for img_path in img_paths:\n",
    "        img_path = paths+img_path\n",
    "        img = cv2.imread(img_path, cv2.COLOR_BGR2RGB)\n",
    "        # crop\n",
    "        # img = img[:2400, 500:2800, :]\n",
    "        \n",
    "        # resize\n",
    "        img = transform(image=img)['image']\n",
    "        \n",
    "        # save crop img\n",
    "        img_path = img_path.replace('/LT/', '/LT_adjust/')\n",
    "        os.makedirs('/'.join(img_path.split('/')[:-1]), exist_ok=True)\n",
    "        cv2.imwrite(img_path, img)"
   ]
  },
  {
   "cell_type": "code",
   "execution_count": 5,
   "metadata": {},
   "outputs": [],
   "source": [
    "for i in [1088, 1100, 1112]:\n",
    "    \n",
    "    paths = '../data/test_dataset/BC/'#BC_03/\n",
    "    paths = paths + str(i) + '/'\n",
    "\n",
    "    img_paths = os.listdir(paths)\n",
    "    for img_path in img_paths:\n",
    "        img_path = paths+img_path\n",
    "        img = cv2.imread(img_path, cv2.COLOR_BGR2RGB)\n",
    "        # crop\n",
    "        # img = img[:2400, 500:2800, :]\n",
    "        \n",
    "        # resize\n",
    "        img = transform(image=img)['image']\n",
    "        \n",
    "        # save crop img\n",
    "        img_path = img_path.replace('/BC/', '/BC_adjust/')\n",
    "        os.makedirs('/'.join(img_path.split('/')[:-1]), exist_ok=True)\n",
    "        cv2.imwrite(img_path, img)"
   ]
  },
  {
   "cell_type": "code",
   "execution_count": 6,
   "metadata": {},
   "outputs": [],
   "source": [
    "for i in [1003, 1088, 1089]:\n",
    "    \n",
    "    paths = '../data/test_dataset/LT/'#BC_03/\n",
    "    paths = paths + str(i) + '/'\n",
    "\n",
    "    img_paths = os.listdir(paths)\n",
    "    for img_path in img_paths:\n",
    "        img_path = paths+img_path\n",
    "        img = cv2.imread(img_path, cv2.COLOR_BGR2RGB)\n",
    "        # crop\n",
    "        # img = img[:2400, 500:2800, :]\n",
    "        \n",
    "        # resize\n",
    "        img = transform(image=img)['image']\n",
    "        \n",
    "        # save crop img\n",
    "        img_path = img_path.replace('/LT/', '/LT_adjust/')\n",
    "        os.makedirs('/'.join(img_path.split('/')[:-1]), exist_ok=True)\n",
    "        cv2.imwrite(img_path, img)"
   ]
  },
  {
   "cell_type": "code",
   "execution_count": null,
   "metadata": {},
   "outputs": [],
   "source": [
    "img_paths = '../data/train_dataset/BC_adjust/BC_01/'\n",
    "\n",
    "[img_paths+p for p in os.listdir(img_paths)]"
   ]
  },
  {
   "cell_type": "code",
   "execution_count": 5,
   "metadata": {},
   "outputs": [],
   "source": [
    "train = pd.DataFrame()\n",
    "for i in range(1, 10):\n",
    "    \n",
    "    paths = '../data/train_dataset/BC_adjust/'\n",
    "    paths = paths + 'BC_' + str(i).zfill(2) + '/'\n",
    "\n",
    "    temp = pd.DataFrame()\n",
    "    temp['file_path'] = [p for p in os.listdir(paths) if 'resize' not in p]\n",
    "    temp['file_path'] = paths + temp['file_path']\n",
    "\n",
    "    a = pd.DataFrame(list(permutations(temp['file_path'], 2)))\n",
    "    a = a[a[0].apply(lambda x: x[-6:-4]).astype(int) < a[1].apply(lambda x: x[-6:-4]).astype(int)]\n",
    "    a['time_delta'] = a[1].apply(lambda x: x[-6:-4]).astype(int) - a[0].apply(lambda x: x[-6:-4]).astype(int)\n",
    "    a.columns = ['before_file_path', 'after_file_path', 'time_delta']\n",
    "    \n",
    "    train = train.append(a).reset_index(drop=True)\n",
    "    \n",
    "for i in range(1, 11):\n",
    "    \n",
    "    paths = '../data/train_dataset/LT_adjust/'\n",
    "    paths = paths + 'LT_' + str(i).zfill(2) + '/'\n",
    "\n",
    "    temp = pd.DataFrame()\n",
    "    temp['file_path'] = [p for p in os.listdir(paths) if 'resize' not in p]\n",
    "    temp['file_path'] = paths + temp['file_path']\n",
    "    \n",
    "    a = pd.DataFrame(list(permutations(temp['file_path'], 2)))\n",
    "    a = a[a[0].apply(lambda x: x[-6:-4]).astype(int) < a[1].apply(lambda x: x[-6:-4]).astype(int)]\n",
    "    a['time_delta'] = a[1].apply(lambda x: x[-6:-4]).astype(int) - a[0].apply(lambda x: x[-6:-4]).astype(int)\n",
    "    a.columns = ['before_file_path', 'after_file_path', 'time_delta']\n",
    "    \n",
    "    train = train.append(a).reset_index(drop=True)"
   ]
  },
  {
   "cell_type": "code",
   "execution_count": 6,
   "metadata": {},
   "outputs": [],
   "source": [
    "train.to_csv('../data/train.csv', index=False)"
   ]
  },
  {
   "cell_type": "code",
   "execution_count": null,
   "metadata": {},
   "outputs": [],
   "source": []
  },
  {
   "cell_type": "code",
   "execution_count": null,
   "metadata": {},
   "outputs": [],
   "source": []
  },
  {
   "cell_type": "code",
   "execution_count": null,
   "metadata": {},
   "outputs": [],
   "source": [
    "# add resize image"
   ]
  },
  {
   "cell_type": "code",
   "execution_count": null,
   "metadata": {},
   "outputs": [],
   "source": [
    "train = pd.read_csv('../data/train.csv')"
   ]
  },
  {
   "cell_type": "code",
   "execution_count": null,
   "metadata": {},
   "outputs": [],
   "source": [
    "import albumentations as A\n",
    "def train_get_transforms():\n",
    "    return A.Compose([\n",
    "            A.Resize(256, 256),\n",
    "    ])\n",
    "transform = train_get_transforms()"
   ]
  },
  {
   "cell_type": "code",
   "execution_count": null,
   "metadata": {},
   "outputs": [],
   "source": [
    "for img_path in pd.concat([train['before_file_path'], train['after_file_path']]).unique():\n",
    "    img = cv2.imread(img_path, cv2.COLOR_BGR2RGB)\n",
    "    img = transform(image=img)['image']\n",
    "    img_path = img_path.replace('.png', '_resize256.png')\n",
    "    cv2.imwrite(img_path, img)"
   ]
  },
  {
   "cell_type": "code",
   "execution_count": null,
   "metadata": {},
   "outputs": [],
   "source": []
  },
  {
   "cell_type": "code",
   "execution_count": null,
   "metadata": {},
   "outputs": [],
   "source": [
    "test = pd.read_csv('../data/test_dataset/test_data.csv')\n",
    "test['before_file_path'] = test['before_file_path'].apply(lambda x: '../data/test_dataset/' + x.split('_')[1] + '_adjust/' + x.split('_')[2] + '/' + x + '.png')\n",
    "test['after_file_path'] = test['after_file_path'].apply(lambda x: '../data/test_dataset/' + x.split('_')[1] + '_adjust/' + x.split('_')[2] + '/' + x + '.png')"
   ]
  },
  {
   "cell_type": "code",
   "execution_count": null,
   "metadata": {},
   "outputs": [],
   "source": [
    "import albumentations as A\n",
    "def train_get_transforms():\n",
    "    return A.Compose([\n",
    "            A.Resize(256, 256),\n",
    "    ])\n",
    "transform = train_get_transforms()"
   ]
  },
  {
   "cell_type": "code",
   "execution_count": null,
   "metadata": {},
   "outputs": [],
   "source": [
    "for img_path in pd.concat([test['before_file_path'], test['after_file_path']]).unique():\n",
    "    img = cv2.imread(img_path, cv2.COLOR_BGR2RGB)\n",
    "    img = transform(image=img)['image']\n",
    "    img_path = img_path.replace('.png', '_resize256.png')\n",
    "    cv2.imwrite(img_path, img)"
   ]
  },
  {
   "cell_type": "code",
   "execution_count": null,
   "metadata": {},
   "outputs": [],
   "source": []
  },
  {
   "cell_type": "code",
   "execution_count": null,
   "metadata": {},
   "outputs": [],
   "source": []
  },
  {
   "cell_type": "code",
   "execution_count": 1,
   "metadata": {},
   "outputs": [],
   "source": [
    "import pandas as pd"
   ]
  },
  {
   "cell_type": "code",
   "execution_count": 2,
   "metadata": {},
   "outputs": [],
   "source": [
    "train = pd.read_csv('../data/train.csv')\n",
    "test = pd.read_csv('../data/test_dataset/test_data.csv')\n",
    "\n",
    "train['type'] = train['before_file_path'].apply(lambda x: 'BC' if 'BC' in x else 'LT')"
   ]
  },
  {
   "cell_type": "code",
   "execution_count": 6,
   "metadata": {},
   "outputs": [
    {
     "data": {
      "text/plain": [
       "array([ 0,  1,  2,  3,  4,  5,  6,  7,  8,  9, 10], dtype=int64)"
      ]
     },
     "execution_count": 6,
     "metadata": {},
     "output_type": "execute_result"
    }
   ],
   "source": [
    "(train['time_delta']//4).unique()"
   ]
  },
  {
   "cell_type": "code",
   "execution_count": null,
   "metadata": {},
   "outputs": [],
   "source": []
  },
  {
   "cell_type": "code",
   "execution_count": 13,
   "metadata": {},
   "outputs": [],
   "source": [
    "from sklearn.model_selection import StratifiedGroupKFold, GroupKFold\n",
    "# skf = StratifiedGroupKFold(n_splits=5, shuffle=True, random_state=42)\n",
    "skf = GroupKFold(n_splits=9)"
   ]
  },
  {
   "cell_type": "code",
   "execution_count": 11,
   "metadata": {},
   "outputs": [],
   "source": [
    "train1 = train[train['type']=='BC'].reset_index(drop=True)\n",
    "train2 = train[train['type']=='LT'].reset_index(drop=True)"
   ]
  },
  {
   "cell_type": "code",
   "execution_count": 19,
   "metadata": {},
   "outputs": [],
   "source": [
    "train1['splits'] = train1['before_file_path'].apply(lambda x: x.split('adjust/')[-1][:5])# + '_' + train['time_delta'].astype(str)\n",
    "n_splits = list(skf.split(train1, y=train1['time_delta'], groups=train1['splits']))"
   ]
  },
  {
   "cell_type": "code",
   "execution_count": 22,
   "metadata": {},
   "outputs": [],
   "source": [
    "train2['splits'] = train2['before_file_path'].apply(lambda x: x.split('adjust/')[-1][:5])# + '_' + train['time_delta'].astype(str)\n",
    "n_splits2 = list(skf.split(train2, y=train2['time_delta'], groups=train2['splits']))"
   ]
  },
  {
   "cell_type": "code",
   "execution_count": 25,
   "metadata": {},
   "outputs": [
    {
     "data": {
      "text/html": [
       "<div>\n",
       "<style scoped>\n",
       "    .dataframe tbody tr th:only-of-type {\n",
       "        vertical-align: middle;\n",
       "    }\n",
       "\n",
       "    .dataframe tbody tr th {\n",
       "        vertical-align: top;\n",
       "    }\n",
       "\n",
       "    .dataframe thead th {\n",
       "        text-align: right;\n",
       "    }\n",
       "</style>\n",
       "<table border=\"1\" class=\"dataframe\">\n",
       "  <thead>\n",
       "    <tr style=\"text-align: right;\">\n",
       "      <th></th>\n",
       "      <th>before_file_path</th>\n",
       "      <th>after_file_path</th>\n",
       "      <th>time_delta</th>\n",
       "      <th>type</th>\n",
       "      <th>splits</th>\n",
       "    </tr>\n",
       "  </thead>\n",
       "  <tbody>\n",
       "    <tr>\n",
       "      <th>0</th>\n",
       "      <td>../data/train_dataset/BC_adjust/BC_01/DAT01.png</td>\n",
       "      <td>../data/train_dataset/BC_adjust/BC_01/DAT02.png</td>\n",
       "      <td>1</td>\n",
       "      <td>BC</td>\n",
       "      <td>BC_01</td>\n",
       "    </tr>\n",
       "    <tr>\n",
       "      <th>1</th>\n",
       "      <td>../data/train_dataset/BC_adjust/BC_01/DAT01.png</td>\n",
       "      <td>../data/train_dataset/BC_adjust/BC_01/DAT03.png</td>\n",
       "      <td>2</td>\n",
       "      <td>BC</td>\n",
       "      <td>BC_01</td>\n",
       "    </tr>\n",
       "    <tr>\n",
       "      <th>2</th>\n",
       "      <td>../data/train_dataset/BC_adjust/BC_01/DAT01.png</td>\n",
       "      <td>../data/train_dataset/BC_adjust/BC_01/DAT04.png</td>\n",
       "      <td>3</td>\n",
       "      <td>BC</td>\n",
       "      <td>BC_01</td>\n",
       "    </tr>\n",
       "    <tr>\n",
       "      <th>3</th>\n",
       "      <td>../data/train_dataset/BC_adjust/BC_01/DAT01.png</td>\n",
       "      <td>../data/train_dataset/BC_adjust/BC_01/DAT05.png</td>\n",
       "      <td>4</td>\n",
       "      <td>BC</td>\n",
       "      <td>BC_01</td>\n",
       "    </tr>\n",
       "    <tr>\n",
       "      <th>4</th>\n",
       "      <td>../data/train_dataset/BC_adjust/BC_01/DAT01.png</td>\n",
       "      <td>../data/train_dataset/BC_adjust/BC_01/DAT06.png</td>\n",
       "      <td>5</td>\n",
       "      <td>BC</td>\n",
       "      <td>BC_01</td>\n",
       "    </tr>\n",
       "    <tr>\n",
       "      <th>...</th>\n",
       "      <td>...</td>\n",
       "      <td>...</td>\n",
       "      <td>...</td>\n",
       "      <td>...</td>\n",
       "      <td>...</td>\n",
       "    </tr>\n",
       "    <tr>\n",
       "      <th>11129</th>\n",
       "      <td>../data/train_dataset/LT_adjust/LT_09/DAT06.png</td>\n",
       "      <td>../data/train_dataset/LT_adjust/LT_09/DAT12.png</td>\n",
       "      <td>6</td>\n",
       "      <td>LT</td>\n",
       "      <td>LT_09</td>\n",
       "    </tr>\n",
       "    <tr>\n",
       "      <th>11130</th>\n",
       "      <td>../data/train_dataset/LT_adjust/LT_09/DAT06.png</td>\n",
       "      <td>../data/train_dataset/LT_adjust/LT_09/DAT13.png</td>\n",
       "      <td>7</td>\n",
       "      <td>LT</td>\n",
       "      <td>LT_09</td>\n",
       "    </tr>\n",
       "    <tr>\n",
       "      <th>11131</th>\n",
       "      <td>../data/train_dataset/LT_adjust/LT_09/DAT06.png</td>\n",
       "      <td>../data/train_dataset/LT_adjust/LT_09/DAT14.png</td>\n",
       "      <td>8</td>\n",
       "      <td>LT</td>\n",
       "      <td>LT_09</td>\n",
       "    </tr>\n",
       "    <tr>\n",
       "      <th>11132</th>\n",
       "      <td>../data/train_dataset/LT_adjust/LT_09/DAT06.png</td>\n",
       "      <td>../data/train_dataset/LT_adjust/LT_09/DAT15.png</td>\n",
       "      <td>9</td>\n",
       "      <td>LT</td>\n",
       "      <td>LT_09</td>\n",
       "    </tr>\n",
       "    <tr>\n",
       "      <th>11133</th>\n",
       "      <td>../data/train_dataset/LT_adjust/LT_09/DAT06.png</td>\n",
       "      <td>../data/train_dataset/LT_adjust/LT_09/DAT16.png</td>\n",
       "      <td>10</td>\n",
       "      <td>LT</td>\n",
       "      <td>LT_09</td>\n",
       "    </tr>\n",
       "  </tbody>\n",
       "</table>\n",
       "<p>11134 rows × 5 columns</p>\n",
       "</div>"
      ],
      "text/plain": [
       "                                      before_file_path  \\\n",
       "0      ../data/train_dataset/BC_adjust/BC_01/DAT01.png   \n",
       "1      ../data/train_dataset/BC_adjust/BC_01/DAT01.png   \n",
       "2      ../data/train_dataset/BC_adjust/BC_01/DAT01.png   \n",
       "3      ../data/train_dataset/BC_adjust/BC_01/DAT01.png   \n",
       "4      ../data/train_dataset/BC_adjust/BC_01/DAT01.png   \n",
       "...                                                ...   \n",
       "11129  ../data/train_dataset/LT_adjust/LT_09/DAT06.png   \n",
       "11130  ../data/train_dataset/LT_adjust/LT_09/DAT06.png   \n",
       "11131  ../data/train_dataset/LT_adjust/LT_09/DAT06.png   \n",
       "11132  ../data/train_dataset/LT_adjust/LT_09/DAT06.png   \n",
       "11133  ../data/train_dataset/LT_adjust/LT_09/DAT06.png   \n",
       "\n",
       "                                       after_file_path  time_delta type splits  \n",
       "0      ../data/train_dataset/BC_adjust/BC_01/DAT02.png           1   BC  BC_01  \n",
       "1      ../data/train_dataset/BC_adjust/BC_01/DAT03.png           2   BC  BC_01  \n",
       "2      ../data/train_dataset/BC_adjust/BC_01/DAT04.png           3   BC  BC_01  \n",
       "3      ../data/train_dataset/BC_adjust/BC_01/DAT05.png           4   BC  BC_01  \n",
       "4      ../data/train_dataset/BC_adjust/BC_01/DAT06.png           5   BC  BC_01  \n",
       "...                                                ...         ...  ...    ...  \n",
       "11129  ../data/train_dataset/LT_adjust/LT_09/DAT12.png           6   LT  LT_09  \n",
       "11130  ../data/train_dataset/LT_adjust/LT_09/DAT13.png           7   LT  LT_09  \n",
       "11131  ../data/train_dataset/LT_adjust/LT_09/DAT14.png           8   LT  LT_09  \n",
       "11132  ../data/train_dataset/LT_adjust/LT_09/DAT15.png           9   LT  LT_09  \n",
       "11133  ../data/train_dataset/LT_adjust/LT_09/DAT16.png          10   LT  LT_09  \n",
       "\n",
       "[11134 rows x 5 columns]"
      ]
     },
     "execution_count": 25,
     "metadata": {},
     "output_type": "execute_result"
    }
   ],
   "source": [
    "pd.concat([train1.loc[n_splits[0][0]], train2.loc[n_splits[0][0]]]).reset_index(drop=True)"
   ]
  },
  {
   "cell_type": "code",
   "execution_count": null,
   "metadata": {},
   "outputs": [],
   "source": []
  },
  {
   "cell_type": "code",
   "execution_count": null,
   "metadata": {},
   "outputs": [],
   "source": []
  },
  {
   "cell_type": "code",
   "execution_count": null,
   "metadata": {},
   "outputs": [],
   "source": []
  },
  {
   "cell_type": "code",
   "execution_count": null,
   "metadata": {},
   "outputs": [],
   "source": [
    "train1['splits'] = train1['before_file_path'].apply(lambda x: x.split('adjust/')[-1][:5])# + '_' + train['time_delta'].astype(str)\n",
    "n_splits = list(skf.split(train1, y=train1['time_delta'], groups=train1['splits']))\n",
    "for i,j in n_splits:\n",
    "    print(train1.loc[i].splits.apply(lambda x: x[:5]).value_counts())\n",
    "    print(train1.loc[j].splits.apply(lambda x: x[:5]).value_counts())\n",
    "    \n",
    "    print('#'*100)"
   ]
  },
  {
   "cell_type": "code",
   "execution_count": null,
   "metadata": {},
   "outputs": [],
   "source": [
    "train2['splits'] = train2['before_file_path'].apply(lambda x: x.split('adjust/')[-1][:5])# + '_' + train['time_delta'].astype(str)\n",
    "n_splits = list(skf.split(train2, y=train2['time_delta'], groups=train2['splits']))\n",
    "for i,j in n_splits:\n",
    "    print(train2.loc[i].splits.apply(lambda x: x[:5]).value_counts())\n",
    "    print(train2.loc[j].splits.apply(lambda x: x[:5]).value_counts())\n",
    "    \n",
    "    print('#'*100)"
   ]
  },
  {
   "cell_type": "code",
   "execution_count": 5,
   "metadata": {},
   "outputs": [
    {
     "data": {
      "text/plain": [
       "[(array([    0,     1,     2, ..., 13830, 13831, 13832]),\n",
       "  array([2341, 2342, 2343, ..., 6374, 6375, 6376])),\n",
       " (array([    0,     1,     2, ..., 13830, 13831, 13832]),\n",
       "  array([4844, 4845, 4846, ..., 6809, 6810, 6811])),\n",
       " (array([    0,     1,     2, ..., 13830, 13831, 13832]),\n",
       "  array([ 3244,  3245,  3246, ..., 13050, 13051, 13052])),\n",
       " (array([  741,   742,   743, ..., 13830, 13831, 13832]),\n",
       "  array([   0,    1,    2, ..., 2338, 2339, 2340])),\n",
       " (array([    0,     1,     2, ..., 13830, 13831, 13832]),\n",
       "  array([ 4024,  4025,  4026, ..., 11450, 11451, 11452])),\n",
       " (array([    0,     1,     2, ..., 13050, 13051, 13052]),\n",
       "  array([ 9152,  9153,  9154, ..., 13830, 13831, 13832])),\n",
       " (array([    0,     1,     2, ..., 13830, 13831, 13832]),\n",
       "  array([ 8372,  8373,  8374, ..., 12230, 12231, 12232])),\n",
       " (array([    0,     1,     2, ..., 13830, 13831, 13832]),\n",
       "  array([ 741,  742,  743, ..., 8369, 8370, 8371])),\n",
       " (array([    0,     1,     2, ..., 13830, 13831, 13832]),\n",
       "  array([ 6812,  6813,  6814, ..., 10709, 10710, 10711]))]"
      ]
     },
     "execution_count": 5,
     "metadata": {},
     "output_type": "execute_result"
    }
   ],
   "source": [
    "# train['splits'] = train['before_file_path'].apply(lambda x: x.split('adjust/')[1][:5])\n",
    "train['splits'] = train['before_file_path'].apply(lambda x: x.split('adjust/')[-1][:5])# + '_' + train['time_delta'].astype(str)\n",
    "# train = train[~train['splits'].isin(['BC_03', 'BC_04'])].reset_index(drop=True)\n",
    "list(skf.split(train, y=train['time_delta'], groups=train['splits']))"
   ]
  },
  {
   "cell_type": "code",
   "execution_count": 6,
   "metadata": {},
   "outputs": [
    {
     "name": "stdout",
     "output_type": "stream",
     "text": [
      "BC_07    903\n",
      "BC_03    820\n",
      "BC_06    820\n",
      "LT_08    820\n",
      "BC_02    780\n",
      "BC_05    780\n",
      "LT_01    780\n",
      "LT_02    780\n",
      "LT_03    780\n",
      "LT_04    780\n",
      "LT_05    780\n",
      "LT_07    780\n",
      "LT_09    780\n",
      "BC_01    741\n",
      "LT_06    741\n",
      "BC_09    435\n",
      "Name: splits, dtype: int64\n",
      "BC_04    903\n",
      "BC_08    630\n",
      "Name: splits, dtype: int64\n",
      "####################################################################################################\n",
      "BC_04    903\n",
      "BC_03    820\n",
      "BC_06    820\n",
      "LT_08    820\n",
      "BC_02    780\n",
      "BC_05    780\n",
      "LT_01    780\n",
      "LT_02    780\n",
      "LT_03    780\n",
      "LT_04    780\n",
      "LT_05    780\n",
      "LT_07    780\n",
      "LT_09    780\n",
      "BC_01    741\n",
      "LT_06    741\n",
      "BC_08    630\n",
      "Name: splits, dtype: int64\n",
      "BC_07    903\n",
      "BC_09    435\n",
      "Name: splits, dtype: int64\n",
      "####################################################################################################\n",
      "BC_04    903\n",
      "BC_07    903\n",
      "BC_03    820\n",
      "BC_06    820\n",
      "BC_02    780\n",
      "LT_01    780\n",
      "LT_02    780\n",
      "LT_03    780\n",
      "LT_04    780\n",
      "LT_05    780\n",
      "LT_07    780\n",
      "LT_09    780\n",
      "BC_01    741\n",
      "LT_06    741\n",
      "BC_08    630\n",
      "BC_09    435\n",
      "Name: splits, dtype: int64\n",
      "LT_08    820\n",
      "BC_05    780\n",
      "Name: splits, dtype: int64\n",
      "####################################################################################################\n",
      "BC_04    903\n",
      "BC_07    903\n",
      "BC_06    820\n",
      "LT_08    820\n",
      "BC_02    780\n",
      "BC_05    780\n",
      "LT_01    780\n",
      "LT_02    780\n",
      "LT_03    780\n",
      "LT_04    780\n",
      "LT_05    780\n",
      "LT_07    780\n",
      "LT_09    780\n",
      "LT_06    741\n",
      "BC_08    630\n",
      "BC_09    435\n",
      "Name: splits, dtype: int64\n",
      "BC_03    820\n",
      "BC_01    741\n",
      "Name: splits, dtype: int64\n",
      "####################################################################################################\n",
      "BC_04    903\n",
      "BC_07    903\n",
      "BC_03    820\n",
      "LT_08    820\n",
      "BC_02    780\n",
      "BC_05    780\n",
      "LT_01    780\n",
      "LT_02    780\n",
      "LT_03    780\n",
      "LT_04    780\n",
      "LT_05    780\n",
      "LT_07    780\n",
      "LT_09    780\n",
      "BC_01    741\n",
      "BC_08    630\n",
      "BC_09    435\n",
      "Name: splits, dtype: int64\n",
      "BC_06    820\n",
      "LT_06    741\n",
      "Name: splits, dtype: int64\n",
      "####################################################################################################\n",
      "BC_04    903\n",
      "BC_07    903\n",
      "BC_03    820\n",
      "BC_06    820\n",
      "LT_08    820\n",
      "BC_02    780\n",
      "BC_05    780\n",
      "LT_01    780\n",
      "LT_02    780\n",
      "LT_03    780\n",
      "LT_05    780\n",
      "LT_07    780\n",
      "BC_01    741\n",
      "LT_06    741\n",
      "BC_08    630\n",
      "BC_09    435\n",
      "Name: splits, dtype: int64\n",
      "LT_04    780\n",
      "LT_09    780\n",
      "Name: splits, dtype: int64\n",
      "####################################################################################################\n",
      "BC_04    903\n",
      "BC_07    903\n",
      "BC_03    820\n",
      "BC_06    820\n",
      "LT_08    820\n",
      "BC_02    780\n",
      "BC_05    780\n",
      "LT_01    780\n",
      "LT_02    780\n",
      "LT_04    780\n",
      "LT_05    780\n",
      "LT_09    780\n",
      "BC_01    741\n",
      "LT_06    741\n",
      "BC_08    630\n",
      "BC_09    435\n",
      "Name: splits, dtype: int64\n",
      "LT_03    780\n",
      "LT_07    780\n",
      "Name: splits, dtype: int64\n",
      "####################################################################################################\n",
      "BC_04    903\n",
      "BC_07    903\n",
      "BC_03    820\n",
      "BC_06    820\n",
      "LT_08    820\n",
      "BC_05    780\n",
      "LT_01    780\n",
      "LT_03    780\n",
      "LT_04    780\n",
      "LT_05    780\n",
      "LT_07    780\n",
      "LT_09    780\n",
      "BC_01    741\n",
      "LT_06    741\n",
      "BC_08    630\n",
      "BC_09    435\n",
      "Name: splits, dtype: int64\n",
      "BC_02    780\n",
      "LT_02    780\n",
      "Name: splits, dtype: int64\n",
      "####################################################################################################\n",
      "BC_04    903\n",
      "BC_07    903\n",
      "BC_03    820\n",
      "BC_06    820\n",
      "LT_08    820\n",
      "BC_02    780\n",
      "BC_05    780\n",
      "LT_02    780\n",
      "LT_03    780\n",
      "LT_04    780\n",
      "LT_07    780\n",
      "LT_09    780\n",
      "BC_01    741\n",
      "LT_06    741\n",
      "BC_08    630\n",
      "BC_09    435\n",
      "Name: splits, dtype: int64\n",
      "LT_01    780\n",
      "LT_05    780\n",
      "Name: splits, dtype: int64\n",
      "####################################################################################################\n"
     ]
    }
   ],
   "source": [
    "for i,j in list(skf.split(train, y=train['time_delta'], groups=train['splits'])):\n",
    "    print(train.loc[i].splits.apply(lambda x: x[:5]).value_counts())\n",
    "    print(train.loc[j].splits.apply(lambda x: x[:5]).value_counts())\n",
    "    \n",
    "    print('#'*100)"
   ]
  },
  {
   "cell_type": "code",
   "execution_count": null,
   "metadata": {},
   "outputs": [],
   "source": []
  },
  {
   "cell_type": "code",
   "execution_count": 1,
   "metadata": {},
   "outputs": [],
   "source": [
    "import random\n",
    "import cv2\n",
    "import matplotlib.pyplot as plt\n",
    "import numpy as np\n",
    "\n",
    "import albumentations as A\n",
    "from albumentations.pytorch.transforms import ToTensorV2"
   ]
  },
  {
   "cell_type": "code",
   "execution_count": 3,
   "metadata": {},
   "outputs": [
    {
     "data": {
      "text/plain": [
       "<matplotlib.image.AxesImage at 0x1eda443ca30>"
      ]
     },
     "execution_count": 3,
     "metadata": {},
     "output_type": "execute_result"
    },
    {
     "data": {
      "image/png": "[encoded data removed]",
      "text/plain": [
       "<Figure size 432x288 with 1 Axes>"
      ]
     },
     "metadata": {
      "needs_background": "light"
     },
     "output_type": "display_data"
    }
   ],
   "source": [
    "img = cv2.imread('../data/train_dataset/LT_adjust/LT_09/DAT08.png', cv2.IMREAD_GRAYSCALE)\n",
    "plt.imshow(img)"
   ]
  },
  {
   "cell_type": "code",
   "execution_count": 294,
   "metadata": {},
   "outputs": [
    {
     "data": {
      "text/plain": [
       "<matplotlib.image.AxesImage at 0x1edb59137f0>"
      ]
     },
     "execution_count": 294,
     "metadata": {},
     "output_type": "execute_result"
    },
    {
     "data": {
      "image/png": "[encoded data removed]",
      "text/plain": [
       "<Figure size 432x288 with 1 Axes>"
      ]
     },
     "metadata": {
      "needs_background": "light"
     },
     "output_type": "display_data"
    }
   ],
   "source": [
    "def transforms():\n",
    "    return A.Compose([\n",
    "            A.Resize(random.randint(256, 256+128), random.randint(256, 256+128)),\n",
    "            # A.Resize(config.img_size, config.img_size),\n",
    "            A.RandomCrop(256, 256)\n",
    "            # A.crops.transforms.CenterCrop(256, 256, p=1.0),\n",
    "            # A.RandomCrop(256, 256),\n",
    "            # A.Cutout(max_h_size=int(256 * 0.5), max_w_size=int(256 * 0.5), num_holes=1, p=0.8)\n",
    "            # RandomAugMix(severity=3, width=3, alpha=1.0, p=1.0),\n",
    "            # ToTensorV2()\n",
    "    ])\n",
    "trans = transforms()\n",
    "img2 = trans(image=img)['image']\n",
    "plt.imshow(img2)"
   ]
  },
  {
   "cell_type": "code",
   "execution_count": null,
   "metadata": {},
   "outputs": [],
   "source": [
    "def random_crop(img, img2):\n",
    "    h_size = int(img.shape[0]/2)\n",
    "    seed = np.random.rand()\n",
    "    if seed<0.2:\n",
    "        img = img[:h_size, :h_size]\n",
    "        img2 = img2[:h_size, :h_size]\n",
    "    elif 0.2<=seed<0.4:\n",
    "        img = img[:h_size, h_size:]\n",
    "        img2 = img2[:h_size, h_size:]\n",
    "    elif 0.4<=seed<0.6:\n",
    "        img = img[h_size:, :h_size]\n",
    "        img2 = img2[h_size:, :h_size]\n",
    "    elif 0.6<=seed<0.8:\n",
    "        img = img[h_size:, h_size:]\n",
    "        img2 = img2[h_size:, h_size:]\n",
    "    elif 0.8<=seed:\n",
    "        img = img[int(h_size/2):int(h_size/2*3), int(h_size/2):int(h_size/2*3)]\n",
    "        img2 = img2[int(h_size/2):int(h_size/2*3), int(h_size/2):int(h_size/2*3)]\n",
    "    return img, img2"
   ]
  },
  {
   "cell_type": "code",
   "execution_count": null,
   "metadata": {},
   "outputs": [],
   "source": [
    "random_crop(img, img)[0].shape"
   ]
  },
  {
   "cell_type": "code",
   "execution_count": null,
   "metadata": {},
   "outputs": [],
   "source": [
    "256/2/2"
   ]
  },
  {
   "cell_type": "code",
   "execution_count": null,
   "metadata": {},
   "outputs": [],
   "source": [
    "plt.imshow(img[64:64*3, 64:64*3])"
   ]
  },
  {
   "cell_type": "code",
   "execution_count": null,
   "metadata": {},
   "outputs": [],
   "source": []
  },
  {
   "cell_type": "code",
   "execution_count": null,
   "metadata": {},
   "outputs": [],
   "source": []
  },
  {
   "cell_type": "code",
   "execution_count": null,
   "metadata": {},
   "outputs": [],
   "source": []
  },
  {
   "cell_type": "code",
   "execution_count": null,
   "metadata": {},
   "outputs": [],
   "source": []
  }
 ],
 "metadata": {
  "interpreter": {
   "hash": "06be3f89a33791bf2bed5c1b358d2c83091f530d03001d02647f2b5cfc546480"
  },
  "kernelspec": {
   "display_name": "Python 3.9.7 64-bit ('ray_pl': conda)",
   "language": "python",
   "name": "python3"
  },
  "language_info": {
   "codemirror_mode": {
    "name": "ipython",
    "version": 3
   },
   "file_extension": ".py",
   "mimetype": "text/x-python",
   "name": "python",
   "nbconvert_exporter": "python",
   "pygments_lexer": "ipython3",
   "version": "3.9.7"
  },
  "orig_nbformat": 4
 },
 "nbformat": 4,
 "nbformat_minor": 2
}
