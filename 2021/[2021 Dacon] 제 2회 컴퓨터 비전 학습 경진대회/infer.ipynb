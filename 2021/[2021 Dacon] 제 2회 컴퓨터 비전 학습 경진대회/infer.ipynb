{
 "metadata": {
  "language_info": {
   "codemirror_mode": {
    "name": "ipython",
    "version": 3
   },
   "file_extension": ".py",
   "mimetype": "text/x-python",
   "name": "python",
   "nbconvert_exporter": "python",
   "pygments_lexer": "ipython3",
   "version": "3.7.9-final"
  },
  "orig_nbformat": 2,
  "kernelspec": {
   "name": "python3",
   "display_name": "Python 3",
   "language": "python"
  }
 },
 "nbformat": 4,
 "nbformat_minor": 2,
 "cells": [
  {
   "cell_type": "code",
   "execution_count": 1,
   "metadata": {},
   "outputs": [],
   "source": [
    "import os\n",
    "import pandas as pd\n",
    "import numpy as np\n",
    "\n",
    "import cv2\n",
    "import torch\n",
    "import torch.nn as nn\n",
    "from torch.utils.data import Dataset, DataLoader \n",
    "import timm\n",
    "from tqdm import tqdm"
   ]
  },
  {
   "cell_type": "code",
   "execution_count": 20,
   "metadata": {},
   "outputs": [],
   "source": [
    "model_name = 'tf_efficientnet_b5_ns'\n",
    "model_path = '../models/b5_best'\n",
    "bs = 20\n",
    "device = 'cuda:0'"
   ]
  },
  {
   "cell_type": "code",
   "execution_count": 3,
   "metadata": {},
   "outputs": [],
   "source": [
    "test = pd.read_csv('../data/sample_submission.csv')\n",
    "image_path = np.array([os.path.join('../data/test_dirty_mnist_2nd/', f'{i}.png') for i in test['index']])"
   ]
  },
  {
   "cell_type": "code",
   "execution_count": 4,
   "metadata": {},
   "outputs": [],
   "source": [
    "class PathDataset(Dataset): \n",
    "    def __init__(self, image_paths, labels=None, transforms=None, is_test=False): \n",
    "        self.image_paths = image_paths\n",
    "        self.labels = labels \n",
    "        self.transforms = transforms\n",
    "        self.is_test = is_test\n",
    "\n",
    "        self.imgs = []\n",
    "        for img_path in tqdm(self.image_paths):\n",
    "            img = cv2.imread(img_path)\n",
    "            img = cv2.cvtColor(img, cv2.COLOR_BGR2RGB)\n",
    "            self.imgs.append(img)\n",
    "\n",
    "    def __getitem__(self, index):\n",
    "        # img = cv2.imread(self.image_paths[index])\n",
    "        # img = cv2.cvtColor(img, cv2.COLOR_BGR2RGB)\n",
    "\n",
    "        img = self.imgs[index]\n",
    "        if self.transforms:\n",
    "            img = self.transforms(image=img)['image'].astype(np.float32)\n",
    "        img = self.normalize_img(img)\n",
    "        img = self.to_torch_tensor(img)\n",
    "\n",
    "        if self.is_test:\n",
    "            return img\n",
    "        else:\n",
    "            return img, torch.tensor(self.labels[index], dtype=torch.float32)\n",
    "\n",
    "    def __len__(self): \n",
    "        return len(self.image_paths)\n",
    "\n",
    "    def normalize_img(self, img):\n",
    "        mean = np.array([123.675, 116.28 , 103.53 ], dtype=np.float32)\n",
    "        std = np.array([58.395   , 57.120, 57.375   ], dtype=np.float32)\n",
    "        img = img.astype(np.float32)\n",
    "        img -= mean\n",
    "        img *= np.reciprocal(std, dtype=np.float32)\n",
    "        return img\n",
    "\n",
    "    def to_torch_tensor(self,img):\n",
    "        return torch.from_numpy(img.transpose((2, 0, 1)))\n"
   ]
  },
  {
   "cell_type": "code",
   "execution_count": 5,
   "metadata": {},
   "outputs": [
    {
     "output_type": "stream",
     "name": "stderr",
     "text": [
      "100%|██████████| 5000/5000 [00:03<00:00, 1333.39it/s]\n"
     ]
    }
   ],
   "source": [
    "test_dataset = PathDataset(image_paths=image_path, transforms=None, is_test=True)\n",
    "test_loader = DataLoader(dataset=test_dataset, \n",
    "                        batch_size=bs, \n",
    "                        num_workers=0,\n",
    "                        shuffle=False, pin_memory=True)"
   ]
  },
  {
   "cell_type": "code",
   "execution_count": 21,
   "metadata": {},
   "outputs": [],
   "source": [
    "def build_model(model_name, device):\n",
    "    model = timm_models(model_name)\n",
    "    model = model.to(device)\n",
    "    return model\n",
    "\n",
    "class timm_models(nn.Module):\n",
    "    def __init__(self, model_name):\n",
    "        super().__init__()\n",
    "        self.model = timm.create_model(model_name, pretrained=True, num_classes=512)\n",
    "        self.dropouts = nn.ModuleList([nn.Dropout(0.5) for _ in range(5)])\n",
    "        self.output_layer = nn.Linear(512, 26)\n",
    "    def forward(self, img):\n",
    "        feat = self.model(img)\n",
    "        for i, dropout in enumerate(self.dropouts):\n",
    "            if i==0:\n",
    "                output = self.output_layer(dropout(feat))\n",
    "            else:\n",
    "                output += self.output_layer(dropout(feat))\n",
    "        else:\n",
    "            output /= len(self.dropouts)\n",
    "        outputs = torch.sigmoid(output)\n",
    "        # outputs = torch.sigmoid(self.output_layer(feat))\n",
    "        return outputs\n",
    "\n",
    "def get_trans(img, I):\n",
    "    if I >= 4:\n",
    "        img = img.transpose(2,3)\n",
    "    if I % 4 == 0:\n",
    "        return img\n",
    "    elif I % 4 == 1:\n",
    "        return img.flip(2)\n",
    "    elif I % 4 == 2:\n",
    "        return img.flip(3)\n",
    "    elif I % 4 == 3:\n",
    "        return img.flip(2).flip(3)"
   ]
  },
  {
   "cell_type": "code",
   "execution_count": 22,
   "metadata": {},
   "outputs": [],
   "source": [
    "model = build_model(model_name, device)"
   ]
  },
  {
   "cell_type": "code",
   "execution_count": 23,
   "metadata": {},
   "outputs": [
    {
     "output_type": "stream",
     "name": "stderr",
     "text": [
      "100%|██████████| 250/250 [00:50<00:00,  4.92it/s]\n",
      "100%|██████████| 250/250 [00:51<00:00,  4.90it/s]\n"
     ]
    }
   ],
   "source": [
    "fold_predictions = []\n",
    "n_test = 4\n",
    "\n",
    "for fold in range(2):\n",
    "    m_path = os.path.join(model_path, f'fold_epoch_{fold}.pth')\n",
    "    model.load_state_dict(torch.load(m_path))\n",
    "    model.eval()\n",
    "    predictions = []\n",
    "\n",
    "    bar = tqdm(test_loader)\n",
    "    with torch.no_grad():\n",
    "        for images in bar:\n",
    "            images = images.to(device)\n",
    "            \n",
    "            for I in range(n_test):\n",
    "                if I == 0:\n",
    "                    outputs = model(get_trans(images, I))\n",
    "                else:\n",
    "                    outputs += model(get_trans(images, I))\n",
    "            else:\n",
    "                outputs /= n_test\n",
    "            \n",
    "            predictions.append(outputs.cpu().detach().numpy())\n",
    "    predictions = np.concatenate(predictions)\n",
    "    fold_predictions.append(predictions)"
   ]
  },
  {
   "cell_type": "code",
   "execution_count": 11,
   "metadata": {},
   "outputs": [],
   "source": [
    "predictions_b7 = np.mean(fold_predictions, 0)"
   ]
  },
  {
   "cell_type": "code",
   "execution_count": 17,
   "metadata": {},
   "outputs": [],
   "source": [
    "predictions_b6 = np.mean(fold_predictions, 0)"
   ]
  },
  {
   "cell_type": "code",
   "execution_count": 24,
   "metadata": {},
   "outputs": [],
   "source": [
    "predictions_b5 = np.mean(fold_predictions, 0)"
   ]
  },
  {
   "cell_type": "code",
   "execution_count": null,
   "metadata": {},
   "outputs": [],
   "source": [
    "predictions_b6*0.3 + predictions_b7*0.7"
   ]
  },
  {
   "cell_type": "code",
   "execution_count": 27,
   "metadata": {},
   "outputs": [],
   "source": [
    "predictions = predictions_b6*0.3 + predictions_b7*0.7\n",
    "test.loc[:, 'a':] = np.where(predictions>=0.5, 1, 0)"
   ]
  },
  {
   "cell_type": "code",
   "execution_count": 28,
   "metadata": {},
   "outputs": [],
   "source": [
    "test.to_csv('../submit/final_ensemble.csv', index=False)"
   ]
  },
  {
   "cell_type": "code",
   "execution_count": 33,
   "metadata": {},
   "outputs": [
    {
     "output_type": "execute_result",
     "data": {
      "text/plain": [
       "6"
      ]
     },
     "metadata": {},
     "execution_count": 33
    }
   ],
   "source": [
    "test.loc[:, 'a':].sum(1).min()"
   ]
  },
  {
   "cell_type": "code",
   "execution_count": null,
   "metadata": {},
   "outputs": [],
   "source": []
  },
  {
   "cell_type": "code",
   "execution_count": 11,
   "metadata": {},
   "outputs": [],
   "source": [
    "predictions = np.mean(fold_predictions, 0)\n",
    "test.loc[:, 'a':] = np.where(predictions>=0.5, 1, 0)"
   ]
  },
  {
   "cell_type": "code",
   "execution_count": 20,
   "metadata": {},
   "outputs": [],
   "source": [
    "test.to_csv('../submit/aug_fold_baseline_b7.csv', index=False)"
   ]
  },
  {
   "cell_type": "code",
   "execution_count": 25,
   "metadata": {},
   "outputs": [],
   "source": [
    "predictions = predictions_b6*0.3 + predictions_b7*0.7\n",
    "test.loc[:, 'a':] = np.where(predictions>=0.5, 1, 0)"
   ]
  },
  {
   "cell_type": "code",
   "execution_count": 26,
   "metadata": {},
   "outputs": [],
   "source": [
    "test.to_csv('../submit/final_b7+b6.csv', index=False)"
   ]
  },
  {
   "cell_type": "code",
   "execution_count": null,
   "metadata": {},
   "outputs": [],
   "source": []
  }
 ]
}