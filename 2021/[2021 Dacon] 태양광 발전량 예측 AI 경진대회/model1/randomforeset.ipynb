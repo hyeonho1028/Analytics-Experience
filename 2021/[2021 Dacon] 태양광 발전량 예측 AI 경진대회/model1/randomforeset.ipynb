{
 "metadata": {
  "language_info": {
   "codemirror_mode": {
    "name": "ipython",
    "version": 3
   },
   "file_extension": ".py",
   "mimetype": "text/x-python",
   "name": "python",
   "nbconvert_exporter": "python",
   "pygments_lexer": "ipython3",
   "version": 3
  },
  "orig_nbformat": 2
 },
 "nbformat": 4,
 "nbformat_minor": 2,
 "cells": [
  {
   "cell_type": "code",
   "execution_count": null,
   "metadata": {},
   "outputs": [],
   "source": [
    "import pandas as pd\n",
    "import numpy as np\n",
    "import os\n",
    "import glob\n",
    "import random\n",
    "from math import cos, radians\n",
    "\n",
    "from tqdm import tqdm\n",
    "\n",
    "import matplotlib.pyplot as plt\n",
    "import seaborn as sns\n",
    "\n",
    "from sklearn.ensemble import RandomForestRegressor\n",
    "quantiles = [0.1, 0.2, 0.3, 0.4, 0.5, 0.6, 0.7, 0.8, 0.9]"
   ]
  },
  {
   "cell_type": "code",
   "execution_count": null,
   "metadata": {},
   "outputs": [],
   "source": [
    "train = pd.read_csv('../data/train/train.csv')\n",
    "submission = pd.read_csv('../data/sample_submission.csv')\n",
    "\n",
    "submission['time'] = submission['id'].apply(lambda x: x.split('_')[2].replace('h', '.').replace('m', '')).astype(float)\n",
    "zero_idx = submission.loc[(submission['time']<=4.3) | (submission['time']>=19.3)].index\n",
    "submission.drop(columns='time', inplace=True)"
   ]
  },
  {
   "cell_type": "code",
   "execution_count": null,
   "metadata": {},
   "outputs": [],
   "source": [
    "def load(day_range=1):\n",
    "    train_list = []\n",
    "    tar_list = []\n",
    "    for day in tqdm(range(day_range-1, int(train.shape[0]/48-2))):\n",
    "        temp = train.loc[(train['Day']<=day) & (train['Day']>day-day_range), ['DHI', 'DNI', 'WS', 'RH', 'T', 'TARGET']]\n",
    "        temp2 = []\n",
    "        for col in ['DHI', 'DNI', 'WS', 'RH', 'T', 'TARGET']:\n",
    "            temp2 += [temp[col].values.reshape(-1)]\n",
    "        temp = np.concatenate(temp2)\n",
    "        target = train.loc[train['Day']==day+1, 'TARGET'].values.tolist()\n",
    "        target2 = train.loc[train['Day']==day+2, 'TARGET'].values.tolist()\n",
    "        target += target2\n",
    "        train_list += [temp]\n",
    "        tar_list += [target]\n",
    "    train_arr = np.concatenate([train_list], 1)\n",
    "    tar_arr = np.concatenate([tar_list], 1)\n",
    "    print(train_arr.shape, tar_arr.shape)\n",
    "\n",
    "    test_list = []\n",
    "    for i in tqdm(range(81)):\n",
    "        file_path = '../data/test/' + str(i) + '.csv'\n",
    "        temp = pd.read_csv(file_path)\n",
    "        temp2 = []\n",
    "        temp = temp.loc[(temp['Day']<=6) & (temp['Day']>6-day_range), ['DHI', 'DNI', 'WS', 'RH', 'T', 'TARGET']]\n",
    "        for col in ['DHI', 'DNI', 'WS', 'RH', 'T', 'TARGET']:\n",
    "            temp2 += [temp[col].values.reshape(-1)]\n",
    "        temp = np.concatenate(temp2)\n",
    "        test_list += [temp]\n",
    "    test_arr = np.concatenate([test_list], 1)\n",
    "    print(test_arr.shape)\n",
    "    \n",
    "    return train_arr, tar_arr, test_arr"
   ]
  },
  {
   "cell_type": "code",
   "execution_count": null,
   "metadata": {},
   "outputs": [],
   "source": [
    "predictions = {}\n",
    "\n",
    "for day_range in range(3, 8):\n",
    "    train_arr, tar_arr, test_arr = load(day_range=day_range)\n",
    "    \n",
    "    #################### nunique > 1\n",
    "    not_unique_features = pd.DataFrame(train_arr).nunique()>1\n",
    "    train_arr = train_arr[:, not_unique_features]\n",
    "    test_arr = test_arr[:, not_unique_features]\n",
    "        \n",
    "    #################### Month Feature\n",
    "    days = [int(i) for i in list('1'*31 + '2'*28 + '3'*31 + '4'*30 + '5'*31 + '6'*30 + '7'*31 + '8'*31 + '9'*30)]\n",
    "    days += [10 for i in range(31)]\n",
    "    days += [11 for i in range(30)]\n",
    "    days += [12 for i in range(31)]\n",
    "    days += days + days\n",
    "    days = np.array(days[day_range-1:-2])\n",
    "    \n",
    "    m = RandomForestClassifier(n_estimators=1000, max_depth=10)\n",
    "    m.fit(train_arr, days)\n",
    "\n",
    "    train_arr = np.concatenate([train_arr, days.reshape(-1, 1)], 1)\n",
    "    test_arr = np.concatenate([test_arr, m.predict(test_arr).reshape(-1, 1)], 1)\n",
    "    \n",
    "    #################### Model fit\n",
    "    rf = RandomForestRegressor(n_estimators=1000,\n",
    "                            criterion='mae',\n",
    "                            max_features=10,\n",
    "                            max_depth=10,\n",
    "                            random_state=0,\n",
    "                            n_jobs=12)\n",
    "    rf.fit(train_arr, tar_arr)\n",
    "\n",
    "    #################### filter importance features\n",
    "    importance_features = rf.feature_importances_>0.001\n",
    "    print(sum(importance_features))\n",
    "\n",
    "    rf.fit(train_arr[:, importance_features], tar_arr)\n",
    "    \n",
    "    #################### inference\n",
    "    rf_preds = []\n",
    "    quantile_preds = []\n",
    "\n",
    "    for estimator in rf.estimators_:\n",
    "        rf_preds.append(estimator.predict(test_arr[:, importance_features]).reshape(-1))\n",
    "    rf_preds = np.array(rf_preds)\n",
    "\n",
    "    for i, q in enumerate(quantiles):\n",
    "        quantile_preds += [np.percentile(rf_preds, q * 100, axis=0)]\n",
    "\n",
    "    predictions[day_range] = quantile_preds\n",
    "    \n",
    "    for i in range(3, day_range+1):\n",
    "        print(np.sum(predictions[i]))"
   ]
  },
  {
   "cell_type": "code",
   "execution_count": null,
   "metadata": {},
   "outputs": [],
   "source": [
    "submission.iloc[:, 1:] = np.clip(lgb[7].round(2), 0, 100)\n",
    "submission.loc[zero_idx, 'q_0.1':]=0\n",
    "submission.to_csv('../submit/rf_model.csv', index=False)"
   ]
  },
  {
   "cell_type": "code",
   "execution_count": null,
   "metadata": {},
   "outputs": [],
   "source": []
  },
  {
   "cell_type": "code",
   "execution_count": null,
   "metadata": {},
   "outputs": [],
   "source": []
  },
  {
   "cell_type": "code",
   "execution_count": null,
   "metadata": {},
   "outputs": [],
   "source": []
  },
  {
   "cell_type": "code",
   "execution_count": null,
   "metadata": {},
   "outputs": [],
   "source": []
  },
  {
   "cell_type": "code",
   "execution_count": null,
   "metadata": {},
   "outputs": [],
   "source": []
  },
  {
   "cell_type": "code",
   "execution_count": null,
   "metadata": {},
   "outputs": [],
   "source": []
  }
 ]
}