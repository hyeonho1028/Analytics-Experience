{
  "nbformat": 4,
  "nbformat_minor": 0,
  "metadata": {
    "colab": {
      "name": "TimeSeries_pytorch.ipynb",
      "provenance": [],
      "collapsed_sections": []
    },
    "kernelspec": {
      "name": "python3",
      "display_name": "Python 3"
    },
    "accelerator": "GPU",
    "widgets": {
      "application/vnd.jupyter.widget-state+json": {
        "2609c65e879849ce916b99b931d4ba2c": {
          "model_module": "@jupyter-widgets/controls",
          "model_name": "HBoxModel",
          "state": {
            "_view_name": "HBoxView",
            "_dom_classes": [],
            "_model_name": "HBoxModel",
            "_view_module": "@jupyter-widgets/controls",
            "_model_module_version": "1.5.0",
            "_view_count": null,
            "_view_module_version": "1.5.0",
            "box_style": "",
            "layout": "IPY_MODEL_8c4c4d982a8a45348281b5954daf9d70",
            "_model_module": "@jupyter-widgets/controls",
            "children": [
              "IPY_MODEL_eeefbda39f5e498286518b752d121453",
              "IPY_MODEL_4906bb034dfb41f7b82ba26129aeafbe"
            ]
          }
        },
        "8c4c4d982a8a45348281b5954daf9d70": {
          "model_module": "@jupyter-widgets/base",
          "model_name": "LayoutModel",
          "state": {
            "_view_name": "LayoutView",
            "grid_template_rows": null,
            "right": null,
            "justify_content": null,
            "_view_module": "@jupyter-widgets/base",
            "overflow": null,
            "_model_module_version": "1.2.0",
            "_view_count": null,
            "flex_flow": null,
            "width": null,
            "min_width": null,
            "border": null,
            "align_items": null,
            "bottom": null,
            "_model_module": "@jupyter-widgets/base",
            "top": null,
            "grid_column": null,
            "overflow_y": null,
            "overflow_x": null,
            "grid_auto_flow": null,
            "grid_area": null,
            "grid_template_columns": null,
            "flex": null,
            "_model_name": "LayoutModel",
            "justify_items": null,
            "grid_row": null,
            "max_height": null,
            "align_content": null,
            "visibility": null,
            "align_self": null,
            "height": null,
            "min_height": null,
            "padding": null,
            "grid_auto_rows": null,
            "grid_gap": null,
            "max_width": null,
            "order": null,
            "_view_module_version": "1.2.0",
            "grid_template_areas": null,
            "object_position": null,
            "object_fit": null,
            "grid_auto_columns": null,
            "margin": null,
            "display": null,
            "left": null
          }
        },
        "eeefbda39f5e498286518b752d121453": {
          "model_module": "@jupyter-widgets/controls",
          "model_name": "FloatProgressModel",
          "state": {
            "_view_name": "ProgressView",
            "style": "IPY_MODEL_da325761f05d471aa3168379ad085af1",
            "_dom_classes": [],
            "description": "100%",
            "_model_name": "FloatProgressModel",
            "bar_style": "success",
            "max": 81,
            "_view_module": "@jupyter-widgets/controls",
            "_model_module_version": "1.5.0",
            "value": 81,
            "_view_count": null,
            "_view_module_version": "1.5.0",
            "orientation": "horizontal",
            "min": 0,
            "description_tooltip": null,
            "_model_module": "@jupyter-widgets/controls",
            "layout": "IPY_MODEL_cd1615dce8cd447cb263c680cd2b1e61"
          }
        },
        "4906bb034dfb41f7b82ba26129aeafbe": {
          "model_module": "@jupyter-widgets/controls",
          "model_name": "HTMLModel",
          "state": {
            "_view_name": "HTMLView",
            "style": "IPY_MODEL_b4c80cc327c74518bbf6e83aa0b0aed0",
            "_dom_classes": [],
            "description": "",
            "_model_name": "HTMLModel",
            "placeholder": "​",
            "_view_module": "@jupyter-widgets/controls",
            "_model_module_version": "1.5.0",
            "value": " 81/81 [00:47&lt;00:00,  1.70it/s]",
            "_view_count": null,
            "_view_module_version": "1.5.0",
            "description_tooltip": null,
            "_model_module": "@jupyter-widgets/controls",
            "layout": "IPY_MODEL_86a521525e2f485d84dbbc12ec065c8d"
          }
        },
        "da325761f05d471aa3168379ad085af1": {
          "model_module": "@jupyter-widgets/controls",
          "model_name": "ProgressStyleModel",
          "state": {
            "_view_name": "StyleView",
            "_model_name": "ProgressStyleModel",
            "description_width": "initial",
            "_view_module": "@jupyter-widgets/base",
            "_model_module_version": "1.5.0",
            "_view_count": null,
            "_view_module_version": "1.2.0",
            "bar_color": null,
            "_model_module": "@jupyter-widgets/controls"
          }
        },
        "cd1615dce8cd447cb263c680cd2b1e61": {
          "model_module": "@jupyter-widgets/base",
          "model_name": "LayoutModel",
          "state": {
            "_view_name": "LayoutView",
            "grid_template_rows": null,
            "right": null,
            "justify_content": null,
            "_view_module": "@jupyter-widgets/base",
            "overflow": null,
            "_model_module_version": "1.2.0",
            "_view_count": null,
            "flex_flow": null,
            "width": null,
            "min_width": null,
            "border": null,
            "align_items": null,
            "bottom": null,
            "_model_module": "@jupyter-widgets/base",
            "top": null,
            "grid_column": null,
            "overflow_y": null,
            "overflow_x": null,
            "grid_auto_flow": null,
            "grid_area": null,
            "grid_template_columns": null,
            "flex": null,
            "_model_name": "LayoutModel",
            "justify_items": null,
            "grid_row": null,
            "max_height": null,
            "align_content": null,
            "visibility": null,
            "align_self": null,
            "height": null,
            "min_height": null,
            "padding": null,
            "grid_auto_rows": null,
            "grid_gap": null,
            "max_width": null,
            "order": null,
            "_view_module_version": "1.2.0",
            "grid_template_areas": null,
            "object_position": null,
            "object_fit": null,
            "grid_auto_columns": null,
            "margin": null,
            "display": null,
            "left": null
          }
        },
        "b4c80cc327c74518bbf6e83aa0b0aed0": {
          "model_module": "@jupyter-widgets/controls",
          "model_name": "DescriptionStyleModel",
          "state": {
            "_view_name": "StyleView",
            "_model_name": "DescriptionStyleModel",
            "description_width": "",
            "_view_module": "@jupyter-widgets/base",
            "_model_module_version": "1.5.0",
            "_view_count": null,
            "_view_module_version": "1.2.0",
            "_model_module": "@jupyter-widgets/controls"
          }
        },
        "86a521525e2f485d84dbbc12ec065c8d": {
          "model_module": "@jupyter-widgets/base",
          "model_name": "LayoutModel",
          "state": {
            "_view_name": "LayoutView",
            "grid_template_rows": null,
            "right": null,
            "justify_content": null,
            "_view_module": "@jupyter-widgets/base",
            "overflow": null,
            "_model_module_version": "1.2.0",
            "_view_count": null,
            "flex_flow": null,
            "width": null,
            "min_width": null,
            "border": null,
            "align_items": null,
            "bottom": null,
            "_model_module": "@jupyter-widgets/base",
            "top": null,
            "grid_column": null,
            "overflow_y": null,
            "overflow_x": null,
            "grid_auto_flow": null,
            "grid_area": null,
            "grid_template_columns": null,
            "flex": null,
            "_model_name": "LayoutModel",
            "justify_items": null,
            "grid_row": null,
            "max_height": null,
            "align_content": null,
            "visibility": null,
            "align_self": null,
            "height": null,
            "min_height": null,
            "padding": null,
            "grid_auto_rows": null,
            "grid_gap": null,
            "max_width": null,
            "order": null,
            "_view_module_version": "1.2.0",
            "grid_template_areas": null,
            "object_position": null,
            "object_fit": null,
            "grid_auto_columns": null,
            "margin": null,
            "display": null,
            "left": null
          }
        }
      }
    }
  },
  "cells": [
    {
      "cell_type": "markdown",
      "metadata": {
        "id": "3JQSA9rSgpW4"
      },
      "source": [
        "# 코랩 연결"
      ]
    },
    {
      "cell_type": "code",
      "metadata": {
        "colab": {
          "base_uri": "https://localhost:8080/"
        },
        "id": "L8AtkaFyVKZG",
        "outputId": "dedd41e5-a012-458d-f61d-3681ec9c8a4c"
      },
      "source": [
        "# google drive와 colab연동\n",
        "from google.colab import auth\n",
        "\n",
        "auth.authenticate_user()\n",
        "\n",
        "from google.colab import drive\n",
        "drive.mount('/content/gdrive')"
      ],
      "execution_count": null,
      "outputs": [
        {
          "output_type": "stream",
          "text": [
            "Mounted at /content/gdrive\n"
          ],
          "name": "stdout"
        }
      ]
    },
    {
      "cell_type": "markdown",
      "metadata": {
        "id": "wtrJ0U_Tgz86"
      },
      "source": [
        "# 함수 호출"
      ]
    },
    {
      "cell_type": "code",
      "metadata": {
        "id": "3GTwrkDdVKbm"
      },
      "source": [
        "import pandas as pd\n",
        "import numpy as np\n",
        "import matplotlib.pyplot as plt\n",
        "import seaborn as sns\n",
        "import lightgbm as lgb\n",
        "from sklearn import preprocessing, metrics\n",
        "from ipywidgets import widgets, interactive\n",
        "import gc\n",
        "import joblib\n",
        "import warnings\n",
        "\n",
        "warnings.filterwarnings('ignore')\n",
        "from datetime import datetime, timedelta \n",
        "from typing import Union\n",
        "from tqdm.notebook import tqdm_notebook as tqdm\n",
        "from itertools import cycle\n",
        "import datetime as dt\n",
        "from torch.autograd import Variable\n",
        "import random \n",
        "import os\n",
        "from matplotlib.pyplot import figure\n",
        "from fastprogress import master_bar, progress_bar\n",
        "import torch\n",
        "import torch.nn as nn\n",
        "import seaborn as sns\n",
        "import matplotlib.pyplot as plt\n",
        "from sklearn.preprocessing import MinMaxScaler\n",
        "import time \n",
        "from torch.utils.data import Dataset,DataLoader,TensorDataset\n",
        "from sklearn.metrics import mean_squared_error\n",
        "import torch \n",
        "\n",
        "%matplotlib inline\n",
        "\n",
        "\n",
        "pd.set_option('max_columns', 100)\n",
        "plt.style.use('bmh')\n",
        "\n",
        "color_pal = plt.rcParams['axes.prop_cycle'].by_key()['color']\n",
        "color_cycle = cycle(plt.rcParams['axes.prop_cycle'].by_key()['color'])"
      ],
      "execution_count": null,
      "outputs": []
    },
    {
      "cell_type": "markdown",
      "metadata": {
        "id": "i_0Y5lvThH26"
      },
      "source": [
        "# GPU 및 SEED 고정"
      ]
    },
    {
      "cell_type": "code",
      "metadata": {
        "colab": {
          "base_uri": "https://localhost:8080/"
        },
        "id": "kFocfsv1hHUY",
        "outputId": "066fccee-1c4f-40e9-907d-ee84c5cb57d8"
      },
      "source": [
        "# torch GPU 사용 여부\n",
        "device = torch.device('cuda' if torch.cuda.is_available() else 'cpu')\n",
        "print(\"device is:\",device)\n",
        "\n",
        "SEED = 42\n",
        "\n",
        "def seed_everything(seed):\n",
        "    random.seed(seed)\n",
        "    os.environ['PYTHONHASHSEED'] = str(seed)\n",
        "    np.random.seed(seed)\n",
        "    torch.manual_seed(seed)\n",
        "    torch.cuda.manual_seed(seed)\n",
        "    torch.backends.cudnn.deterministic = True\n",
        "\n",
        "seed_everything(SEED)"
      ],
      "execution_count": null,
      "outputs": [
        {
          "output_type": "stream",
          "text": [
            "device is: cuda\n"
          ],
          "name": "stdout"
        }
      ]
    },
    {
      "cell_type": "markdown",
      "metadata": {
        "id": "loug8oykhgoH"
      },
      "source": [
        "# 데이터 불러오기"
      ]
    },
    {
      "cell_type": "code",
      "metadata": {
        "colab": {
          "base_uri": "https://localhost:8080/",
          "height": 66,
          "referenced_widgets": [
            "2609c65e879849ce916b99b931d4ba2c",
            "8c4c4d982a8a45348281b5954daf9d70",
            "eeefbda39f5e498286518b752d121453",
            "4906bb034dfb41f7b82ba26129aeafbe",
            "da325761f05d471aa3168379ad085af1",
            "cd1615dce8cd447cb263c680cd2b1e61",
            "b4c80cc327c74518bbf6e83aa0b0aed0",
            "86a521525e2f485d84dbbc12ec065c8d"
          ]
        },
        "id": "TFjHvIlyVKeB",
        "outputId": "1a1f6cbd-fb53-420d-9480-0b1758d4403e"
      },
      "source": [
        "path = \"./gdrive/My Drive/dacon/발전량/data/\"\n",
        "\n",
        "train_df = pd.read_csv(path+'./train/train.csv')\n",
        "sub_df = pd.read_csv(path+'./sample_submission.csv')\n",
        "\n",
        "test_df = pd.DataFrame()\n",
        "test_set_df = pd.DataFrame()\n",
        "\n",
        "for i in tqdm(os.listdir(path+'/test/')):\n",
        "  df = pd.read_csv(path+\"/test/\"+i)\n",
        "  df[\"F_NAME\"] = \"TEST_\"+i\n",
        "  test_df = pd.concat([test_df,df],axis=0)\n",
        "  test_set_df = pd.concat([test_set_df,df[df[\"Day\"]>=5]],axis=0)\n",
        "\n",
        "  del df\n",
        "\n",
        "test_df = test_df.reset_index(drop=True)\n",
        "test_set_df = test_set_df.reset_index(drop=True)\n",
        "\n",
        "\n",
        "test_df[\"TY\"] = test_df[\"F_NAME\"].apply(lambda x:x[x.find(\"_\")+1:x.find(\".\")])\n",
        "test_df[\"TY\"] = test_df[\"TY\"].astype('int')\n",
        "test_df.sort_values(by=[\"TY\",\"Day\",\"Hour\",\"Minute\"],inplace=True)\n",
        "test_df = test_df.reset_index(drop=True)\n",
        "\n",
        "test_set_df[\"TY\"] = test_set_df[\"F_NAME\"].apply(lambda x:x[x.find(\"_\")+1:x.find(\".\")])\n",
        "test_set_df[\"TY\"] = test_set_df[\"TY\"].astype('int')\n",
        "test_set_df.sort_values(by=[\"TY\",\"Day\",\"Hour\",\"Minute\"],inplace=True)\n",
        "test_set_df = test_set_df.reset_index(drop=True)"
      ],
      "execution_count": null,
      "outputs": [
        {
          "output_type": "display_data",
          "data": {
            "application/vnd.jupyter.widget-view+json": {
              "model_id": "2609c65e879849ce916b99b931d4ba2c",
              "version_minor": 0,
              "version_major": 2
            },
            "text/plain": [
              "HBox(children=(FloatProgress(value=0.0, max=81.0), HTML(value='')))"
            ]
          },
          "metadata": {
            "tags": []
          }
        },
        {
          "output_type": "stream",
          "text": [
            "\n"
          ],
          "name": "stdout"
        }
      ]
    },
    {
      "cell_type": "code",
      "metadata": {
        "colab": {
          "base_uri": "https://localhost:8080/",
          "height": 221
        },
        "id": "Ki_jJyu0jhss",
        "outputId": "a5907c31-d3bc-4ccf-acd1-1381c4205a9d"
      },
      "source": [
        "print(train_df.shape)\n",
        "train_df.head()"
      ],
      "execution_count": null,
      "outputs": [
        {
          "output_type": "stream",
          "text": [
            "(52560, 9)\n"
          ],
          "name": "stdout"
        },
        {
          "output_type": "execute_result",
          "data": {
            "text/html": [
              "<div>\n",
              "<style scoped>\n",
              "    .dataframe tbody tr th:only-of-type {\n",
              "        vertical-align: middle;\n",
              "    }\n",
              "\n",
              "    .dataframe tbody tr th {\n",
              "        vertical-align: top;\n",
              "    }\n",
              "\n",
              "    .dataframe thead th {\n",
              "        text-align: right;\n",
              "    }\n",
              "</style>\n",
              "<table border=\"1\" class=\"dataframe\">\n",
              "  <thead>\n",
              "    <tr style=\"text-align: right;\">\n",
              "      <th></th>\n",
              "      <th>Day</th>\n",
              "      <th>Hour</th>\n",
              "      <th>Minute</th>\n",
              "      <th>DHI</th>\n",
              "      <th>DNI</th>\n",
              "      <th>WS</th>\n",
              "      <th>RH</th>\n",
              "      <th>T</th>\n",
              "      <th>TARGET</th>\n",
              "    </tr>\n",
              "  </thead>\n",
              "  <tbody>\n",
              "    <tr>\n",
              "      <th>0</th>\n",
              "      <td>0</td>\n",
              "      <td>0</td>\n",
              "      <td>0</td>\n",
              "      <td>0</td>\n",
              "      <td>0</td>\n",
              "      <td>1.5</td>\n",
              "      <td>69.08</td>\n",
              "      <td>-12</td>\n",
              "      <td>0.0</td>\n",
              "    </tr>\n",
              "    <tr>\n",
              "      <th>1</th>\n",
              "      <td>0</td>\n",
              "      <td>0</td>\n",
              "      <td>30</td>\n",
              "      <td>0</td>\n",
              "      <td>0</td>\n",
              "      <td>1.5</td>\n",
              "      <td>69.06</td>\n",
              "      <td>-12</td>\n",
              "      <td>0.0</td>\n",
              "    </tr>\n",
              "    <tr>\n",
              "      <th>2</th>\n",
              "      <td>0</td>\n",
              "      <td>1</td>\n",
              "      <td>0</td>\n",
              "      <td>0</td>\n",
              "      <td>0</td>\n",
              "      <td>1.6</td>\n",
              "      <td>71.78</td>\n",
              "      <td>-12</td>\n",
              "      <td>0.0</td>\n",
              "    </tr>\n",
              "    <tr>\n",
              "      <th>3</th>\n",
              "      <td>0</td>\n",
              "      <td>1</td>\n",
              "      <td>30</td>\n",
              "      <td>0</td>\n",
              "      <td>0</td>\n",
              "      <td>1.6</td>\n",
              "      <td>71.75</td>\n",
              "      <td>-12</td>\n",
              "      <td>0.0</td>\n",
              "    </tr>\n",
              "    <tr>\n",
              "      <th>4</th>\n",
              "      <td>0</td>\n",
              "      <td>2</td>\n",
              "      <td>0</td>\n",
              "      <td>0</td>\n",
              "      <td>0</td>\n",
              "      <td>1.6</td>\n",
              "      <td>75.20</td>\n",
              "      <td>-12</td>\n",
              "      <td>0.0</td>\n",
              "    </tr>\n",
              "  </tbody>\n",
              "</table>\n",
              "</div>"
            ],
            "text/plain": [
              "   Day  Hour  Minute  DHI  DNI   WS     RH   T  TARGET\n",
              "0    0     0       0    0    0  1.5  69.08 -12     0.0\n",
              "1    0     0      30    0    0  1.5  69.06 -12     0.0\n",
              "2    0     1       0    0    0  1.6  71.78 -12     0.0\n",
              "3    0     1      30    0    0  1.6  71.75 -12     0.0\n",
              "4    0     2       0    0    0  1.6  75.20 -12     0.0"
            ]
          },
          "metadata": {
            "tags": []
          },
          "execution_count": 6
        }
      ]
    },
    {
      "cell_type": "code",
      "metadata": {
        "colab": {
          "base_uri": "https://localhost:8080/",
          "height": 221
        },
        "id": "oe3Jyz8sjoKo",
        "outputId": "d075427f-78e0-4e1a-b729-b71084fdeae2"
      },
      "source": [
        "print(test_df.shape)\n",
        "test_df.head()"
      ],
      "execution_count": null,
      "outputs": [
        {
          "output_type": "stream",
          "text": [
            "(27216, 11)\n"
          ],
          "name": "stdout"
        },
        {
          "output_type": "execute_result",
          "data": {
            "text/html": [
              "<div>\n",
              "<style scoped>\n",
              "    .dataframe tbody tr th:only-of-type {\n",
              "        vertical-align: middle;\n",
              "    }\n",
              "\n",
              "    .dataframe tbody tr th {\n",
              "        vertical-align: top;\n",
              "    }\n",
              "\n",
              "    .dataframe thead th {\n",
              "        text-align: right;\n",
              "    }\n",
              "</style>\n",
              "<table border=\"1\" class=\"dataframe\">\n",
              "  <thead>\n",
              "    <tr style=\"text-align: right;\">\n",
              "      <th></th>\n",
              "      <th>Day</th>\n",
              "      <th>Hour</th>\n",
              "      <th>Minute</th>\n",
              "      <th>DHI</th>\n",
              "      <th>DNI</th>\n",
              "      <th>WS</th>\n",
              "      <th>RH</th>\n",
              "      <th>T</th>\n",
              "      <th>TARGET</th>\n",
              "      <th>F_NAME</th>\n",
              "      <th>TY</th>\n",
              "    </tr>\n",
              "  </thead>\n",
              "  <tbody>\n",
              "    <tr>\n",
              "      <th>0</th>\n",
              "      <td>0</td>\n",
              "      <td>0</td>\n",
              "      <td>0</td>\n",
              "      <td>0</td>\n",
              "      <td>0</td>\n",
              "      <td>2.7</td>\n",
              "      <td>34.42</td>\n",
              "      <td>0.0</td>\n",
              "      <td>0.0</td>\n",
              "      <td>TEST_0.csv</td>\n",
              "      <td>0</td>\n",
              "    </tr>\n",
              "    <tr>\n",
              "      <th>1</th>\n",
              "      <td>0</td>\n",
              "      <td>0</td>\n",
              "      <td>30</td>\n",
              "      <td>0</td>\n",
              "      <td>0</td>\n",
              "      <td>2.7</td>\n",
              "      <td>34.17</td>\n",
              "      <td>0.1</td>\n",
              "      <td>0.0</td>\n",
              "      <td>TEST_0.csv</td>\n",
              "      <td>0</td>\n",
              "    </tr>\n",
              "    <tr>\n",
              "      <th>2</th>\n",
              "      <td>0</td>\n",
              "      <td>1</td>\n",
              "      <td>0</td>\n",
              "      <td>0</td>\n",
              "      <td>0</td>\n",
              "      <td>2.7</td>\n",
              "      <td>34.23</td>\n",
              "      <td>0.2</td>\n",
              "      <td>0.0</td>\n",
              "      <td>TEST_0.csv</td>\n",
              "      <td>0</td>\n",
              "    </tr>\n",
              "    <tr>\n",
              "      <th>3</th>\n",
              "      <td>0</td>\n",
              "      <td>1</td>\n",
              "      <td>30</td>\n",
              "      <td>0</td>\n",
              "      <td>0</td>\n",
              "      <td>2.7</td>\n",
              "      <td>33.99</td>\n",
              "      <td>0.3</td>\n",
              "      <td>0.0</td>\n",
              "      <td>TEST_0.csv</td>\n",
              "      <td>0</td>\n",
              "    </tr>\n",
              "    <tr>\n",
              "      <th>4</th>\n",
              "      <td>0</td>\n",
              "      <td>2</td>\n",
              "      <td>0</td>\n",
              "      <td>0</td>\n",
              "      <td>0</td>\n",
              "      <td>2.8</td>\n",
              "      <td>33.97</td>\n",
              "      <td>0.4</td>\n",
              "      <td>0.0</td>\n",
              "      <td>TEST_0.csv</td>\n",
              "      <td>0</td>\n",
              "    </tr>\n",
              "  </tbody>\n",
              "</table>\n",
              "</div>"
            ],
            "text/plain": [
              "   Day  Hour  Minute  DHI  DNI   WS     RH    T  TARGET      F_NAME  TY\n",
              "0    0     0       0    0    0  2.7  34.42  0.0     0.0  TEST_0.csv   0\n",
              "1    0     0      30    0    0  2.7  34.17  0.1     0.0  TEST_0.csv   0\n",
              "2    0     1       0    0    0  2.7  34.23  0.2     0.0  TEST_0.csv   0\n",
              "3    0     1      30    0    0  2.7  33.99  0.3     0.0  TEST_0.csv   0\n",
              "4    0     2       0    0    0  2.8  33.97  0.4     0.0  TEST_0.csv   0"
            ]
          },
          "metadata": {
            "tags": []
          },
          "execution_count": 7
        }
      ]
    },
    {
      "cell_type": "markdown",
      "metadata": {
        "id": "JywAclHWlfNa"
      },
      "source": [
        "# TS 살펴보기"
      ]
    },
    {
      "cell_type": "code",
      "metadata": {
        "colab": {
          "base_uri": "https://localhost:8080/",
          "height": 262
        },
        "id": "fo4usA6yj7OG",
        "outputId": "74b98249-5416-4323-e1a5-3bb7543ed6b1"
      },
      "source": [
        "# FRQ = 30\n",
        "for i in range(10):\n",
        "  train_df[train_df[\"Day\"] == i][\"TARGET\"].plot()"
      ],
      "execution_count": null,
      "outputs": [
        {
          "output_type": "display_data",
          "data": {
            "image/png": "[encoded data removed]",
            "text/plain": [
              "<Figure size 432x288 with 1 Axes>"
            ]
          },
          "metadata": {
            "tags": [],
            "needs_background": "light"
          }
        }
      ]
    },
    {
      "cell_type": "code",
      "metadata": {
        "colab": {
          "base_uri": "https://localhost:8080/",
          "height": 262
        },
        "id": "R-ABBlMoj8DE",
        "outputId": "faec3467-2468-4476-b7ed-5c67a5c5a0c7"
      },
      "source": [
        "# FRQ = 60\n",
        "p_df = train_df.groupby([\"Day\",\"Hour\"])[\"TARGET\"].mean().reset_index()\n",
        "\n",
        "for i in range(10):\n",
        "  p_df[p_df[\"Day\"] == i][\"TARGET\"].plot()"
      ],
      "execution_count": null,
      "outputs": [
        {
          "output_type": "display_data",
          "data": {
            "image/png": "[encoded data removed]",
            "text/plain": [
              "<Figure size 432x288 with 1 Axes>"
            ]
          },
          "metadata": {
            "tags": [],
            "needs_background": "light"
          }
        }
      ]
    },
    {
      "cell_type": "code",
      "metadata": {
        "colab": {
          "base_uri": "https://localhost:8080/",
          "height": 279
        },
        "id": "mDAKjbKtj8F-",
        "outputId": "c26a2b7a-a3d5-404a-a6fd-0a0644ec61ca"
      },
      "source": [
        "train_df[train_df[\"Day\"] == 0][\"TARGET\"].plot()"
      ],
      "execution_count": null,
      "outputs": [
        {
          "output_type": "execute_result",
          "data": {
            "text/plain": [
              "<matplotlib.axes._subplots.AxesSubplot at 0x7f7c1cd97438>"
            ]
          },
          "metadata": {
            "tags": []
          },
          "execution_count": 10
        },
        {
          "output_type": "display_data",
          "data": {
            "image/png": "[encoded data removed]",
            "text/plain": [
              "<Figure size 432x288 with 1 Axes>"
            ]
          },
          "metadata": {
            "tags": [],
            "needs_background": "light"
          }
        }
      ]
    },
    {
      "cell_type": "code",
      "metadata": {
        "colab": {
          "base_uri": "https://localhost:8080/",
          "height": 279
        },
        "id": "egq-_p7xj8IV",
        "outputId": "d3aaaab5-e105-45e8-8d4c-3c771824c29d"
      },
      "source": [
        "p_df[p_df[\"Day\"] == 0][\"TARGET\"].plot()"
      ],
      "execution_count": null,
      "outputs": [
        {
          "output_type": "execute_result",
          "data": {
            "text/plain": [
              "<matplotlib.axes._subplots.AxesSubplot at 0x7f7c1c7dba20>"
            ]
          },
          "metadata": {
            "tags": []
          },
          "execution_count": 11
        },
        {
          "output_type": "display_data",
          "data": {
            "image/png": "[encoded data removed]",
            "text/plain": [
              "<Figure size 432x288 with 1 Axes>"
            ]
          },
          "metadata": {
            "tags": [],
            "needs_background": "light"
          }
        }
      ]
    },
    {
      "cell_type": "markdown",
      "metadata": {
        "id": "h60lVCciGOYf"
      },
      "source": [
        "# 최근 1년 데이터만 학습"
      ]
    },
    {
      "cell_type": "code",
      "metadata": {
        "id": "nzTQBEdtGLoA"
      },
      "source": [
        "train_df = train_df.iloc[-365*2*24:,:].reset_index(drop=True)"
      ],
      "execution_count": null,
      "outputs": []
    },
    {
      "cell_type": "markdown",
      "metadata": {
        "id": "xuNy7oywC57b"
      },
      "source": [
        "# 파생변수 생성"
      ]
    },
    {
      "cell_type": "code",
      "metadata": {
        "id": "MyCEBoYnC81S"
      },
      "source": [
        "DHI_mean = train_df.groupby([\"Day\",\"Hour\"])[\"DHI\"].mean().reset_index()\n",
        "DHI_mean.rename({\"DHI\":\"DHI_MEAN\"},axis='columns',inplace=True)\n",
        "\n",
        "DNI_mean = train_df.groupby([\"Day\",\"Hour\"])[\"DNI\"].mean().reset_index()\n",
        "DNI_mean.rename({\"DNI\":\"DNI_MEAN\"},axis='columns',inplace=True)\n",
        "\n",
        "WS_mean = train_df.groupby([\"Day\",\"Hour\"])[\"WS\"].mean().reset_index()\n",
        "WS_mean.rename({\"WS\":\"WS_MEAN\"},axis='columns',inplace=True)\n",
        "\n",
        "RH_mean = train_df.groupby([\"Day\",\"Hour\"])[\"RH\"].mean().reset_index()\n",
        "RH_mean.rename({\"RH\":\"RH_MEAN\"},axis='columns',inplace=True)\n",
        "\n",
        "T_mean = train_df.groupby([\"Day\",\"Hour\"])[\"T\"].mean().reset_index()\n",
        "T_mean.rename({\"T\":\"T_MEAN\"},axis='columns',inplace=True)\n",
        "\n",
        "TARGET_mean = train_df.groupby([\"Day\",\"Hour\"])[\"TARGET\"].mean().reset_index()\n",
        "TARGET_mean.rename({\"TARGET\":\"TARGET_MEAN\"},axis='columns',inplace=True)\n",
        "\n",
        "\n",
        "train_df = pd.merge(train_df,DHI_mean,on=[\"Day\",\"Hour\"],how=\"left\")\n",
        "train_df = pd.merge(train_df,DNI_mean,on=[\"Day\",\"Hour\"],how=\"left\")\n",
        "train_df = pd.merge(train_df,WS_mean,on=[\"Day\",\"Hour\"],how=\"left\")\n",
        "train_df = pd.merge(train_df,RH_mean,on=[\"Day\",\"Hour\"],how=\"left\")\n",
        "train_df = pd.merge(train_df,T_mean,on=[\"Day\",\"Hour\"],how=\"left\")\n",
        "train_df = pd.merge(train_df,TARGET_mean,on=[\"Day\",\"Hour\"],how=\"left\")\n",
        "\n",
        "train_df[\"TIME\"] = (train_df[\"Hour\"] * 60) + train_df[\"Minute\"]\n",
        "train_df[\"TIME\"] = train_df[\"TIME\"].astype(\"category\") \n",
        "train_df = pd.concat([train_df, pd.get_dummies(train_df[\"TIME\"],prefix=\"TIME\")],axis=1)"
      ],
      "execution_count": null,
      "outputs": []
    },
    {
      "cell_type": "code",
      "metadata": {
        "id": "ittbnN5KC830"
      },
      "source": [
        "DHI_mean = test_df.groupby([\"Day\",\"Hour\"])[\"DHI\"].mean().reset_index()\n",
        "DHI_mean.rename({\"DHI\":\"DHI_MEAN\"},axis='columns',inplace=True)\n",
        "\n",
        "DNI_mean = test_df.groupby([\"Day\",\"Hour\"])[\"DNI\"].mean().reset_index()\n",
        "DNI_mean.rename({\"DNI\":\"DNI_MEAN\"},axis='columns',inplace=True)\n",
        "\n",
        "WS_mean = test_df.groupby([\"Day\",\"Hour\"])[\"WS\"].mean().reset_index()\n",
        "WS_mean.rename({\"WS\":\"WS_MEAN\"},axis='columns',inplace=True)\n",
        "\n",
        "RH_mean = test_df.groupby([\"Day\",\"Hour\"])[\"RH\"].mean().reset_index()\n",
        "RH_mean.rename({\"RH\":\"RH_MEAN\"},axis='columns',inplace=True)\n",
        "\n",
        "T_mean = test_df.groupby([\"Day\",\"Hour\"])[\"T\"].mean().reset_index()\n",
        "T_mean.rename({\"T\":\"T_MEAN\"},axis='columns',inplace=True)\n",
        "\n",
        "TARGET_mean = test_df.groupby([\"Day\",\"Hour\"])[\"TARGET\"].mean().reset_index()\n",
        "TARGET_mean.rename({\"TARGET\":\"TARGET_MEAN\"},axis='columns',inplace=True)\n",
        "\n",
        "test_df = pd.merge(test_df,DHI_mean,on=[\"Day\",\"Hour\"],how=\"left\")\n",
        "test_df = pd.merge(test_df,DNI_mean,on=[\"Day\",\"Hour\"],how=\"left\")\n",
        "test_df = pd.merge(test_df,WS_mean,on=[\"Day\",\"Hour\"],how=\"left\")\n",
        "test_df = pd.merge(test_df,RH_mean,on=[\"Day\",\"Hour\"],how=\"left\")\n",
        "test_df = pd.merge(test_df,T_mean,on=[\"Day\",\"Hour\"],how=\"left\")\n",
        "test_df = pd.merge(test_df,TARGET_mean,on=[\"Day\",\"Hour\"],how=\"left\")\n",
        "\n",
        "test_df[\"TIME\"] = (test_df[\"Hour\"] * 60) + test_df[\"Minute\"]\n",
        "test_df[\"TIME\"] = test_df[\"TIME\"].astype(\"category\") \n",
        "test_df = pd.concat([test_df, pd.get_dummies(test_df[\"TIME\"],prefix=\"TIME\")],axis=1)"
      ],
      "execution_count": null,
      "outputs": []
    },
    {
      "cell_type": "code",
      "metadata": {
        "id": "qxfs4ybMDTdR"
      },
      "source": [
        "train_df.drop([\"Day\",\"Hour\",\"Minute\",\"TIME\"],axis=1, inplace=True)\n",
        "test_df.drop([\"Day\",\"Hour\",\"Minute\",\"F_NAME\",\"TIME\",\"TY\"],axis=1, inplace=True)"
      ],
      "execution_count": null,
      "outputs": []
    },
    {
      "cell_type": "code",
      "metadata": {
        "id": "trZY4w9MDXP7"
      },
      "source": [
        "scale_col = []\n",
        "for i in train_df.columns:\n",
        "  if i.startswith(\"TIME\") == False and i != \"TARGET\":\n",
        "    scale_col.append(i)"
      ],
      "execution_count": null,
      "outputs": []
    },
    {
      "cell_type": "markdown",
      "metadata": {
        "id": "25wiFFQtnYHk"
      },
      "source": [
        "# 데이터 표준화"
      ]
    },
    {
      "cell_type": "code",
      "metadata": {
        "id": "hk7Amn7fDZkM"
      },
      "source": [
        "# min_max scaler 사용\n",
        "scaler_target = MinMaxScaler()\n",
        "scaler_all = MinMaxScaler()\n",
        "\n",
        "scaler_target.fit(train_df[[\"TARGET\"]])\n",
        "scaler_all.fit(train_df[scale_col])\n",
        "\n",
        "train_df[[\"TARGET\"]] = scaler_target.transform(train_df[[\"TARGET\"]])\n",
        "test_df[[\"TARGET\"]] = scaler_target.transform(test_df[[\"TARGET\"]])\n",
        "\n",
        "train_df[scale_col] =  scaler_all.transform(train_df[scale_col])\n",
        "test_df[scale_col] =  scaler_all.transform(test_df[scale_col])"
      ],
      "execution_count": null,
      "outputs": []
    },
    {
      "cell_type": "code",
      "metadata": {
        "colab": {
          "base_uri": "https://localhost:8080/"
        },
        "id": "gLsbRPcynj_8",
        "outputId": "d13b11f2-5c87-4d50-fd9f-998ca8177a0c"
      },
      "source": [
        "train_df.shape"
      ],
      "execution_count": null,
      "outputs": [
        {
          "output_type": "execute_result",
          "data": {
            "text/plain": [
              "(17520, 60)"
            ]
          },
          "metadata": {
            "tags": []
          },
          "execution_count": 18
        }
      ]
    },
    {
      "cell_type": "code",
      "metadata": {
        "colab": {
          "base_uri": "https://localhost:8080/"
        },
        "id": "8GB5YNUrDnFM",
        "outputId": "aef85393-acf1-4a26-a89e-5782bba28933"
      },
      "source": [
        "test_df.shape"
      ],
      "execution_count": null,
      "outputs": [
        {
          "output_type": "execute_result",
          "data": {
            "text/plain": [
              "(27216, 60)"
            ]
          },
          "metadata": {
            "tags": []
          },
          "execution_count": 19
        }
      ]
    },
    {
      "cell_type": "markdown",
      "metadata": {
        "id": "eXmY3TenpFY7"
      },
      "source": [
        "# 데이터 분할"
      ]
    },
    {
      "cell_type": "code",
      "metadata": {
        "id": "QVLwGL7rpE8j"
      },
      "source": [
        "def sliding_windows(data, seq_length,labels_length):\n",
        "\n",
        "  x = []\n",
        "  y = []\n",
        "  z = []\n",
        "\n",
        "  for i in range(((len(data)//48) - ((seq_length//48) + (labels_length//48)))):\n",
        "    if i == 0 :\n",
        "      _x = data.iloc[i:(i+seq_length),:]\n",
        "      _y = data.iloc[(i+seq_length):(i+seq_length+labels_length),0:1]\n",
        "      _z  = data.iloc[(i+seq_length):(i+seq_length+labels_length),1:]\n",
        "      x.append(np.array(_x))\n",
        "      y.append(np.array(_y))\n",
        "      z.append(np.array(_z))\n",
        "    else:\n",
        "      _x = data.iloc[i*48:(i*48+seq_length),:]\n",
        "      _y = data.iloc[((i*48)+seq_length):((i*48)+seq_length+labels_length),0:1]\n",
        "      _z  = data.iloc[((i*48)+seq_length):((i*48)+seq_length+labels_length),1:]   \n",
        "      x.append(np.array(_x))\n",
        "      y.append(np.array(_y))\n",
        "      z.append(np.array(_z))     \n",
        "\n",
        "  return x,y,z"
      ],
      "execution_count": null,
      "outputs": []
    },
    {
      "cell_type": "code",
      "metadata": {
        "id": "ttFkGq8zD4vf"
      },
      "source": [
        "features_list= list(train_df.columns)\n",
        "features_list.remove(\"TARGET\")\n",
        "col_list = [\"TARGET\"] + features_list\n",
        "seq_length = 24 * 2 * 7\n",
        "label_length = 24 * 2 * 2\n",
        "\n",
        "# 순서 정렬\n",
        "train_df = train_df[col_list]\n",
        "test=test_df[col_list]\n",
        "\n",
        "train_X, train_y,train_features  = sliding_windows(train_df,seq_length,label_length)"
      ],
      "execution_count": null,
      "outputs": []
    },
    {
      "cell_type": "code",
      "metadata": {
        "colab": {
          "base_uri": "https://localhost:8080/"
        },
        "id": "WEdDZ6SYFNOg",
        "outputId": "5c93972b-9e4c-47c5-a429-951d05e4d1f6"
      },
      "source": [
        "print(len(train_X))\n",
        "print(train_X[0].shape)\n",
        "\n",
        "print(len(train_y))\n",
        "print(train_y[0].shape)\n",
        "\n",
        "print(len(train_features))\n",
        "print(train_features[0].shape)"
      ],
      "execution_count": null,
      "outputs": [
        {
          "output_type": "stream",
          "text": [
            "356\n",
            "(336, 60)\n",
            "356\n",
            "(96, 1)\n",
            "356\n",
            "(96, 59)\n"
          ],
          "name": "stdout"
        }
      ]
    },
    {
      "cell_type": "code",
      "metadata": {
        "colab": {
          "base_uri": "https://localhost:8080/"
        },
        "id": "D0MyVOWCFrNT",
        "outputId": "9e036e73-10e2-4b7b-e954-9dfc312b548c"
      },
      "source": [
        "trainX = Variable(torch.Tensor(train_X))\n",
        "trainy = Variable(torch.Tensor(train_y))\n",
        "train_features = Variable(torch.Tensor(train_features))\n",
        "\n",
        "print (\"trainX shape is:\",trainX.size())\n",
        "print (\"trainy shape is:\",trainy.size())\n",
        "print (\"train features  shape is:\",train_features.size())"
      ],
      "execution_count": null,
      "outputs": [
        {
          "output_type": "stream",
          "text": [
            "trainX shape is: torch.Size([356, 336, 60])\n",
            "trainy shape is: torch.Size([356, 96, 1])\n",
            "train features  shape is: torch.Size([356, 96, 59])\n"
          ],
          "name": "stdout"
        }
      ]
    },
    {
      "cell_type": "markdown",
      "metadata": {
        "id": "wgBLp4aV574X"
      },
      "source": [
        "<br><br><br><br><br><br><br><br><br><br><br><br>"
      ]
    },
    {
      "cell_type": "markdown",
      "metadata": {
        "id": "n3oSzy6XP059"
      },
      "source": [
        "# seq2seq 모델"
      ]
    },
    {
      "cell_type": "code",
      "metadata": {
        "id": "M50c3G7u2AJ5"
      },
      "source": [
        "class Encoder(nn.Module):\n",
        "    def __init__(self, seq_len, n_features, embedding_dim=64):\n",
        "        super(Encoder, self).__init__()\n",
        "\n",
        "        self.seq_len, self.n_features = seq_len, n_features\n",
        "        self.embedding_dim, self.hidden_dim = embedding_dim,  embedding_dim\n",
        "        self.num_layers = 3\n",
        "        self.rnn1 = nn.LSTM(\n",
        "          input_size=n_features,\n",
        "          hidden_size=self.hidden_dim,\n",
        "          num_layers=3,\n",
        "          batch_first=True,\n",
        "          dropout = 0.2\n",
        "        )\n",
        "   \n",
        "    def forward(self, x):\n",
        "       \n",
        "        x = x.reshape((-1, self.seq_len, self.n_features))\n",
        "        h_1 = Variable(torch.zeros(\n",
        "            self.num_layers, x.size(0), self.hidden_dim).to(device))\n",
        "        c_1 = Variable(torch.zeros(\n",
        "            self.num_layers, x.size(0), self.hidden_dim).to(device))\n",
        "              \n",
        "        x, (hidden, cell) = self.rnn1(x,(h_1, c_1))\n",
        "        \n",
        "        return hidden , cell "
      ],
      "execution_count": null,
      "outputs": []
    },
    {
      "cell_type": "code",
      "metadata": {
        "id": "JJsvXQBR2AMZ"
      },
      "source": [
        "class Decoder(nn.Module):\n",
        "    def __init__(self, seq_len, input_dim=64, n_features=1):\n",
        "        super(Decoder, self).__init__()\n",
        "\n",
        "        self.seq_len, self.input_dim = seq_len, input_dim\n",
        "        self.hidden_dim, self.n_features =  input_dim, n_features\n",
        "        \n",
        "        self.rnn1 = nn.LSTM(\n",
        "          input_size=n_features,\n",
        "          hidden_size=input_dim,\n",
        "          num_layers=3,\n",
        "          batch_first=True,\n",
        "          dropout = 0.2\n",
        "        )\n",
        "        \n",
        "        \n",
        "        self.output_layer = nn.Linear(self.hidden_dim, n_features)\n",
        "\n",
        "    def forward(self, x,input_hidden,input_cell):\n",
        "       \n",
        "        x = x.reshape((1,1,self.n_features ))\n",
        "        x, (hidden_n, cell_n) = self.rnn1(x,(input_hidden,input_cell))\n",
        "    \n",
        "        x = self.output_layer(x)\n",
        "        return x, hidden_n, cell_n"
      ],
      "execution_count": null,
      "outputs": []
    },
    {
      "cell_type": "code",
      "metadata": {
        "id": "wcWBlywt2APW"
      },
      "source": [
        "class Seq2Seq(nn.Module):\n",
        "\n",
        "    def __init__(self, seq_len, n_features, embedding_dim=64,output_length = 24*2*2):\n",
        "        super(Seq2Seq, self).__init__()\n",
        "\n",
        "        self.encoder = Encoder(seq_len, n_features, embedding_dim).to(device)\n",
        "        self.n_features = n_features\n",
        "        self.output_length = output_length\n",
        "        self.decoder = Decoder(seq_len, embedding_dim, n_features).to(device)\n",
        "        \n",
        "\n",
        "    def forward(self,x, prev_y,features):\n",
        "        \n",
        "       \n",
        "        hidden,cell = self.encoder(x)\n",
        "        targets_ta = []\n",
        "        dec_input = prev_y\n",
        "        \n",
        "        for out_days in range(self.output_length) :\n",
        "            \n",
        "            prev_x,prev_hidden,prev_cell = self.decoder(dec_input,hidden,cell)\n",
        "            hidden,cell = prev_hidden, prev_cell\n",
        "            prev_x = prev_x[:,:,0:1]\n",
        "            \n",
        "            if out_days+1 < self.output_length :\n",
        "                dec_input = torch.cat([prev_x,features[out_days+1].reshape(1,1,59)], dim=2) \n",
        "            \n",
        "            targets_ta.append(prev_x.reshape(1))\n",
        "\n",
        "        \n",
        "        targets = torch.stack(targets_ta)\n",
        "\n",
        "        return targets"
      ],
      "execution_count": null,
      "outputs": []
    },
    {
      "cell_type": "code",
      "metadata": {
        "id": "Y0c22F-J-m-D"
      },
      "source": [
        "def init_weights(m):\n",
        "    for name, param in m.named_parameters():\n",
        "        nn.init.uniform_(param.data, -0.08, 0.08)"
      ],
      "execution_count": null,
      "outputs": []
    },
    {
      "cell_type": "code",
      "metadata": {
        "id": "Bhf7aLdc_Hrw"
      },
      "source": [
        "class PinballLoss():\n",
        "  def __init__(self, quantile=0.10, reduction='sum'):\n",
        "      self.quantile = quantile\n",
        "      assert 0 < self.quantile\n",
        "      assert self.quantile < 1\n",
        "      self.reduction = reduction\n",
        "\n",
        "  def __call__(self, output, target):\n",
        "      assert output.shape == target.shape\n",
        "      loss = torch.zeros_like(target, dtype=torch.float)\n",
        "      error = output - target\n",
        "      smaller_index = error < 0\n",
        "      bigger_index = 0 < error\n",
        "      loss[smaller_index] = self.quantile * (abs(error)[smaller_index])\n",
        "      loss[bigger_index] = (1-self.quantile) * (abs(error)[bigger_index])\n",
        "\n",
        "      if self.reduction == 'sum':\n",
        "        loss = loss.sum()\n",
        "      if self.reduction == 'mean':\n",
        "        loss = loss.mean()\n",
        "\n",
        "      return loss"
      ],
      "execution_count": null,
      "outputs": []
    },
    {
      "cell_type": "code",
      "metadata": {
        "colab": {
          "base_uri": "https://localhost:8080/",
          "height": 1000
        },
        "id": "TpRiwCng9dLM",
        "outputId": "5d01deeb-ea29-461c-b2c4-53fea7fa24c7"
      },
      "source": [
        "### 학습 평가\n",
        "history = dict(train=[])\n",
        "predict = {}\n",
        "\n",
        "### 학습 시작\n",
        "\n",
        "seq_length = (24 * 2) * 7\n",
        "labels_length = (24 * 2) * 2\n",
        "n_features = trainX.shape[2]\n",
        "n_epochs= 15\n",
        "mb = master_bar(range(1, n_epochs + 1))\n",
        "\n",
        "\n",
        "for i in progress_bar(range(1,10)):\n",
        "  \n",
        "  q = i/10\n",
        "\n",
        "  print(\"q = {}의 학습이 시작됨\".format(q))\n",
        "\n",
        "  model = Seq2Seq(seq_length, n_features, 512)\n",
        "  model = model.to(device)\n",
        "  \n",
        "  optimizer = torch.optim.Adam(model.parameters(), lr=1e-3)\n",
        "  criterion = PinballLoss(quantile=q)\n",
        "\n",
        "  for epoch in mb:\n",
        "    model = model.train()\n",
        "    train_losses = []\n",
        "\n",
        "    for i in progress_bar(range(trainX.size()[0]),parent=mb):\n",
        "      seq_inp = trainX[i,:,:].to(device)\n",
        "      seq_true = trainy[i,:,:].to(device)\n",
        "      features = train_features[i,:,:].to(device)\n",
        "            \n",
        "      optimizer.zero_grad()\n",
        "      seq_pred = model(seq_inp,seq_inp[seq_length-1:seq_length,:],features)\n",
        "\n",
        "      \n",
        "      loss = criterion(seq_pred, seq_true)\n",
        "      loss.backward()\n",
        "      torch.nn.utils.clip_grad_norm_(model.parameters(), 1)\n",
        "      optimizer.step()\n",
        "      train_losses.append(loss.item())\n",
        "    \n",
        "    if epoch % 5 == 0:\n",
        "      print(\"Epoch: %d, loss: %1.5f\" %(epoch, loss.cpu().item()))\n",
        "\n",
        "    train_loss = np.mean(train_losses)\n",
        "    history['train'].append(train_loss)\n",
        "\n",
        "  print(\"q = {}의 학습이 종료됨\\n\\n\".format(q))\n",
        "  \n",
        "  # 예측 진행\n",
        "  all_list = [i for i in range(0,test_df.shape[0],336)]\n",
        "  model = model.eval()\n",
        "\n",
        "  with torch.no_grad():\n",
        "    non_list = []\n",
        "\n",
        "    for i in range(len(all_list)):\n",
        "      \n",
        "      data = test_df.iloc[all_list[i]:all_list[i]+336,:].values\n",
        "      testX = Variable(torch.Tensor(data)).to(device)\n",
        "      testy = Variable(torch.Tensor(data[seq_length-1:seq_length,:])).to(device)\n",
        "      test_features = Variable(torch.Tensor(data[-96:,1:])).to(device)\n",
        "      predict_data = model(testX,testy,test_features)\n",
        "      predict_data_list = scaler_target.inverse_transform(predict_data.tolist())\n",
        "      non_list += list(predict_data_list.reshape(-1))\n",
        "\n",
        "    predict[q] = [i if i>0 else 0 for i in non_list]\n",
        "  "
      ],
      "execution_count": null,
      "outputs": [
        {
          "output_type": "display_data",
          "data": {
            "text/html": [
              "\n",
              "    <div>\n",
              "        <style>\n",
              "            /* Turns off some styling */\n",
              "            progress {\n",
              "                /* gets rid of default border in Firefox and Opera. */\n",
              "                border: none;\n",
              "                /* Needs to be in here for Safari polyfill so background images work as expected. */\n",
              "                background-size: auto;\n",
              "            }\n",
              "            .progress-bar-interrupted, .progress-bar-interrupted::-webkit-progress-bar {\n",
              "                background: #F44336;\n",
              "            }\n",
              "        </style>\n",
              "      <progress value='9' class='' max='9' style='width:300px; height:20px; vertical-align: middle;'></progress>\n",
              "      100.00% [9/9 3:12:05<00:00]\n",
              "    </div>\n",
              "    "
            ],
            "text/plain": [
              "<IPython.core.display.HTML object>"
            ]
          },
          "metadata": {
            "tags": []
          }
        },
        {
          "output_type": "stream",
          "text": [
            "q = 0.1의 학습이 시작됨\n"
          ],
          "name": "stdout"
        },
        {
          "output_type": "display_data",
          "data": {
            "text/html": [
              ""
            ],
            "text/plain": [
              "<IPython.core.display.HTML object>"
            ]
          },
          "metadata": {
            "tags": []
          }
        },
        {
          "output_type": "stream",
          "text": [
            "Epoch: 5, loss: 0.14903\n",
            "Epoch: 10, loss: 0.18560\n",
            "Epoch: 15, loss: 0.07754\n",
            "q = 0.1의 학습이 종료됨\n",
            "\n",
            "\n",
            "q = 0.2의 학습이 시작됨\n"
          ],
          "name": "stdout"
        },
        {
          "output_type": "display_data",
          "data": {
            "text/html": [
              ""
            ],
            "text/plain": [
              "<IPython.core.display.HTML object>"
            ]
          },
          "metadata": {
            "tags": []
          }
        },
        {
          "output_type": "stream",
          "text": [
            "Epoch: 5, loss: 0.15175\n",
            "Epoch: 10, loss: 0.30362\n",
            "Epoch: 15, loss: 0.23565\n",
            "q = 0.2의 학습이 종료됨\n",
            "\n",
            "\n",
            "q = 0.3의 학습이 시작됨\n"
          ],
          "name": "stdout"
        },
        {
          "output_type": "display_data",
          "data": {
            "text/html": [
              ""
            ],
            "text/plain": [
              "<IPython.core.display.HTML object>"
            ]
          },
          "metadata": {
            "tags": []
          }
        },
        {
          "output_type": "stream",
          "text": [
            "Epoch: 5, loss: 0.16769\n",
            "Epoch: 10, loss: 0.10144\n",
            "Epoch: 15, loss: 0.17323\n",
            "q = 0.3의 학습이 종료됨\n",
            "\n",
            "\n",
            "q = 0.4의 학습이 시작됨\n"
          ],
          "name": "stdout"
        },
        {
          "output_type": "display_data",
          "data": {
            "text/html": [
              ""
            ],
            "text/plain": [
              "<IPython.core.display.HTML object>"
            ]
          },
          "metadata": {
            "tags": []
          }
        },
        {
          "output_type": "stream",
          "text": [
            "Epoch: 5, loss: 0.16713\n",
            "Epoch: 10, loss: 0.13678\n",
            "Epoch: 15, loss: 0.12465\n",
            "q = 0.4의 학습이 종료됨\n",
            "\n",
            "\n",
            "q = 0.5의 학습이 시작됨\n"
          ],
          "name": "stdout"
        },
        {
          "output_type": "display_data",
          "data": {
            "text/html": [
              ""
            ],
            "text/plain": [
              "<IPython.core.display.HTML object>"
            ]
          },
          "metadata": {
            "tags": []
          }
        },
        {
          "output_type": "stream",
          "text": [
            "Epoch: 5, loss: 0.33564\n",
            "Epoch: 10, loss: 0.22915\n",
            "Epoch: 15, loss: 0.19716\n",
            "q = 0.5의 학습이 종료됨\n",
            "\n",
            "\n",
            "q = 0.6의 학습이 시작됨\n"
          ],
          "name": "stdout"
        },
        {
          "output_type": "display_data",
          "data": {
            "text/html": [
              ""
            ],
            "text/plain": [
              "<IPython.core.display.HTML object>"
            ]
          },
          "metadata": {
            "tags": []
          }
        },
        {
          "output_type": "stream",
          "text": [
            "Epoch: 5, loss: 0.19163\n",
            "Epoch: 10, loss: 0.19385\n",
            "Epoch: 15, loss: 0.14509\n",
            "q = 0.6의 학습이 종료됨\n",
            "\n",
            "\n",
            "q = 0.7의 학습이 시작됨\n"
          ],
          "name": "stdout"
        },
        {
          "output_type": "display_data",
          "data": {
            "text/html": [
              ""
            ],
            "text/plain": [
              "<IPython.core.display.HTML object>"
            ]
          },
          "metadata": {
            "tags": []
          }
        },
        {
          "output_type": "stream",
          "text": [
            "Epoch: 5, loss: 0.18911\n",
            "Epoch: 10, loss: 0.10883\n",
            "Epoch: 15, loss: 0.09697\n",
            "q = 0.7의 학습이 종료됨\n",
            "\n",
            "\n",
            "q = 0.8의 학습이 시작됨\n"
          ],
          "name": "stdout"
        },
        {
          "output_type": "display_data",
          "data": {
            "text/html": [
              ""
            ],
            "text/plain": [
              "<IPython.core.display.HTML object>"
            ]
          },
          "metadata": {
            "tags": []
          }
        },
        {
          "output_type": "stream",
          "text": [
            "Epoch: 5, loss: 0.18175\n",
            "Epoch: 10, loss: 0.64252\n",
            "Epoch: 15, loss: 0.44216\n",
            "q = 0.8의 학습이 종료됨\n",
            "\n",
            "\n",
            "q = 0.9의 학습이 시작됨\n"
          ],
          "name": "stdout"
        },
        {
          "output_type": "display_data",
          "data": {
            "text/html": [
              ""
            ],
            "text/plain": [
              "<IPython.core.display.HTML object>"
            ]
          },
          "metadata": {
            "tags": []
          }
        },
        {
          "output_type": "stream",
          "text": [
            "Epoch: 5, loss: 0.13449\n",
            "Epoch: 10, loss: 0.15926\n",
            "Epoch: 15, loss: 0.07695\n",
            "q = 0.9의 학습이 종료됨\n",
            "\n",
            "\n"
          ],
          "name": "stdout"
        }
      ]
    },
    {
      "cell_type": "code",
      "metadata": {
        "id": "TrToSLNNniZZ"
      },
      "source": [
        "predict_df = pd.DataFrame(predict)\n",
        "\n",
        "for i in range(1,10,):\n",
        "  q = i/10\n",
        "  col = sub_df.columns[i]\n",
        "  sub_df[col] = predict_df[q]"
      ],
      "execution_count": null,
      "outputs": []
    },
    {
      "cell_type": "code",
      "metadata": {
        "colab": {
          "base_uri": "https://localhost:8080/",
          "height": 279
        },
        "id": "3iM_MOlVnicN",
        "outputId": "0ac57684-4e2d-4aee-a258-2baa255750b3"
      },
      "source": [
        "sub_df['q_0.9'].iloc[:96].plot()"
      ],
      "execution_count": null,
      "outputs": [
        {
          "output_type": "execute_result",
          "data": {
            "text/plain": [
              "<matplotlib.axes._subplots.AxesSubplot at 0x7f7c1c7dbe80>"
            ]
          },
          "metadata": {
            "tags": []
          },
          "execution_count": 32
        },
        {
          "output_type": "display_data",
          "data": {
            "image/png": "[encoded data removed]",
            "text/plain": [
              "<Figure size 432x288 with 1 Axes>"
            ]
          },
          "metadata": {
            "tags": [],
            "needs_background": "light"
          }
        }
      ]
    },
    {
      "cell_type": "code",
      "metadata": {
        "id": "8mUMNUaooEBz"
      },
      "source": [
        "sub_df.to_csv(path+\"seq2seq.csv\",index=False)"
      ],
      "execution_count": null,
      "outputs": []
    },
    {
      "cell_type": "markdown",
      "metadata": {
        "id": "prdSIRIT2EFi"
      },
      "source": [
        "<br><br><br><br><br><br><br><br><br><br><br><br><br><br><br><br><br><br><br><br><br><br><br><br><br><br><br>"
      ]
    }
  ]
}