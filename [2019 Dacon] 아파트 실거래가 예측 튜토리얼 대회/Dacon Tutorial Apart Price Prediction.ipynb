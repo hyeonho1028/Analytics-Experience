{
 "cells": [
  {
   "cell_type": "code",
   "execution_count": 1,
   "metadata": {
    "_cell_guid": "b1076dfc-b9ad-4769-8c92-a6c4dae69d19",
    "_uuid": "8f2839f25d086af736a60e9eeb907d3b93b6e0e5"
   },
   "outputs": [],
   "source": [
    "# handling\n",
    "import numpy as np, pandas as pd, os\n",
    "\n",
    "# pre-processing\n",
    "from sklearn.preprocessing import LabelEncoder\n",
    "from sklearn.preprocessing import StandardScaler\n",
    "\n",
    "# ensembles for prevent overfitting\n",
    "from sklearn.model_selection import KFold\n",
    "\n",
    "# metrics\n",
    "from sklearn.metrics import mean_squared_error\n",
    "\n",
    "# modeling\n",
    "import lightgbm as lgb\n",
    "\n",
    "\n",
    "# time calculate\n",
    "from tqdm import tqdm, tqdm_notebook\n",
    "from time import sleep\n",
    "\n",
    "# visualization\n",
    "import matplotlib.pyplot as plt\n",
    "import seaborn as sns\n",
    "\n",
    "# remove message\n",
    "import warnings\n",
    "warnings.filterwarnings(action='ignore')"
   ]
  },
  {
   "cell_type": "markdown",
   "metadata": {},
   "source": [
    "## Data Load"
   ]
  },
  {
   "cell_type": "code",
   "execution_count": 2,
   "metadata": {},
   "outputs": [],
   "source": [
    "# setting path\n",
    "path = '../input/drive-download-20190531t073846z-001/'\n",
    "\n",
    "# load data\n",
    "train = pd.read_csv(path+'train.csv')\n",
    "test = pd.read_csv(path+'test.csv')\n",
    "park = pd.read_csv(path+'park.csv')\n",
    "care_center = pd.read_csv(path+'day_care_center.csv')"
   ]
  },
  {
   "cell_type": "markdown",
   "metadata": {},
   "source": [
    "## Data Check"
   ]
  },
  {
   "cell_type": "code",
   "execution_count": 3,
   "metadata": {},
   "outputs": [
    {
     "data": {
      "text/plain": [
       "((1216553, 13), (5463, 12), (1359, 13), (7551, 11))"
      ]
     },
     "execution_count": 3,
     "metadata": {},
     "output_type": "execute_result"
    }
   ],
   "source": [
    "train.shape, test.shape, park.shape, care_center.shape"
   ]
  },
  {
   "cell_type": "code",
   "execution_count": 4,
   "metadata": {},
   "outputs": [
    {
     "name": "stdout",
     "output_type": "stream",
     "text": [
      "<class 'pandas.core.frame.DataFrame'>\n",
      "RangeIndex: 1216553 entries, 0 to 1216552\n",
      "Data columns (total 13 columns):\n",
      "transaction_id            1216553 non-null int64\n",
      "apartment_id              1216553 non-null int64\n",
      "city                      1216553 non-null object\n",
      "dong                      1216553 non-null object\n",
      "jibun                     1216553 non-null object\n",
      "apt                       1216553 non-null object\n",
      "addr_kr                   1216553 non-null object\n",
      "exclusive_use_area        1216553 non-null float64\n",
      "year_of_completion        1216553 non-null int64\n",
      "transaction_year_month    1216553 non-null int64\n",
      "transaction_date          1216553 non-null object\n",
      "floor                     1216553 non-null int64\n",
      "transaction_real_price    1216553 non-null int64\n",
      "dtypes: float64(1), int64(6), object(6)\n",
      "memory usage: 120.7+ MB\n"
     ]
    }
   ],
   "source": [
    "train.info()"
   ]
  },
  {
   "cell_type": "code",
   "execution_count": 5,
   "metadata": {},
   "outputs": [
    {
     "name": "stdout",
     "output_type": "stream",
     "text": [
      "<class 'pandas.core.frame.DataFrame'>\n",
      "RangeIndex: 5463 entries, 0 to 5462\n",
      "Data columns (total 12 columns):\n",
      "transaction_id            5463 non-null int64\n",
      "apartment_id              5463 non-null int64\n",
      "city                      5463 non-null object\n",
      "dong                      5463 non-null object\n",
      "jibun                     5463 non-null object\n",
      "apt                       5463 non-null object\n",
      "addr_kr                   5463 non-null object\n",
      "exclusive_use_area        5463 non-null float64\n",
      "year_of_completion        5463 non-null int64\n",
      "transaction_year_month    5463 non-null int64\n",
      "transaction_date          5463 non-null object\n",
      "floor                     5463 non-null int64\n",
      "dtypes: float64(1), int64(5), object(6)\n",
      "memory usage: 512.2+ KB\n"
     ]
    }
   ],
   "source": [
    "test.info()"
   ]
  },
  {
   "cell_type": "code",
   "execution_count": 6,
   "metadata": {},
   "outputs": [
    {
     "name": "stdout",
     "output_type": "stream",
     "text": [
      "<class 'pandas.core.frame.DataFrame'>\n",
      "RangeIndex: 1359 entries, 0 to 1358\n",
      "Data columns (total 13 columns):\n",
      "city                           1359 non-null object\n",
      "gu                             1356 non-null object\n",
      "dong                           1359 non-null object\n",
      "park_name                      1359 non-null object\n",
      "park_type                      1359 non-null object\n",
      "park_area                      1359 non-null float64\n",
      "park_exercise_facility         277 non-null object\n",
      "park_entertainment_facility    435 non-null object\n",
      "park_benefit_facility          266 non-null object\n",
      "park_cultural_facitiy          72 non-null object\n",
      "park_facility_other            175 non-null object\n",
      "park_open_year                 937 non-null float64\n",
      "reference_date                 1359 non-null object\n",
      "dtypes: float64(2), object(11)\n",
      "memory usage: 138.1+ KB\n"
     ]
    }
   ],
   "source": [
    "park.info()"
   ]
  },
  {
   "cell_type": "code",
   "execution_count": 7,
   "metadata": {},
   "outputs": [
    {
     "name": "stdout",
     "output_type": "stream",
     "text": [
      "<class 'pandas.core.frame.DataFrame'>\n",
      "RangeIndex: 7551 entries, 0 to 7550\n",
      "Data columns (total 11 columns):\n",
      "city                    7551 non-null object\n",
      "gu                      7551 non-null object\n",
      "day_care_name           7551 non-null object\n",
      "day_care_type           7551 non-null object\n",
      "day_care_baby_num       7551 non-null int64\n",
      "teacher_num             7326 non-null float64\n",
      "nursing_room_num        4352 non-null float64\n",
      "playground_num          3626 non-null float64\n",
      "CCTV_num                5280 non-null float64\n",
      "is_commuting_vehicle    7055 non-null object\n",
      "reference_date          7551 non-null object\n",
      "dtypes: float64(4), int64(1), object(6)\n",
      "memory usage: 649.0+ KB\n"
     ]
    }
   ],
   "source": [
    "care_center.info()"
   ]
  },
  {
   "cell_type": "code",
   "execution_count": 8,
   "metadata": {},
   "outputs": [
    {
     "data": {
      "text/html": [
       "<div>\n",
       "<style scoped>\n",
       "    .dataframe tbody tr th:only-of-type {\n",
       "        vertical-align: middle;\n",
       "    }\n",
       "\n",
       "    .dataframe tbody tr th {\n",
       "        vertical-align: top;\n",
       "    }\n",
       "\n",
       "    .dataframe thead th {\n",
       "        text-align: right;\n",
       "    }\n",
       "</style>\n",
       "<table border=\"1\" class=\"dataframe\">\n",
       "  <thead>\n",
       "    <tr style=\"text-align: right;\">\n",
       "      <th></th>\n",
       "      <th>transaction_id</th>\n",
       "      <th>apartment_id</th>\n",
       "      <th>city</th>\n",
       "      <th>dong</th>\n",
       "      <th>jibun</th>\n",
       "      <th>apt</th>\n",
       "      <th>addr_kr</th>\n",
       "      <th>exclusive_use_area</th>\n",
       "      <th>year_of_completion</th>\n",
       "      <th>transaction_year_month</th>\n",
       "      <th>transaction_date</th>\n",
       "      <th>floor</th>\n",
       "      <th>transaction_real_price</th>\n",
       "    </tr>\n",
       "  </thead>\n",
       "  <tbody>\n",
       "    <tr>\n",
       "      <th>0</th>\n",
       "      <td>0</td>\n",
       "      <td>7622</td>\n",
       "      <td>서울특별시</td>\n",
       "      <td>신교동</td>\n",
       "      <td>6-13</td>\n",
       "      <td>신현(101동)</td>\n",
       "      <td>신교동 6-13 신현(101동)</td>\n",
       "      <td>84.82</td>\n",
       "      <td>2002</td>\n",
       "      <td>200801</td>\n",
       "      <td>21~31</td>\n",
       "      <td>2</td>\n",
       "      <td>37500</td>\n",
       "    </tr>\n",
       "    <tr>\n",
       "      <th>1</th>\n",
       "      <td>1</td>\n",
       "      <td>5399</td>\n",
       "      <td>서울특별시</td>\n",
       "      <td>필운동</td>\n",
       "      <td>142</td>\n",
       "      <td>사직파크맨션</td>\n",
       "      <td>필운동 142 사직파크맨션</td>\n",
       "      <td>99.17</td>\n",
       "      <td>1973</td>\n",
       "      <td>200801</td>\n",
       "      <td>1~10</td>\n",
       "      <td>6</td>\n",
       "      <td>20000</td>\n",
       "    </tr>\n",
       "    <tr>\n",
       "      <th>2</th>\n",
       "      <td>2</td>\n",
       "      <td>3578</td>\n",
       "      <td>서울특별시</td>\n",
       "      <td>필운동</td>\n",
       "      <td>174-1</td>\n",
       "      <td>두레엘리시안</td>\n",
       "      <td>필운동 174-1 두레엘리시안</td>\n",
       "      <td>84.74</td>\n",
       "      <td>2007</td>\n",
       "      <td>200801</td>\n",
       "      <td>1~10</td>\n",
       "      <td>6</td>\n",
       "      <td>38500</td>\n",
       "    </tr>\n",
       "    <tr>\n",
       "      <th>3</th>\n",
       "      <td>3</td>\n",
       "      <td>10957</td>\n",
       "      <td>서울특별시</td>\n",
       "      <td>내수동</td>\n",
       "      <td>95</td>\n",
       "      <td>파크팰리스</td>\n",
       "      <td>내수동 95 파크팰리스</td>\n",
       "      <td>146.39</td>\n",
       "      <td>2003</td>\n",
       "      <td>200801</td>\n",
       "      <td>11~20</td>\n",
       "      <td>15</td>\n",
       "      <td>118000</td>\n",
       "    </tr>\n",
       "    <tr>\n",
       "      <th>4</th>\n",
       "      <td>4</td>\n",
       "      <td>10639</td>\n",
       "      <td>서울특별시</td>\n",
       "      <td>내수동</td>\n",
       "      <td>110-15</td>\n",
       "      <td>킹스매너</td>\n",
       "      <td>내수동 110-15 킹스매너</td>\n",
       "      <td>194.43</td>\n",
       "      <td>2004</td>\n",
       "      <td>200801</td>\n",
       "      <td>21~31</td>\n",
       "      <td>3</td>\n",
       "      <td>120000</td>\n",
       "    </tr>\n",
       "  </tbody>\n",
       "</table>\n",
       "</div>"
      ],
      "text/plain": [
       "   transaction_id           ...            transaction_real_price\n",
       "0               0           ...                             37500\n",
       "1               1           ...                             20000\n",
       "2               2           ...                             38500\n",
       "3               3           ...                            118000\n",
       "4               4           ...                            120000\n",
       "\n",
       "[5 rows x 13 columns]"
      ]
     },
     "execution_count": 8,
     "metadata": {},
     "output_type": "execute_result"
    }
   ],
   "source": [
    "train.head()"
   ]
  },
  {
   "cell_type": "code",
   "execution_count": 9,
   "metadata": {},
   "outputs": [
    {
     "data": {
      "text/html": [
       "<div>\n",
       "<style scoped>\n",
       "    .dataframe tbody tr th:only-of-type {\n",
       "        vertical-align: middle;\n",
       "    }\n",
       "\n",
       "    .dataframe tbody tr th {\n",
       "        vertical-align: top;\n",
       "    }\n",
       "\n",
       "    .dataframe thead th {\n",
       "        text-align: right;\n",
       "    }\n",
       "</style>\n",
       "<table border=\"1\" class=\"dataframe\">\n",
       "  <thead>\n",
       "    <tr style=\"text-align: right;\">\n",
       "      <th></th>\n",
       "      <th>transaction_id</th>\n",
       "      <th>apartment_id</th>\n",
       "      <th>city</th>\n",
       "      <th>dong</th>\n",
       "      <th>jibun</th>\n",
       "      <th>apt</th>\n",
       "      <th>addr_kr</th>\n",
       "      <th>exclusive_use_area</th>\n",
       "      <th>year_of_completion</th>\n",
       "      <th>transaction_year_month</th>\n",
       "      <th>transaction_date</th>\n",
       "      <th>floor</th>\n",
       "    </tr>\n",
       "  </thead>\n",
       "  <tbody>\n",
       "    <tr>\n",
       "      <th>0</th>\n",
       "      <td>1145756</td>\n",
       "      <td>10453</td>\n",
       "      <td>서울특별시</td>\n",
       "      <td>목동</td>\n",
       "      <td>938</td>\n",
       "      <td>청학</td>\n",
       "      <td>목동 938 청학</td>\n",
       "      <td>35.5500</td>\n",
       "      <td>2002</td>\n",
       "      <td>201711</td>\n",
       "      <td>11~20</td>\n",
       "      <td>2</td>\n",
       "    </tr>\n",
       "    <tr>\n",
       "      <th>1</th>\n",
       "      <td>1198704</td>\n",
       "      <td>989</td>\n",
       "      <td>부산광역시</td>\n",
       "      <td>초량동</td>\n",
       "      <td>1143-8</td>\n",
       "      <td>고관맨션</td>\n",
       "      <td>초량동 1143-8 고관맨션</td>\n",
       "      <td>68.7200</td>\n",
       "      <td>1977</td>\n",
       "      <td>201708</td>\n",
       "      <td>21~31</td>\n",
       "      <td>2</td>\n",
       "    </tr>\n",
       "    <tr>\n",
       "      <th>2</th>\n",
       "      <td>1222384</td>\n",
       "      <td>8597</td>\n",
       "      <td>부산광역시</td>\n",
       "      <td>괴정동</td>\n",
       "      <td>447-13</td>\n",
       "      <td>우림그린</td>\n",
       "      <td>괴정동 447-13 우림그린</td>\n",
       "      <td>72.5400</td>\n",
       "      <td>1989</td>\n",
       "      <td>201710</td>\n",
       "      <td>11~20</td>\n",
       "      <td>2</td>\n",
       "    </tr>\n",
       "    <tr>\n",
       "      <th>3</th>\n",
       "      <td>1179897</td>\n",
       "      <td>11086</td>\n",
       "      <td>서울특별시</td>\n",
       "      <td>대치동</td>\n",
       "      <td>1007-2</td>\n",
       "      <td>풍림아이원4차(1007-2)</td>\n",
       "      <td>대치동 1007-2 풍림아이원4차(1007-2)</td>\n",
       "      <td>111.5400</td>\n",
       "      <td>2004</td>\n",
       "      <td>201707</td>\n",
       "      <td>1~10</td>\n",
       "      <td>10</td>\n",
       "    </tr>\n",
       "    <tr>\n",
       "      <th>4</th>\n",
       "      <td>1223091</td>\n",
       "      <td>2121</td>\n",
       "      <td>부산광역시</td>\n",
       "      <td>다대동</td>\n",
       "      <td>1670</td>\n",
       "      <td>다대롯데캐슬블루</td>\n",
       "      <td>다대동 1670 다대롯데캐슬블루</td>\n",
       "      <td>119.6398</td>\n",
       "      <td>2014</td>\n",
       "      <td>201712</td>\n",
       "      <td>11~20</td>\n",
       "      <td>21</td>\n",
       "    </tr>\n",
       "  </tbody>\n",
       "</table>\n",
       "</div>"
      ],
      "text/plain": [
       "   transaction_id  apartment_id  ...  transaction_date floor\n",
       "0         1145756         10453  ...             11~20     2\n",
       "1         1198704           989  ...             21~31     2\n",
       "2         1222384          8597  ...             11~20     2\n",
       "3         1179897         11086  ...              1~10    10\n",
       "4         1223091          2121  ...             11~20    21\n",
       "\n",
       "[5 rows x 12 columns]"
      ]
     },
     "execution_count": 9,
     "metadata": {},
     "output_type": "execute_result"
    }
   ],
   "source": [
    "test.head()"
   ]
  },
  {
   "cell_type": "code",
   "execution_count": 10,
   "metadata": {},
   "outputs": [
    {
     "data": {
      "text/html": [
       "<div>\n",
       "<style scoped>\n",
       "    .dataframe tbody tr th:only-of-type {\n",
       "        vertical-align: middle;\n",
       "    }\n",
       "\n",
       "    .dataframe tbody tr th {\n",
       "        vertical-align: top;\n",
       "    }\n",
       "\n",
       "    .dataframe thead th {\n",
       "        text-align: right;\n",
       "    }\n",
       "</style>\n",
       "<table border=\"1\" class=\"dataframe\">\n",
       "  <thead>\n",
       "    <tr style=\"text-align: right;\">\n",
       "      <th></th>\n",
       "      <th>city</th>\n",
       "      <th>gu</th>\n",
       "      <th>dong</th>\n",
       "      <th>park_name</th>\n",
       "      <th>park_type</th>\n",
       "      <th>park_area</th>\n",
       "      <th>park_exercise_facility</th>\n",
       "      <th>park_entertainment_facility</th>\n",
       "      <th>park_benefit_facility</th>\n",
       "      <th>park_cultural_facitiy</th>\n",
       "      <th>park_facility_other</th>\n",
       "      <th>park_open_year</th>\n",
       "      <th>reference_date</th>\n",
       "    </tr>\n",
       "  </thead>\n",
       "  <tbody>\n",
       "    <tr>\n",
       "      <th>0</th>\n",
       "      <td>부산광역시</td>\n",
       "      <td>남구</td>\n",
       "      <td>대연동</td>\n",
       "      <td>대연공원</td>\n",
       "      <td>근린공원</td>\n",
       "      <td>55227.0</td>\n",
       "      <td>NaN</td>\n",
       "      <td>NaN</td>\n",
       "      <td>NaN</td>\n",
       "      <td>NaN</td>\n",
       "      <td>NaN</td>\n",
       "      <td>1944.0</td>\n",
       "      <td>2018-08-14</td>\n",
       "    </tr>\n",
       "    <tr>\n",
       "      <th>1</th>\n",
       "      <td>부산광역시</td>\n",
       "      <td>남구</td>\n",
       "      <td>대연동</td>\n",
       "      <td>당곡공원</td>\n",
       "      <td>역사공원</td>\n",
       "      <td>75465.0</td>\n",
       "      <td>NaN</td>\n",
       "      <td>NaN</td>\n",
       "      <td>NaN</td>\n",
       "      <td>NaN</td>\n",
       "      <td>NaN</td>\n",
       "      <td>1944.0</td>\n",
       "      <td>2018-08-14</td>\n",
       "    </tr>\n",
       "    <tr>\n",
       "      <th>2</th>\n",
       "      <td>부산광역시</td>\n",
       "      <td>남구</td>\n",
       "      <td>대연동</td>\n",
       "      <td>대일어린이공원</td>\n",
       "      <td>어린이공원</td>\n",
       "      <td>422.1</td>\n",
       "      <td>NaN</td>\n",
       "      <td>NaN</td>\n",
       "      <td>NaN</td>\n",
       "      <td>NaN</td>\n",
       "      <td>NaN</td>\n",
       "      <td>1965.0</td>\n",
       "      <td>2018-08-14</td>\n",
       "    </tr>\n",
       "    <tr>\n",
       "      <th>3</th>\n",
       "      <td>부산광역시</td>\n",
       "      <td>남구</td>\n",
       "      <td>대연동</td>\n",
       "      <td>못골어린이공원</td>\n",
       "      <td>어린이공원</td>\n",
       "      <td>499.8</td>\n",
       "      <td>NaN</td>\n",
       "      <td>NaN</td>\n",
       "      <td>NaN</td>\n",
       "      <td>NaN</td>\n",
       "      <td>NaN</td>\n",
       "      <td>1968.0</td>\n",
       "      <td>2018-08-14</td>\n",
       "    </tr>\n",
       "    <tr>\n",
       "      <th>4</th>\n",
       "      <td>부산광역시</td>\n",
       "      <td>남구</td>\n",
       "      <td>용호동</td>\n",
       "      <td>솔밭어린이공원</td>\n",
       "      <td>어린이공원</td>\n",
       "      <td>1500.2</td>\n",
       "      <td>NaN</td>\n",
       "      <td>NaN</td>\n",
       "      <td>NaN</td>\n",
       "      <td>NaN</td>\n",
       "      <td>NaN</td>\n",
       "      <td>1970.0</td>\n",
       "      <td>2018-08-14</td>\n",
       "    </tr>\n",
       "  </tbody>\n",
       "</table>\n",
       "</div>"
      ],
      "text/plain": [
       "    city  gu      ...       park_open_year reference_date\n",
       "0  부산광역시  남구      ...               1944.0     2018-08-14\n",
       "1  부산광역시  남구      ...               1944.0     2018-08-14\n",
       "2  부산광역시  남구      ...               1965.0     2018-08-14\n",
       "3  부산광역시  남구      ...               1968.0     2018-08-14\n",
       "4  부산광역시  남구      ...               1970.0     2018-08-14\n",
       "\n",
       "[5 rows x 13 columns]"
      ]
     },
     "execution_count": 10,
     "metadata": {},
     "output_type": "execute_result"
    }
   ],
   "source": [
    "park.head()"
   ]
  },
  {
   "cell_type": "code",
   "execution_count": 11,
   "metadata": {},
   "outputs": [
    {
     "data": {
      "text/html": [
       "<div>\n",
       "<style scoped>\n",
       "    .dataframe tbody tr th:only-of-type {\n",
       "        vertical-align: middle;\n",
       "    }\n",
       "\n",
       "    .dataframe tbody tr th {\n",
       "        vertical-align: top;\n",
       "    }\n",
       "\n",
       "    .dataframe thead th {\n",
       "        text-align: right;\n",
       "    }\n",
       "</style>\n",
       "<table border=\"1\" class=\"dataframe\">\n",
       "  <thead>\n",
       "    <tr style=\"text-align: right;\">\n",
       "      <th></th>\n",
       "      <th>city</th>\n",
       "      <th>gu</th>\n",
       "      <th>day_care_name</th>\n",
       "      <th>day_care_type</th>\n",
       "      <th>day_care_baby_num</th>\n",
       "      <th>teacher_num</th>\n",
       "      <th>nursing_room_num</th>\n",
       "      <th>playground_num</th>\n",
       "      <th>CCTV_num</th>\n",
       "      <th>is_commuting_vehicle</th>\n",
       "      <th>reference_date</th>\n",
       "    </tr>\n",
       "  </thead>\n",
       "  <tbody>\n",
       "    <tr>\n",
       "      <th>0</th>\n",
       "      <td>서울특별시</td>\n",
       "      <td>서대문구</td>\n",
       "      <td>가람어린이집</td>\n",
       "      <td>국공립</td>\n",
       "      <td>70</td>\n",
       "      <td>11.0</td>\n",
       "      <td>5.0</td>\n",
       "      <td>1.0</td>\n",
       "      <td>7.0</td>\n",
       "      <td>N</td>\n",
       "      <td>2018-07-31</td>\n",
       "    </tr>\n",
       "    <tr>\n",
       "      <th>1</th>\n",
       "      <td>서울특별시</td>\n",
       "      <td>서대문구</td>\n",
       "      <td>가좌제일어린이집</td>\n",
       "      <td>국공립</td>\n",
       "      <td>88</td>\n",
       "      <td>22.0</td>\n",
       "      <td>5.0</td>\n",
       "      <td>2.0</td>\n",
       "      <td>10.0</td>\n",
       "      <td>N</td>\n",
       "      <td>2018-07-31</td>\n",
       "    </tr>\n",
       "    <tr>\n",
       "      <th>2</th>\n",
       "      <td>서울특별시</td>\n",
       "      <td>서대문구</td>\n",
       "      <td>경찰청어린이집</td>\n",
       "      <td>직장</td>\n",
       "      <td>90</td>\n",
       "      <td>23.0</td>\n",
       "      <td>6.0</td>\n",
       "      <td>1.0</td>\n",
       "      <td>32.0</td>\n",
       "      <td>N</td>\n",
       "      <td>2018-07-31</td>\n",
       "    </tr>\n",
       "    <tr>\n",
       "      <th>3</th>\n",
       "      <td>서울특별시</td>\n",
       "      <td>서대문구</td>\n",
       "      <td>고운햇살어린이집</td>\n",
       "      <td>가정</td>\n",
       "      <td>18</td>\n",
       "      <td>5.0</td>\n",
       "      <td>3.0</td>\n",
       "      <td>0.0</td>\n",
       "      <td>4.0</td>\n",
       "      <td>N</td>\n",
       "      <td>2018-07-31</td>\n",
       "    </tr>\n",
       "    <tr>\n",
       "      <th>4</th>\n",
       "      <td>서울특별시</td>\n",
       "      <td>서대문구</td>\n",
       "      <td>고은어린이집</td>\n",
       "      <td>국공립</td>\n",
       "      <td>93</td>\n",
       "      <td>20.0</td>\n",
       "      <td>7.0</td>\n",
       "      <td>2.0</td>\n",
       "      <td>10.0</td>\n",
       "      <td>N</td>\n",
       "      <td>2018-07-31</td>\n",
       "    </tr>\n",
       "  </tbody>\n",
       "</table>\n",
       "</div>"
      ],
      "text/plain": [
       "    city    gu      ...       is_commuting_vehicle reference_date\n",
       "0  서울특별시  서대문구      ...                          N     2018-07-31\n",
       "1  서울특별시  서대문구      ...                          N     2018-07-31\n",
       "2  서울특별시  서대문구      ...                          N     2018-07-31\n",
       "3  서울특별시  서대문구      ...                          N     2018-07-31\n",
       "4  서울특별시  서대문구      ...                          N     2018-07-31\n",
       "\n",
       "[5 rows x 11 columns]"
      ]
     },
     "execution_count": 11,
     "metadata": {},
     "output_type": "execute_result"
    }
   ],
   "source": [
    "care_center.head()"
   ]
  },
  {
   "cell_type": "markdown",
   "metadata": {},
   "source": [
    "## Pre-processing"
   ]
  },
  {
   "cell_type": "code",
   "execution_count": 12,
   "metadata": {},
   "outputs": [],
   "source": [
    "def park_transform(data):\n",
    "    # data cleaning and outlier replace\n",
    "    features = ['park_exercise_facility', 'park_entertainment_facility', 'park_benefit_facility', 'park_cultural_facitiy', 'park_facility_other']\n",
    "    for feature in features:\n",
    "        data.loc[data[feature]=='없음', feature] = 'nan'\n",
    "        data[feature] = data[feature].apply(lambda x: str(x).replace('\"', '')).apply(lambda x: 0 if x=='nan' else 1).astype(int)\n",
    "    \n",
    "    # remove unused data\n",
    "    data = data.iloc[:, :-2]\n",
    "    \n",
    "    # data aggregate\n",
    "    data = data.groupby(['city', 'gu', 'dong']).agg({'park_name':['size'], \n",
    "                                                     'park_area':['sum'],\n",
    "                                                     'park_exercise_facility':['sum'], \n",
    "                                                     'park_entertainment_facility':['sum'],\n",
    "                                                     'park_benefit_facility':['sum'],\n",
    "                                                     'park_cultural_facitiy':['sum'],\n",
    "                                                     'park_facility_other':['sum']}).reset_index()\n",
    "    \n",
    "    # remove multi columns\n",
    "    data.columns = data.columns.droplevel(1)\n",
    "\n",
    "    # data reaggregate for merge / multe columns remove\n",
    "    data2 = data.groupby(['city', 'dong']).agg({'gu':['first']}).reset_index()\n",
    "    data2.columns = data2.columns.droplevel(1)\n",
    "    data = pd.merge(data2, data.groupby(['city', 'dong']).mean().reset_index(), how='left', on=['city', 'dong'])\n",
    "    \n",
    "    return data"
   ]
  },
  {
   "cell_type": "code",
   "execution_count": 13,
   "metadata": {},
   "outputs": [],
   "source": [
    "park = park_transform(data=park)\n",
    "\n",
    "# apart data and park data merge \n",
    "train = pd.merge(train, park, how='left', on=['city', 'dong'])\n",
    "test = pd.merge(test, park, how='left', on=['city', 'dong'])"
   ]
  },
  {
   "cell_type": "code",
   "execution_count": 14,
   "metadata": {},
   "outputs": [],
   "source": [
    "def care_center_transform(data):\n",
    "    # data aggregate\n",
    "    data = data.iloc[:, :-1].groupby(['city', 'gu']).agg({'day_care_name':['size'], \n",
    "                                                          'day_care_baby_num':['sum'],\n",
    "                                                          'teacher_num':['sum'], \n",
    "                                                          'nursing_room_num':['sum'],\n",
    "                                                          'playground_num':['sum'],\n",
    "                                                          'CCTV_num':['sum']}).reset_index()\n",
    "    \n",
    "    # remove multi columns\n",
    "    data.columns = data.columns.droplevel(1)\n",
    "    \n",
    "    return data"
   ]
  },
  {
   "cell_type": "code",
   "execution_count": 15,
   "metadata": {},
   "outputs": [],
   "source": [
    "care_center = care_center_transform(care_center)\n",
    "\n",
    "# apart data and care_center merge\n",
    "train = train.merge(care_center, how='left', on=['city', 'gu']).fillna(0)\n",
    "test = test.merge(care_center, how='left', on=['city', 'gu']).fillna(0)"
   ]
  },
  {
   "cell_type": "markdown",
   "metadata": {},
   "source": [
    "## Feature engineering"
   ]
  },
  {
   "cell_type": "code",
   "execution_count": 16,
   "metadata": {},
   "outputs": [
    {
     "data": {
      "image/png": "[encoded data removed]",
      "text/plain": [
       "<Figure size 1440x504 with 2 Axes>"
      ]
     },
     "metadata": {},
     "output_type": "display_data"
    }
   ],
   "source": [
    "nrow=1;ncol=2\n",
    "plt.subplots(nrows=nrow, ncols=ncol, figsize=(20, 7))\n",
    "\n",
    "plt.subplot(nrow, ncol, 1)\n",
    "sns.distplot(train['transaction_real_price']).set_title('transaction_real_price')\n",
    "\n",
    "plt.subplot(nrow, ncol, 2)\n",
    "sns.distplot(train['transaction_real_price']/train['exclusive_use_area']).set_title('transaction_real_price / exclusive_use_area')\n",
    "plt.xlabel('transaction_real_price / exclusive_use_area')\n",
    "plt.show()"
   ]
  },
  {
   "cell_type": "markdown",
   "metadata": {},
   "source": [
    "파생 변수를 만들기 위해 아파트의 가격을 그냥 사용하기보다 단위 면적 당 가격을 사용한다.\n",
    "\n",
    "그 이유는 단위가 작아지기 때문에 과소, 과대추정에 보다 유리하다.\n",
    "\n",
    "또한 target variable를 사용하여 feture engineering을 진행하는 경우 overfit의 위험이 높아지는 데 그것을 조금 감소시킬 수 있다."
   ]
  },
  {
   "cell_type": "code",
   "execution_count": 17,
   "metadata": {},
   "outputs": [],
   "source": [
    "train['var_1'] = train['transaction_real_price']/train['exclusive_use_area']\n",
    "\n",
    "# remove y\n",
    "y=train['transaction_real_price']\n",
    "train.drop(columns='transaction_real_price', inplace=True)"
   ]
  },
  {
   "cell_type": "code",
   "execution_count": 18,
   "metadata": {},
   "outputs": [
    {
     "data": {
      "image/png": "[encoded data removed]",
      "text/plain": [
       "<Figure size 1440x504 with 2 Axes>"
      ]
     },
     "metadata": {},
     "output_type": "display_data"
    }
   ],
   "source": [
    "nrow=1;ncol=2\n",
    "plt.subplots(nrows=nrow, ncols=ncol, figsize=(20, 7))\n",
    "\n",
    "plt.subplot(nrow, ncol, 1)\n",
    "sns.distplot(y).set_title('transaction_real_price')\n",
    "\n",
    "plt.subplot(nrow, ncol, 2)\n",
    "sns.distplot(np.log(y)).set_title('log(transaction_real_price)')\n",
    "plt.xlabel('log(transaction_real_price)')\n",
    "plt.show()"
   ]
  },
  {
   "cell_type": "markdown",
   "metadata": {},
   "source": [
    "target variable인 아파트의 실거래가는 log를 취해준 채로 예측을 하였다.\n",
    "\n",
    "target variable의 skew되어 있는데, 이것을 log를 취해줌으로써 target variable의 정규성을 보다 만족하고 더불어 잔차의 skew도 완화시키는 장점이 있다.\n",
    "\n",
    "또한, 단위가 감소하여 과대, 과소추정을 완화시킬 수 있다."
   ]
  },
  {
   "cell_type": "code",
   "execution_count": 19,
   "metadata": {},
   "outputs": [],
   "source": [
    "train = train.iloc[:, 1:]\n",
    "test = test.iloc[:, 1:]\n",
    "y = np.log(y)"
   ]
  },
  {
   "cell_type": "markdown",
   "metadata": {},
   "source": [
    "### mean encoding\n",
    "회귀와 분류문제에서 mean encoding은 효과적으로 점수를 상승시킬 수 있는 방법이다.\n",
    "\n",
    "그러나 overfit의 위험이 내재되어 있기 때문에 여러가지 방법으로 ovefit을 방지한다.\n",
    "\n",
    "Using the prior probability for regularisation, K-fold regularisation for mean encodings 등의 방법이 있는데\n",
    "\n",
    "그러나 여기서는 2가지 방법 모두 점수가 하락하였다.\n",
    "\n",
    "추츤컨데, train data의 양과 test data의 양이 많은 차이가 있기 때문이 아닐까 생각해보았다.\n",
    "\n",
    "결론적으로 mean encoding을 실행하였지만, overfit을 방지하기 위한 장치는 사용하지 않았다."
   ]
  },
  {
   "cell_type": "code",
   "execution_count": 20,
   "metadata": {},
   "outputs": [],
   "source": [
    "# train mean encoding\n",
    "train = pd.merge(train, train[['apartment_id', 'var_1']].groupby('apartment_id').mean().reset_index().rename(columns={'var_1':'apartment_id_mean'}), how='left', on='apartment_id')\n",
    "train = pd.merge(train, train[['gu', 'var_1']].groupby('gu').mean().reset_index().rename(columns={'var_1':'gu_mean'}), how='left', on='gu')\n",
    "train = pd.merge(train, train[['dong', 'var_1']].groupby('dong').mean().reset_index().rename(columns={'var_1':'dong_mean'}), how='left', on='dong')\n",
    "train = pd.merge(train, train[['apt', 'var_1']].groupby('apt').mean().reset_index().rename(columns={'var_1':'apt_mean'}), how='left', on='apt')\n",
    "train = pd.merge(train, train[['addr_kr', 'var_1']].groupby('addr_kr').mean().reset_index().rename(columns={'var_1':'addr_kr_mean'}), how='left', on='addr_kr')\n",
    "train = pd.merge(train, train[['jibun', 'var_1']].groupby('jibun').mean().reset_index().rename(columns={'var_1':'jibun_mean'}), how='left', on='jibun')\n",
    "train = pd.merge(train, train[['floor', 'var_1']].groupby('floor').mean().reset_index().rename(columns={'var_1':'floor_mean'}), how='left', on='floor')\n",
    "train.drop(columns='var_1', inplace=True)\n",
    "\n",
    "# test mean encoding\n",
    "test = pd.merge(test, train[['apartment_id', 'apartment_id_mean']].drop_duplicates(), how='left', on='apartment_id')\n",
    "test = pd.merge(test, train[['gu', 'gu_mean']].drop_duplicates(), how='left', on='gu')\n",
    "test = pd.merge(test, train[['dong', 'dong_mean']].drop_duplicates(), how='left', on='dong')\n",
    "test = pd.merge(test, train[['apt', 'apt_mean']].drop_duplicates(), how='left', on='apt')\n",
    "test = pd.merge(test, train[['addr_kr', 'addr_kr_mean']].drop_duplicates(), how='left', on='addr_kr')\n",
    "test = pd.merge(test, train[['jibun', 'jibun_mean']].drop_duplicates(), how='left', on='jibun')\n",
    "test = pd.merge(test, train[['floor', 'floor_mean']].drop_duplicates(), how='left', on='floor')\n",
    "\n",
    "# train, test data merge\n",
    "data = pd.concat([train, test], sort=False)"
   ]
  },
  {
   "cell_type": "markdown",
   "metadata": {},
   "source": [
    "mean encoding의 기준은 one hot encoding을 할 수 없는 만큼의 unique value를 가지고 있는 feature들을 선정하였다.\n",
    "\n",
    "또한 Label encoding과 one hot encoding을 실행하기 위해 train, test data를 merge하였다."
   ]
  },
  {
   "cell_type": "code",
   "execution_count": 21,
   "metadata": {},
   "outputs": [],
   "source": [
    "# fill na value with median\n",
    "for feature in data.columns[data.isnull().sum()!=0]:\n",
    "    data[feature] = data[feature].fillna(data[feature].median())"
   ]
  },
  {
   "cell_type": "markdown",
   "metadata": {},
   "source": [
    "안타깝게도 test data에 있는 값들이 train data에 없는 경우가 있었기에 median으로 대체하였다."
   ]
  },
  {
   "cell_type": "code",
   "execution_count": 22,
   "metadata": {},
   "outputs": [],
   "source": [
    "# 각 gu, dong, jibun, addr_kr에서 apart의 count\n",
    "data = pd.merge(data, data[['gu', 'apartment_id']].groupby('gu').count().reset_index().rename(columns={'apartment_id':'apt_count_gu'}), how='left', on='gu')\n",
    "data = pd.merge(data, data[['dong', 'apartment_id']].groupby('dong').count().reset_index().rename(columns={'apartment_id':'apt_count_dong'}), how='left', on='dong')\n",
    "data = pd.merge(data, data[['jibun', 'apartment_id']].groupby('jibun').count().reset_index().rename(columns={'apartment_id':'apt_count_jibun'}), how='left', on='jibun')\n",
    "data = pd.merge(data, data[['addr_kr', 'apartment_id']].groupby('addr_kr').count().reset_index().rename(columns={'apartment_id':'apt_count_addr_kr'}), how='left', on='addr_kr')\n",
    "data = pd.merge(data, data[['apartment_id', 'floor']].groupby('apartment_id').median().reset_index().rename(columns={'floor':'floor_median'}), how='left', on='apartment_id')\n",
    "\n",
    "# transaction_year_month를 year와 month로 분리\n",
    "data['transaction_year'] = data['transaction_year_month'].apply(lambda x: int(str(x)[:4]))\n",
    "data['transaction_month'] = data['transaction_year_month'].apply(lambda x: int(str(x)[4:]))\n",
    "data['diff_year'] = data['transaction_year'] - data['year_of_completion']\n",
    "\n",
    "# add rebuilding feature(30년 기준)\n",
    "data['rebuilding'] = data['diff_year'].apply(lambda x: 1 if x>=30 else 0)\n",
    "data['floor2'] = data['floor'].apply(lambda x: 1 if x<=30 else 2)\n",
    "\n",
    "# label encoding\n",
    "label_features = ['apartment_id', 'gu', 'dong', 'apt', 'jibun', 'addr_kr', 'transaction_year_month']\n",
    "for feature in label_features:\n",
    "    data[feature] = LabelEncoder().fit_transform(data[feature].astype(str))\n",
    "\n",
    "# one hot encoding\n",
    "dummy_features = ['city', 'transaction_date', 'year_of_completion', 'transaction_year', 'transaction_month', 'rebuilding', 'floor2']\n",
    "data = pd.concat([data.drop(columns=dummy_features), pd.get_dummies(data[dummy_features].astype(str))], axis=1)\n",
    "\n",
    "# missing data count\n",
    "data['count_0'] = (data==0).sum(axis=1)\n",
    "data['count_1'] = (data==1).sum(axis=1)"
   ]
  },
  {
   "cell_type": "code",
   "execution_count": 23,
   "metadata": {},
   "outputs": [],
   "source": [
    "# separate train, test data\n",
    "train = data.iloc[:train.shape[0], :]\n",
    "test = data.iloc[train.shape[0]:, :]"
   ]
  },
  {
   "cell_type": "markdown",
   "metadata": {},
   "source": [
    "## modeling"
   ]
  },
  {
   "cell_type": "code",
   "execution_count": 24,
   "metadata": {},
   "outputs": [],
   "source": [
    "param = {'num_leaves': 200,\n",
    "         'min_data_in_leaf': 32, \n",
    "         'objective':'regression',\n",
    "         'max_depth': 16,\n",
    "         'learning_rate': 0.1,\n",
    "         \"min_child_samples\": 30,\n",
    "         \"boosting\": \"gbdt\",\n",
    "         \"feature_fraction\": 0.9,\n",
    "         \"bagging_freq\": 1,\n",
    "         \"bagging_fraction\": 0.9 ,\n",
    "         \"bagging_seed\": 42,\n",
    "         \"metric\": 'rmse',\n",
    "         \"lambda_l1\": 0.1\n",
    "         }"
   ]
  },
  {
   "cell_type": "markdown",
   "metadata": {},
   "source": [
    "파라미터의 경우 휴리스틱하게 진행하였고, learning time을 줄이기 위해 learning_rate를 0.1로 고정하였다."
   ]
  },
  {
   "cell_type": "code",
   "execution_count": 25,
   "metadata": {},
   "outputs": [
    {
     "data": {
      "application/vnd.jupyter.widget-view+json": {
       "model_id": "c4fda6d371cf4ad89c7c89d0455b83f8",
       "version_major": 2,
       "version_minor": 0
      },
      "text/plain": [
       "HBox(children=(IntProgress(value=0, description='training...', max=5, style=ProgressStyle(description_width='i…"
      ]
     },
     "metadata": {},
     "output_type": "display_data"
    },
    {
     "name": "stdout",
     "output_type": "stream",
     "text": [
      "Training until validation scores don't improve for 500 rounds.\n",
      "Early stopping, best iteration is:\n",
      "[2585]\ttraining's rmse: 0.0515386\tvalid_1's rmse: 0.0713213\n",
      "3390.2941230120996\n",
      "Training until validation scores don't improve for 500 rounds.\n",
      "Early stopping, best iteration is:\n",
      "[2668]\ttraining's rmse: 0.0510871\tvalid_1's rmse: 0.0715776\n",
      "3527.71760188635\n",
      "Training until validation scores don't improve for 500 rounds.\n",
      "Early stopping, best iteration is:\n",
      "[3008]\ttraining's rmse: 0.049392\tvalid_1's rmse: 0.0731492\n",
      "3809.297987425938\n",
      "Training until validation scores don't improve for 500 rounds.\n",
      "Early stopping, best iteration is:\n",
      "[2719]\ttraining's rmse: 0.050776\tvalid_1's rmse: 0.0721657\n",
      "3482.293698836335\n",
      "Training until validation scores don't improve for 500 rounds.\n",
      "Early stopping, best iteration is:\n",
      "[2650]\ttraining's rmse: 0.0512253\tvalid_1's rmse: 0.0712591\n",
      "3383.812195910567\n",
      "\n"
     ]
    }
   ],
   "source": [
    "oof = np.zeros(len(train))\n",
    "predictions = np.zeros(len(test))\n",
    "\n",
    "splits=5\n",
    "kf = KFold(n_splits=splits, random_state=42, shuffle=True)\n",
    "\n",
    "with tqdm_notebook(total=splits, desc='training...') as pbar:\n",
    "    for tr_idx, val_idx in kf.split(train, y):\n",
    "        \n",
    "        lgb_train = lgb.Dataset(train.loc[tr_idx], label=y[tr_idx])\n",
    "        lgb_valid = lgb.Dataset(train.loc[val_idx], label=y[val_idx])\n",
    "\n",
    "        reg = lgb.train(param, lgb_train, 100000, valid_sets = [lgb_train, lgb_valid], early_stopping_rounds = 500, verbose_eval=5000)\n",
    "\n",
    "        oof[val_idx] = reg.predict(train.loc[val_idx], num_iteration=reg.best_iteration)\n",
    "        predictions += reg.predict(test, num_iteration=reg.best_iteration)/kf.n_splits\n",
    "        \n",
    "        print(np.sqrt(mean_squared_error(np.exp(y[val_idx]), np.exp(oof[val_idx]))))\n",
    "        \n",
    "        sleep(0.1)\n",
    "        pbar.update(1)"
   ]
  },
  {
   "cell_type": "markdown",
   "metadata": {},
   "source": [
    "tqdm을 사용하여 진행시간을 확인하고자 하였고, oof를 사용하여 일반화하였다."
   ]
  },
  {
   "cell_type": "code",
   "execution_count": 26,
   "metadata": {},
   "outputs": [
    {
     "data": {
      "text/plain": [
       "3522.10721954149"
      ]
     },
     "execution_count": 26,
     "metadata": {},
     "output_type": "execute_result"
    }
   ],
   "source": [
    "np.sqrt(mean_squared_error(np.exp(y), np.exp(oof)))"
   ]
  },
  {
   "cell_type": "code",
   "execution_count": 27,
   "metadata": {},
   "outputs": [],
   "source": [
    "sub = pd.read_csv(path+'submission.csv')\n",
    "sub['transaction_real_price']=np.exp(predictions)\n",
    "sub.to_csv('submission.csv', index=False)"
   ]
  },
  {
   "cell_type": "code",
   "execution_count": 28,
   "metadata": {},
   "outputs": [],
   "source": []
  }
 ],
 "metadata": {
  "kernelspec": {
   "display_name": "Python 3",
   "language": "python",
   "name": "python3"
  },
  "language_info": {
   "codemirror_mode": {
    "name": "ipython",
    "version": 3
   },
   "file_extension": ".py",
   "mimetype": "text/x-python",
   "name": "python",
   "nbconvert_exporter": "python",
   "pygments_lexer": "ipython3",
   "version": "3.7.0"
  }
 },
 "nbformat": 4,
 "nbformat_minor": 1
}
